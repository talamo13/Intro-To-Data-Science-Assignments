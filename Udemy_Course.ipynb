{
  "nbformat": 4,
  "nbformat_minor": 0,
  "metadata": {
    "colab": {
      "provenance": [],
      "authorship_tag": "ABX9TyPm7mysQh3tseMIR4GNXVOm",
      "include_colab_link": true
    },
    "kernelspec": {
      "name": "python3",
      "display_name": "Python 3"
    },
    "language_info": {
      "name": "python"
    }
  },
  "cells": [
    {
      "cell_type": "markdown",
      "metadata": {
        "id": "view-in-github",
        "colab_type": "text"
      },
      "source": [
        "<a href=\"https://colab.research.google.com/github/talamo13/Intro-To-Data-Science-Assignments/blob/Udemy-Courses/Udemy_Course.ipynb\" target=\"_parent\"><img src=\"https://colab.research.google.com/assets/colab-badge.svg\" alt=\"Open In Colab\"/></a>"
      ]
    },
    {
      "cell_type": "markdown",
      "source": [
        "#**Udemy Course Exploration**"
      ],
      "metadata": {
        "id": "SEluEi0OAWY9"
      }
    },
    {
      "cell_type": "markdown",
      "source": [
        "##**Context**"
      ],
      "metadata": {
        "id": "vIhuo8a4Aw5V"
      }
    },
    {
      "cell_type": "markdown",
      "source": [
        "Udemy is a massive online open course (MOOC) platform that offers both free and paid courses. Anybody can create a course, a business model by which allowed Udemy to have hundreds of thousands of courses."
      ],
      "metadata": {
        "id": "KiaVyHgcAz9s"
      }
    },
    {
      "cell_type": "markdown",
      "source": [
        "##**About Dataset**"
      ],
      "metadata": {
        "id": "bfO4tW8eA1oM"
      }
    },
    {
      "cell_type": "markdown",
      "source": [
        "This dataset contains 3,673 records of courses from 4 subjects (Business Finance, Graphic Design, Musical Instruments, and Web Design) taken from Udemy"
      ],
      "metadata": {
        "id": "Xn0N-AzOA5Mj"
      }
    },
    {
      "cell_type": "markdown",
      "source": [
        "A total of 12 variables are provided as listed below:\n",
        "\n",
        "| Variable Name(s)  | Description                                     |\n",
        "|-------------------|-------------------------------------------------|\n",
        "| course_id         | id field for courses                            |\n",
        "| course_title      | title field for courses                         |\n",
        "| url               | url field to course page                        |\n",
        "| is_paid           | True for Paid / False for Free                  |\n",
        "| price             | price field for course fee                      |\n",
        "| num_subscribers   | demand field for each courses                   |\n",
        "| num_reviews       | review number for each courses                  |\n",
        "| num_lectures      | lecture per course                              |\n",
        "| level             | course level by trainee experience              |\n",
        "| content_duration  | course duration in hours                        |\n",
        "| published_timestamp | timestamp field for publication              |\n",
        "| subject           | course type field                               |\n",
        "\n",
        "A snippet of the data is as follows:\n"
      ],
      "metadata": {
        "id": "DogpCxAZA9K4"
      }
    },
    {
      "cell_type": "code",
      "execution_count": 1,
      "metadata": {
        "id": "G2x0IH7EAPqC"
      },
      "outputs": [],
      "source": [
        "# write the snipper code here!"
      ]
    },
    {
      "cell_type": "markdown",
      "source": [
        "##**Assignment 3**"
      ],
      "metadata": {
        "id": "xT0TPHaIBaaM"
      }
    },
    {
      "cell_type": "markdown",
      "source": [
        "**Statistical Inference for One Sample Proportion and Mean**\n",
        "\n",
        "This assignment is on inferential statistics. Use SPSS to conduct the analysis and complete each of the following questions. As appropriate, copy the SPSS output and paste it into the correct part below. For problems that require a written response, type the answer below.\n",
        "\n",
        "**NOTE: Delete the questions you are not answering.**"
      ],
      "metadata": {
        "id": "lk5a3SdYBfee"
      }
    },
    {
      "cell_type": "markdown",
      "source": [
        "###**Last Name: A-L**"
      ],
      "metadata": {
        "id": "vy9UwBRqBqqZ"
      }
    },
    {
      "cell_type": "markdown",
      "source": [
        "####**Question 1**"
      ],
      "metadata": {
        "id": "rOB-KlG8Bz9J"
      }
    },
    {
      "cell_type": "markdown",
      "source": [
        "Construct and interpret the 95% confidence interval for the population proportion of all Udemy courses that have the subject area in business finance. Write up the solution using the PMACC procedure."
      ],
      "metadata": {
        "id": "_h5Di3RnB19G"
      }
    },
    {
      "cell_type": "code",
      "source": [],
      "metadata": {
        "id": "xJu3DeOtBci1"
      },
      "execution_count": null,
      "outputs": []
    },
    {
      "cell_type": "markdown",
      "source": [
        "####**Question 2**"
      ],
      "metadata": {
        "id": "4jpecVqLB3R4"
      }
    },
    {
      "cell_type": "markdown",
      "source": [
        "Is there convincing evidence that the population mean course fee is more than $50? Use α=0.1. Write up the solution using the PMACC procedure."
      ],
      "metadata": {
        "id": "17dH_FX1B84F"
      }
    },
    {
      "cell_type": "code",
      "source": [],
      "metadata": {
        "id": "sIcg1hqtB4qu"
      },
      "execution_count": null,
      "outputs": []
    },
    {
      "cell_type": "markdown",
      "source": [
        "####**Question 3**"
      ],
      "metadata": {
        "id": "ZIJNJyWgB-HB"
      }
    },
    {
      "cell_type": "markdown",
      "source": [
        "Generate a paragraph of at least 100 words to address one of the following questions\n",
        "\n",
        "a) Discuss how analyzing your chosen data set using statistical methods could help you become better prepared for future courses in your major.\n",
        "\n",
        "b) Discuss how analyzing your chosen data set using statistical methods could be instrumental in becoming better prepared for your future career."
      ],
      "metadata": {
        "id": "zIvvG95sCD81"
      }
    },
    {
      "cell_type": "markdown",
      "source": [
        "###**Last Name: M-Z**"
      ],
      "metadata": {
        "id": "I0sG-HI9CM8K"
      }
    },
    {
      "cell_type": "markdown",
      "source": [
        "####**Question 1**"
      ],
      "metadata": {
        "id": "jX0B4lqBCQfn"
      }
    },
    {
      "cell_type": "markdown",
      "source": [
        "Construct and interpret the 90% confidence interval for the population mean course fee. Write up the solution using the PMACC procedure."
      ],
      "metadata": {
        "id": "Pj2QgF2bCTYt"
      }
    },
    {
      "cell_type": "code",
      "source": [],
      "metadata": {
        "id": "XZ9WzCP-COtZ"
      },
      "execution_count": null,
      "outputs": []
    },
    {
      "cell_type": "markdown",
      "source": [
        "####**Question 2**"
      ],
      "metadata": {
        "id": "_nPvUTAbCX9J"
      }
    },
    {
      "cell_type": "markdown",
      "source": [
        "Is there convincing evidence that the population proportion of all insured who were smokers is more than 30%? Use α=0.05. Write up the solution using the PMACC procedure"
      ],
      "metadata": {
        "id": "eT9pqcWdCaN_"
      }
    },
    {
      "cell_type": "code",
      "source": [],
      "metadata": {
        "id": "g0JqH-yXCZlj"
      },
      "execution_count": null,
      "outputs": []
    },
    {
      "cell_type": "markdown",
      "source": [
        "####**Question 3**"
      ],
      "metadata": {
        "id": "6OQT-CCbCbFk"
      }
    },
    {
      "cell_type": "markdown",
      "source": [
        "Generate a paragraph of at least 100 words to address one of the following questions:\n",
        "\n",
        "a) Discuss how analyzing your chosen data set using statistical methods could help you become better prepared for future courses in your major.\n",
        "\n",
        "b) Discuss how analyzing your chosen data set using statistical methods could be instrumental in becoming better prepared for your future career."
      ],
      "metadata": {
        "id": "YZc30vK1CfVK"
      }
    }
  ]
}