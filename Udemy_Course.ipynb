{
  "nbformat": 4,
  "nbformat_minor": 0,
  "metadata": {
    "colab": {
      "provenance": [],
      "authorship_tag": "ABX9TyPC2tNltZ2hi+JIZdtikj5P",
      "include_colab_link": true
    },
    "kernelspec": {
      "name": "python3",
      "display_name": "Python 3"
    },
    "language_info": {
      "name": "python"
    }
  },
  "cells": [
    {
      "cell_type": "markdown",
      "metadata": {
        "id": "view-in-github",
        "colab_type": "text"
      },
      "source": [
        "<a href=\"https://colab.research.google.com/github/talamo13/Intro-To-Data-Science-Assignments/blob/Udemy-Courses/Udemy_Course.ipynb\" target=\"_parent\"><img src=\"https://colab.research.google.com/assets/colab-badge.svg\" alt=\"Open In Colab\"/></a>"
      ]
    },
    {
      "cell_type": "markdown",
      "source": [
        "#**Udemy Course Exploration**"
      ],
      "metadata": {
        "id": "SEluEi0OAWY9"
      }
    },
    {
      "cell_type": "markdown",
      "source": [
        "##**Context**"
      ],
      "metadata": {
        "id": "vIhuo8a4Aw5V"
      }
    },
    {
      "cell_type": "markdown",
      "source": [
        "Udemy is a massive online open course (MOOC) platform that offers both free and paid courses. Anybody can create a course, a business model by which allowed Udemy to have hundreds of thousands of courses."
      ],
      "metadata": {
        "id": "KiaVyHgcAz9s"
      }
    },
    {
      "cell_type": "markdown",
      "source": [
        "##**About Dataset**"
      ],
      "metadata": {
        "id": "bfO4tW8eA1oM"
      }
    },
    {
      "cell_type": "markdown",
      "source": [
        "This dataset contains 3,673 records of courses from 4 subjects (Business Finance, Graphic Design, Musical Instruments, and Web Design) taken from Udemy"
      ],
      "metadata": {
        "id": "Xn0N-AzOA5Mj"
      }
    },
    {
      "cell_type": "markdown",
      "source": [
        "A total of 12 variables are provided as listed below:\n",
        "\n",
        "| Variable Name(s)  | Description                                     |\n",
        "|-------------------|-------------------------------------------------|\n",
        "| course_id         | id field for courses                            |\n",
        "| course_title      | title field for courses                         |\n",
        "| url               | url field to course page                        |\n",
        "| is_paid           | True for Paid / False for Free                  |\n",
        "| price             | price field for course fee                      |\n",
        "| num_subscribers   | demand field for each courses                   |\n",
        "| num_reviews       | review number for each courses                  |\n",
        "| num_lectures      | lecture per course                              |\n",
        "| level             | course level by trainee experience              |\n",
        "| content_duration  | course duration in hours                        |\n",
        "| published_timestamp | timestamp field for publication              |\n",
        "| subject           | course type field                               |\n",
        "\n",
        "A snippet of the data is as follows:\n"
      ],
      "metadata": {
        "id": "DogpCxAZA9K4"
      }
    },
    {
      "cell_type": "code",
      "execution_count": 2,
      "metadata": {
        "id": "G2x0IH7EAPqC",
        "outputId": "0aa2eec5-bbe3-4fdd-ffe6-cbaf171cfd77",
        "colab": {
          "base_uri": "https://localhost:8080/",
          "height": 487
        }
      },
      "outputs": [
        {
          "output_type": "execute_result",
          "data": {
            "text/plain": [
              "   course_id                                       course_title  \\\n",
              "0    1070968                 Ultimate Investment Banking Course   \n",
              "1    1113822  Complete GST Course & Certification - Grow You...   \n",
              "2    1006314  Financial Modeling for Business Analysts and C...   \n",
              "3    1210588  Beginner to Pro - Financial Analysis in Excel ...   \n",
              "4    1011058       How To Maximize Your Profits Trading Options   \n",
              "\n",
              "                                                 url  is_paid  price  \\\n",
              "0  https://www.udemy.com/ultimate-investment-bank...     True    200   \n",
              "1      https://www.udemy.com/goods-and-services-tax/     True     75   \n",
              "2  https://www.udemy.com/financial-modeling-for-b...     True     45   \n",
              "3  https://www.udemy.com/complete-excel-finance-c...     True     95   \n",
              "4  https://www.udemy.com/how-to-maximize-your-pro...     True    200   \n",
              "\n",
              "   num_subscribers  num_reviews  num_lectures               level  \\\n",
              "0             2147           23            51          All Levels   \n",
              "1             2792          923           274          All Levels   \n",
              "2             2174           74            51  Intermediate Level   \n",
              "3             2451           11            36          All Levels   \n",
              "4             1276           45            26  Intermediate Level   \n",
              "\n",
              "   content_duration   published_timestamp           subject  \n",
              "0               1.5  2017-01-18T20:58:58Z  Business Finance  \n",
              "1              39.0  2017-03-09T16:34:20Z  Business Finance  \n",
              "2               2.5  2016-12-19T19:26:30Z  Business Finance  \n",
              "3               3.0  2017-05-30T20:07:24Z  Business Finance  \n",
              "4               2.0  2016-12-13T14:57:18Z  Business Finance  "
            ],
            "text/html": [
              "\n",
              "  <div id=\"df-a94fd2fd-101e-4812-8c86-c17e5d8317af\" class=\"colab-df-container\">\n",
              "    <div>\n",
              "<style scoped>\n",
              "    .dataframe tbody tr th:only-of-type {\n",
              "        vertical-align: middle;\n",
              "    }\n",
              "\n",
              "    .dataframe tbody tr th {\n",
              "        vertical-align: top;\n",
              "    }\n",
              "\n",
              "    .dataframe thead th {\n",
              "        text-align: right;\n",
              "    }\n",
              "</style>\n",
              "<table border=\"1\" class=\"dataframe\">\n",
              "  <thead>\n",
              "    <tr style=\"text-align: right;\">\n",
              "      <th></th>\n",
              "      <th>course_id</th>\n",
              "      <th>course_title</th>\n",
              "      <th>url</th>\n",
              "      <th>is_paid</th>\n",
              "      <th>price</th>\n",
              "      <th>num_subscribers</th>\n",
              "      <th>num_reviews</th>\n",
              "      <th>num_lectures</th>\n",
              "      <th>level</th>\n",
              "      <th>content_duration</th>\n",
              "      <th>published_timestamp</th>\n",
              "      <th>subject</th>\n",
              "    </tr>\n",
              "  </thead>\n",
              "  <tbody>\n",
              "    <tr>\n",
              "      <th>0</th>\n",
              "      <td>1070968</td>\n",
              "      <td>Ultimate Investment Banking Course</td>\n",
              "      <td>https://www.udemy.com/ultimate-investment-bank...</td>\n",
              "      <td>True</td>\n",
              "      <td>200</td>\n",
              "      <td>2147</td>\n",
              "      <td>23</td>\n",
              "      <td>51</td>\n",
              "      <td>All Levels</td>\n",
              "      <td>1.5</td>\n",
              "      <td>2017-01-18T20:58:58Z</td>\n",
              "      <td>Business Finance</td>\n",
              "    </tr>\n",
              "    <tr>\n",
              "      <th>1</th>\n",
              "      <td>1113822</td>\n",
              "      <td>Complete GST Course &amp; Certification - Grow You...</td>\n",
              "      <td>https://www.udemy.com/goods-and-services-tax/</td>\n",
              "      <td>True</td>\n",
              "      <td>75</td>\n",
              "      <td>2792</td>\n",
              "      <td>923</td>\n",
              "      <td>274</td>\n",
              "      <td>All Levels</td>\n",
              "      <td>39.0</td>\n",
              "      <td>2017-03-09T16:34:20Z</td>\n",
              "      <td>Business Finance</td>\n",
              "    </tr>\n",
              "    <tr>\n",
              "      <th>2</th>\n",
              "      <td>1006314</td>\n",
              "      <td>Financial Modeling for Business Analysts and C...</td>\n",
              "      <td>https://www.udemy.com/financial-modeling-for-b...</td>\n",
              "      <td>True</td>\n",
              "      <td>45</td>\n",
              "      <td>2174</td>\n",
              "      <td>74</td>\n",
              "      <td>51</td>\n",
              "      <td>Intermediate Level</td>\n",
              "      <td>2.5</td>\n",
              "      <td>2016-12-19T19:26:30Z</td>\n",
              "      <td>Business Finance</td>\n",
              "    </tr>\n",
              "    <tr>\n",
              "      <th>3</th>\n",
              "      <td>1210588</td>\n",
              "      <td>Beginner to Pro - Financial Analysis in Excel ...</td>\n",
              "      <td>https://www.udemy.com/complete-excel-finance-c...</td>\n",
              "      <td>True</td>\n",
              "      <td>95</td>\n",
              "      <td>2451</td>\n",
              "      <td>11</td>\n",
              "      <td>36</td>\n",
              "      <td>All Levels</td>\n",
              "      <td>3.0</td>\n",
              "      <td>2017-05-30T20:07:24Z</td>\n",
              "      <td>Business Finance</td>\n",
              "    </tr>\n",
              "    <tr>\n",
              "      <th>4</th>\n",
              "      <td>1011058</td>\n",
              "      <td>How To Maximize Your Profits Trading Options</td>\n",
              "      <td>https://www.udemy.com/how-to-maximize-your-pro...</td>\n",
              "      <td>True</td>\n",
              "      <td>200</td>\n",
              "      <td>1276</td>\n",
              "      <td>45</td>\n",
              "      <td>26</td>\n",
              "      <td>Intermediate Level</td>\n",
              "      <td>2.0</td>\n",
              "      <td>2016-12-13T14:57:18Z</td>\n",
              "      <td>Business Finance</td>\n",
              "    </tr>\n",
              "  </tbody>\n",
              "</table>\n",
              "</div>\n",
              "    <div class=\"colab-df-buttons\">\n",
              "\n",
              "  <div class=\"colab-df-container\">\n",
              "    <button class=\"colab-df-convert\" onclick=\"convertToInteractive('df-a94fd2fd-101e-4812-8c86-c17e5d8317af')\"\n",
              "            title=\"Convert this dataframe to an interactive table.\"\n",
              "            style=\"display:none;\">\n",
              "\n",
              "  <svg xmlns=\"http://www.w3.org/2000/svg\" height=\"24px\" viewBox=\"0 -960 960 960\">\n",
              "    <path d=\"M120-120v-720h720v720H120Zm60-500h600v-160H180v160Zm220 220h160v-160H400v160Zm0 220h160v-160H400v160ZM180-400h160v-160H180v160Zm440 0h160v-160H620v160ZM180-180h160v-160H180v160Zm440 0h160v-160H620v160Z\"/>\n",
              "  </svg>\n",
              "    </button>\n",
              "\n",
              "  <style>\n",
              "    .colab-df-container {\n",
              "      display:flex;\n",
              "      gap: 12px;\n",
              "    }\n",
              "\n",
              "    .colab-df-convert {\n",
              "      background-color: #E8F0FE;\n",
              "      border: none;\n",
              "      border-radius: 50%;\n",
              "      cursor: pointer;\n",
              "      display: none;\n",
              "      fill: #1967D2;\n",
              "      height: 32px;\n",
              "      padding: 0 0 0 0;\n",
              "      width: 32px;\n",
              "    }\n",
              "\n",
              "    .colab-df-convert:hover {\n",
              "      background-color: #E2EBFA;\n",
              "      box-shadow: 0px 1px 2px rgba(60, 64, 67, 0.3), 0px 1px 3px 1px rgba(60, 64, 67, 0.15);\n",
              "      fill: #174EA6;\n",
              "    }\n",
              "\n",
              "    .colab-df-buttons div {\n",
              "      margin-bottom: 4px;\n",
              "    }\n",
              "\n",
              "    [theme=dark] .colab-df-convert {\n",
              "      background-color: #3B4455;\n",
              "      fill: #D2E3FC;\n",
              "    }\n",
              "\n",
              "    [theme=dark] .colab-df-convert:hover {\n",
              "      background-color: #434B5C;\n",
              "      box-shadow: 0px 1px 3px 1px rgba(0, 0, 0, 0.15);\n",
              "      filter: drop-shadow(0px 1px 2px rgba(0, 0, 0, 0.3));\n",
              "      fill: #FFFFFF;\n",
              "    }\n",
              "  </style>\n",
              "\n",
              "    <script>\n",
              "      const buttonEl =\n",
              "        document.querySelector('#df-a94fd2fd-101e-4812-8c86-c17e5d8317af button.colab-df-convert');\n",
              "      buttonEl.style.display =\n",
              "        google.colab.kernel.accessAllowed ? 'block' : 'none';\n",
              "\n",
              "      async function convertToInteractive(key) {\n",
              "        const element = document.querySelector('#df-a94fd2fd-101e-4812-8c86-c17e5d8317af');\n",
              "        const dataTable =\n",
              "          await google.colab.kernel.invokeFunction('convertToInteractive',\n",
              "                                                    [key], {});\n",
              "        if (!dataTable) return;\n",
              "\n",
              "        const docLinkHtml = 'Like what you see? Visit the ' +\n",
              "          '<a target=\"_blank\" href=https://colab.research.google.com/notebooks/data_table.ipynb>data table notebook</a>'\n",
              "          + ' to learn more about interactive tables.';\n",
              "        element.innerHTML = '';\n",
              "        dataTable['output_type'] = 'display_data';\n",
              "        await google.colab.output.renderOutput(dataTable, element);\n",
              "        const docLink = document.createElement('div');\n",
              "        docLink.innerHTML = docLinkHtml;\n",
              "        element.appendChild(docLink);\n",
              "      }\n",
              "    </script>\n",
              "  </div>\n",
              "\n",
              "\n",
              "<div id=\"df-aad488d1-6d58-4ae2-9495-6e758fed5659\">\n",
              "  <button class=\"colab-df-quickchart\" onclick=\"quickchart('df-aad488d1-6d58-4ae2-9495-6e758fed5659')\"\n",
              "            title=\"Suggest charts\"\n",
              "            style=\"display:none;\">\n",
              "\n",
              "<svg xmlns=\"http://www.w3.org/2000/svg\" height=\"24px\"viewBox=\"0 0 24 24\"\n",
              "     width=\"24px\">\n",
              "    <g>\n",
              "        <path d=\"M19 3H5c-1.1 0-2 .9-2 2v14c0 1.1.9 2 2 2h14c1.1 0 2-.9 2-2V5c0-1.1-.9-2-2-2zM9 17H7v-7h2v7zm4 0h-2V7h2v10zm4 0h-2v-4h2v4z\"/>\n",
              "    </g>\n",
              "</svg>\n",
              "  </button>\n",
              "\n",
              "<style>\n",
              "  .colab-df-quickchart {\n",
              "      --bg-color: #E8F0FE;\n",
              "      --fill-color: #1967D2;\n",
              "      --hover-bg-color: #E2EBFA;\n",
              "      --hover-fill-color: #174EA6;\n",
              "      --disabled-fill-color: #AAA;\n",
              "      --disabled-bg-color: #DDD;\n",
              "  }\n",
              "\n",
              "  [theme=dark] .colab-df-quickchart {\n",
              "      --bg-color: #3B4455;\n",
              "      --fill-color: #D2E3FC;\n",
              "      --hover-bg-color: #434B5C;\n",
              "      --hover-fill-color: #FFFFFF;\n",
              "      --disabled-bg-color: #3B4455;\n",
              "      --disabled-fill-color: #666;\n",
              "  }\n",
              "\n",
              "  .colab-df-quickchart {\n",
              "    background-color: var(--bg-color);\n",
              "    border: none;\n",
              "    border-radius: 50%;\n",
              "    cursor: pointer;\n",
              "    display: none;\n",
              "    fill: var(--fill-color);\n",
              "    height: 32px;\n",
              "    padding: 0;\n",
              "    width: 32px;\n",
              "  }\n",
              "\n",
              "  .colab-df-quickchart:hover {\n",
              "    background-color: var(--hover-bg-color);\n",
              "    box-shadow: 0 1px 2px rgba(60, 64, 67, 0.3), 0 1px 3px 1px rgba(60, 64, 67, 0.15);\n",
              "    fill: var(--button-hover-fill-color);\n",
              "  }\n",
              "\n",
              "  .colab-df-quickchart-complete:disabled,\n",
              "  .colab-df-quickchart-complete:disabled:hover {\n",
              "    background-color: var(--disabled-bg-color);\n",
              "    fill: var(--disabled-fill-color);\n",
              "    box-shadow: none;\n",
              "  }\n",
              "\n",
              "  .colab-df-spinner {\n",
              "    border: 2px solid var(--fill-color);\n",
              "    border-color: transparent;\n",
              "    border-bottom-color: var(--fill-color);\n",
              "    animation:\n",
              "      spin 1s steps(1) infinite;\n",
              "  }\n",
              "\n",
              "  @keyframes spin {\n",
              "    0% {\n",
              "      border-color: transparent;\n",
              "      border-bottom-color: var(--fill-color);\n",
              "      border-left-color: var(--fill-color);\n",
              "    }\n",
              "    20% {\n",
              "      border-color: transparent;\n",
              "      border-left-color: var(--fill-color);\n",
              "      border-top-color: var(--fill-color);\n",
              "    }\n",
              "    30% {\n",
              "      border-color: transparent;\n",
              "      border-left-color: var(--fill-color);\n",
              "      border-top-color: var(--fill-color);\n",
              "      border-right-color: var(--fill-color);\n",
              "    }\n",
              "    40% {\n",
              "      border-color: transparent;\n",
              "      border-right-color: var(--fill-color);\n",
              "      border-top-color: var(--fill-color);\n",
              "    }\n",
              "    60% {\n",
              "      border-color: transparent;\n",
              "      border-right-color: var(--fill-color);\n",
              "    }\n",
              "    80% {\n",
              "      border-color: transparent;\n",
              "      border-right-color: var(--fill-color);\n",
              "      border-bottom-color: var(--fill-color);\n",
              "    }\n",
              "    90% {\n",
              "      border-color: transparent;\n",
              "      border-bottom-color: var(--fill-color);\n",
              "    }\n",
              "  }\n",
              "</style>\n",
              "\n",
              "  <script>\n",
              "    async function quickchart(key) {\n",
              "      const quickchartButtonEl =\n",
              "        document.querySelector('#' + key + ' button');\n",
              "      quickchartButtonEl.disabled = true;  // To prevent multiple clicks.\n",
              "      quickchartButtonEl.classList.add('colab-df-spinner');\n",
              "      try {\n",
              "        const charts = await google.colab.kernel.invokeFunction(\n",
              "            'suggestCharts', [key], {});\n",
              "      } catch (error) {\n",
              "        console.error('Error during call to suggestCharts:', error);\n",
              "      }\n",
              "      quickchartButtonEl.classList.remove('colab-df-spinner');\n",
              "      quickchartButtonEl.classList.add('colab-df-quickchart-complete');\n",
              "    }\n",
              "    (() => {\n",
              "      let quickchartButtonEl =\n",
              "        document.querySelector('#df-aad488d1-6d58-4ae2-9495-6e758fed5659 button');\n",
              "      quickchartButtonEl.style.display =\n",
              "        google.colab.kernel.accessAllowed ? 'block' : 'none';\n",
              "    })();\n",
              "  </script>\n",
              "</div>\n",
              "\n",
              "    </div>\n",
              "  </div>\n"
            ],
            "application/vnd.google.colaboratory.intrinsic+json": {
              "type": "dataframe",
              "summary": "{\n  \"name\": \"df\",\n  \"rows\": 5,\n  \"fields\": [\n    {\n      \"column\": \"course_id\",\n      \"properties\": {\n        \"dtype\": \"number\",\n        \"std\": 84304,\n        \"min\": 1006314,\n        \"max\": 1210588,\n        \"num_unique_values\": 5,\n        \"samples\": [\n          1113822,\n          1011058,\n          1006314\n        ],\n        \"semantic_type\": \"\",\n        \"description\": \"\"\n      }\n    },\n    {\n      \"column\": \"course_title\",\n      \"properties\": {\n        \"dtype\": \"string\",\n        \"num_unique_values\": 5,\n        \"samples\": [\n          \"Complete GST Course & Certification - Grow Your CA Practice\",\n          \"How To Maximize Your Profits Trading Options\",\n          \"Financial Modeling for Business Analysts and Consultants\"\n        ],\n        \"semantic_type\": \"\",\n        \"description\": \"\"\n      }\n    },\n    {\n      \"column\": \"url\",\n      \"properties\": {\n        \"dtype\": \"string\",\n        \"num_unique_values\": 5,\n        \"samples\": [\n          \"https://www.udemy.com/goods-and-services-tax/\",\n          \"https://www.udemy.com/how-to-maximize-your-profits-trading-options/\",\n          \"https://www.udemy.com/financial-modeling-for-business-analysts-and-consultants/\"\n        ],\n        \"semantic_type\": \"\",\n        \"description\": \"\"\n      }\n    },\n    {\n      \"column\": \"is_paid\",\n      \"properties\": {\n        \"dtype\": \"boolean\",\n        \"num_unique_values\": 1,\n        \"samples\": [\n          true\n        ],\n        \"semantic_type\": \"\",\n        \"description\": \"\"\n      }\n    },\n    {\n      \"column\": \"price\",\n      \"properties\": {\n        \"dtype\": \"number\",\n        \"std\": 72,\n        \"min\": 45,\n        \"max\": 200,\n        \"num_unique_values\": 4,\n        \"samples\": [\n          75\n        ],\n        \"semantic_type\": \"\",\n        \"description\": \"\"\n      }\n    },\n    {\n      \"column\": \"num_subscribers\",\n      \"properties\": {\n        \"dtype\": \"number\",\n        \"std\": 562,\n        \"min\": 1276,\n        \"max\": 2792,\n        \"num_unique_values\": 5,\n        \"samples\": [\n          2792\n        ],\n        \"semantic_type\": \"\",\n        \"description\": \"\"\n      }\n    },\n    {\n      \"column\": \"num_reviews\",\n      \"properties\": {\n        \"dtype\": \"number\",\n        \"std\": 396,\n        \"min\": 11,\n        \"max\": 923,\n        \"num_unique_values\": 5,\n        \"samples\": [\n          923\n        ],\n        \"semantic_type\": \"\",\n        \"description\": \"\"\n      }\n    },\n    {\n      \"column\": \"num_lectures\",\n      \"properties\": {\n        \"dtype\": \"number\",\n        \"std\": 104,\n        \"min\": 26,\n        \"max\": 274,\n        \"num_unique_values\": 4,\n        \"samples\": [\n          274\n        ],\n        \"semantic_type\": \"\",\n        \"description\": \"\"\n      }\n    },\n    {\n      \"column\": \"level\",\n      \"properties\": {\n        \"dtype\": \"category\",\n        \"num_unique_values\": 2,\n        \"samples\": [\n          \"Intermediate Level\"\n        ],\n        \"semantic_type\": \"\",\n        \"description\": \"\"\n      }\n    },\n    {\n      \"column\": \"content_duration\",\n      \"properties\": {\n        \"dtype\": \"number\",\n        \"std\": 16.44460397820513,\n        \"min\": 1.5,\n        \"max\": 39.0,\n        \"num_unique_values\": 5,\n        \"samples\": [\n          39.0\n        ],\n        \"semantic_type\": \"\",\n        \"description\": \"\"\n      }\n    },\n    {\n      \"column\": \"published_timestamp\",\n      \"properties\": {\n        \"dtype\": \"object\",\n        \"num_unique_values\": 5,\n        \"samples\": [\n          \"2017-03-09T16:34:20Z\"\n        ],\n        \"semantic_type\": \"\",\n        \"description\": \"\"\n      }\n    },\n    {\n      \"column\": \"subject\",\n      \"properties\": {\n        \"dtype\": \"category\",\n        \"num_unique_values\": 1,\n        \"samples\": [\n          \"Business Finance\"\n        ],\n        \"semantic_type\": \"\",\n        \"description\": \"\"\n      }\n    }\n  ]\n}"
            }
          },
          "metadata": {},
          "execution_count": 2
        }
      ],
      "source": [
        "import pandas as pd\n",
        "\n",
        "df = pd.read_csv('https://raw.githubusercontent.com/talamo13/Intro-To-Data-Science-Assignments/Udemy-Courses/Udemy-Courses-Data.csv')\n",
        "df.iloc[0:5]"
      ]
    },
    {
      "cell_type": "markdown",
      "source": [
        "##**Assignment 3**"
      ],
      "metadata": {
        "id": "xT0TPHaIBaaM"
      }
    },
    {
      "cell_type": "markdown",
      "source": [
        "**Statistical Inference for One Sample Proportion and Mean**\n",
        "\n",
        "This assignment is on inferential statistics. Use SPSS to conduct the analysis and complete each of the following questions. As appropriate, copy the SPSS output and paste it into the correct part below. For problems that require a written response, type the answer below.\n",
        "\n",
        "**NOTE: Delete the questions you are not answering.**"
      ],
      "metadata": {
        "id": "lk5a3SdYBfee"
      }
    },
    {
      "cell_type": "markdown",
      "source": [
        "###**Last Name: A-L**"
      ],
      "metadata": {
        "id": "vy9UwBRqBqqZ"
      }
    },
    {
      "cell_type": "markdown",
      "source": [
        "####**Question 1**"
      ],
      "metadata": {
        "id": "rOB-KlG8Bz9J"
      }
    },
    {
      "cell_type": "markdown",
      "source": [
        "Construct and interpret the 95% confidence interval for the population proportion of all Udemy courses that have the subject area in business finance. Write up the solution using the PMACC procedure."
      ],
      "metadata": {
        "id": "_h5Di3RnB19G"
      }
    },
    {
      "cell_type": "code",
      "source": [
        "import numpy as np\n",
        "from scipy import stats\n",
        "\n",
        "# Load your dataset into a Pandas DataFrame\n",
        "# Assuming your DataFrame is named df and contains the relevant columns\n",
        "# Replace 'df' with the name of your actual DataFrame\n",
        "\n",
        "# Assuming 'subject_area' is the column containing the subject area of Udemy courses\n",
        "# 'business_finance' is the category indicating courses in business finance\n",
        "# Replace 'subject_area' and 'business_finance' with your actual column and category names\n",
        "\n",
        "# Filter the DataFrame to include only courses in business finance\n",
        "business_finance_courses = df[df['subject'] == 'business_finance']\n",
        "\n",
        "# Calculate the sample proportion\n",
        "sample_proportion = len(business_finance_courses) / len(df)\n",
        "\n",
        "# Sample size\n",
        "n = len(df)\n",
        "\n",
        "# Significance level (alpha)\n",
        "alpha = 0.05\n",
        "\n",
        "# Calculate the standard error of the proportion (SE)\n",
        "SE = np.sqrt((sample_proportion * (1 - sample_proportion)) / n)\n",
        "\n",
        "# Find the z-value for a 95% confidence interval\n",
        "z_value = stats.norm.ppf(1 - alpha/2)\n",
        "\n",
        "# Calculate the margin of error (ME)\n",
        "ME = z_value * SE\n",
        "\n",
        "# Calculate the confidence interval (CI)\n",
        "confidence_interval = (sample_proportion - ME, sample_proportion + ME)\n",
        "\n",
        "# Write up the solution\n",
        "print(\"PMACC Procedure:\")\n",
        "print(\"Data Summary:\")\n",
        "print(\"Sample Proportion (p̂):\", sample_proportion)\n",
        "print(\"Successes:\", 1194)\n",
        "print(\"Sample Size (n):\", n)\n",
        "print(\"Significance Level (α):\", alpha)\n",
        "print(\"\\nConfidence Interval:\")\n",
        "print(\"95% Confidence Interval (CI):\", confidence_interval)"
      ],
      "metadata": {
        "id": "xJu3DeOtBci1",
        "outputId": "57fc05c2-fc88-4d7b-c3de-c875e4406df1",
        "colab": {
          "base_uri": "https://localhost:8080/"
        }
      },
      "execution_count": 7,
      "outputs": [
        {
          "output_type": "stream",
          "name": "stdout",
          "text": [
            "PMACC Procedure:\n",
            "Data Summary:\n",
            "Sample Proportion (p̂): 0.0\n",
            "Successes: 1194\n",
            "Sample Size (n): 3673\n",
            "Significance Level (α): 0.05\n",
            "\n",
            "Confidence Interval:\n",
            "95% Confidence Interval (CI): (0.0, 0.0)\n"
          ]
        }
      ]
    },
    {
      "cell_type": "markdown",
      "source": [
        "####**Question 2**"
      ],
      "metadata": {
        "id": "4jpecVqLB3R4"
      }
    },
    {
      "cell_type": "markdown",
      "source": [
        "Is there convincing evidence that the population mean course fee is more than $50? Use α=0.1. Write up the solution using the PMACC procedure."
      ],
      "metadata": {
        "id": "17dH_FX1B84F"
      }
    },
    {
      "cell_type": "code",
      "source": [
        "# Extract the column containing the course fees\n",
        "course_fees_column = df['price']\n",
        "\n",
        "# Calculate the sample mean and standard deviation\n",
        "sample_mean = course_fees_column.mean()\n",
        "sample_std = course_fees_column.std(ddof=1)  # Use ddof=1 for sample standard deviation\n",
        "\n",
        "# Sample size\n",
        "n = len(course_fees_column)\n",
        "\n",
        "# Hypothesized population mean\n",
        "mu_0 = 50\n",
        "\n",
        "# Significance level (alpha)\n",
        "alpha = 0.1\n",
        "\n",
        "# Calculate the t-statistic\n",
        "t_statistic = (sample_mean - mu_0) / (sample_std / (n ** 0.5))\n",
        "\n",
        "# Degrees of freedom\n",
        "df = n - 1\n",
        "\n",
        "# Find the critical t-value for a one-tailed test with alpha=0.1 and df degrees of freedom\n",
        "critical_t_value = stats.t.ppf(1 - alpha, df)\n",
        "\n",
        "# Compare the t-statistic with the critical t-value\n",
        "if t_statistic > critical_t_value:\n",
        "    decision = \"Reject the null hypothesis. There is convincing evidence that the population mean course fee is more than $50.\"\n",
        "else:\n",
        "    decision = \"Fail to reject the null hypothesis. There is not enough evidence to conclude that the population mean course fee is more than $50.\"\n",
        "\n",
        "# Write up the solution\n",
        "print(\"PMACC Procedure:\")\n",
        "print(\"Hypotheses:\")\n",
        "print(\"H0: The population mean course fee is $50 or less.\")\n",
        "print(\"H1: The population mean course fee is more than $50.\")\n",
        "print(\"\\nData Summary:\")\n",
        "print(\"Sample Mean (x̄):\", sample_mean)\n",
        "print(\"Sample Standard Deviation (s):\", sample_std)\n",
        "print(\"Sample Size (n):\", n)\n",
        "print(\"Hypothesized Population Mean (μ0):\", mu_0)\n",
        "print(\"Significance Level (α):\", alpha)\n",
        "print(\"\\nTest Statistic:\")\n",
        "print(\"t-statistic:\", t_statistic)\n",
        "print(\"\\nDegrees of Freedom:\")\n",
        "print(\"df:\", df)\n",
        "print(\"\\nCritical t-value:\")\n",
        "print(\"critical t-value:\", critical_t_value)"
      ],
      "metadata": {
        "id": "sIcg1hqtB4qu",
        "outputId": "448c38fe-0ca2-43b6-d242-40f7043d0506",
        "colab": {
          "base_uri": "https://localhost:8080/"
        }
      },
      "execution_count": 9,
      "outputs": [
        {
          "output_type": "stream",
          "name": "stdout",
          "text": [
            "PMACC Procedure:\n",
            "Hypotheses:\n",
            "H0: The population mean course fee is $50 or less.\n",
            "H1: The population mean course fee is more than $50.\n",
            "\n",
            "Data Summary:\n",
            "Sample Mean (x̄): 66.04955077593247\n",
            "Sample Standard Deviation (s): 61.02793429320322\n",
            "Sample Size (n): 3673\n",
            "Hypothesized Population Mean (μ0): 50\n",
            "Significance Level (α): 0.1\n",
            "\n",
            "Test Statistic:\n",
            "t-statistic: 15.938398287566057\n",
            "\n",
            "Degrees of Freedom:\n",
            "df: 3672\n",
            "\n",
            "Critical t-value:\n",
            "critical t-value: 1.2817821592966705\n"
          ]
        }
      ]
    },
    {
      "cell_type": "markdown",
      "source": [
        "####**Question 3**"
      ],
      "metadata": {
        "id": "ZIJNJyWgB-HB"
      }
    },
    {
      "cell_type": "markdown",
      "source": [
        "Generate a paragraph of at least 100 words to address one of the following questions\n",
        "\n",
        "a) Discuss how analyzing your chosen data set using statistical methods could help you become better prepared for future courses in your major.\n",
        "\n",
        "b) Discuss how analyzing your chosen data set using statistical methods could be instrumental in becoming better prepared for your future career."
      ],
      "metadata": {
        "id": "zIvvG95sCD81"
      }
    },
    {
      "cell_type": "markdown",
      "source": [
        "###**Last Name: M-Z**"
      ],
      "metadata": {
        "id": "I0sG-HI9CM8K"
      }
    },
    {
      "cell_type": "markdown",
      "source": [
        "####**Question 1**"
      ],
      "metadata": {
        "id": "jX0B4lqBCQfn"
      }
    },
    {
      "cell_type": "markdown",
      "source": [
        "Construct and interpret the 90% confidence interval for the population mean course fee. Write up the solution using the PMACC procedure."
      ],
      "metadata": {
        "id": "Pj2QgF2bCTYt"
      }
    },
    {
      "cell_type": "code",
      "source": [
        "# Calculate the sample mean and standard deviation\n",
        "sample_mean = course_fees_column.mean()\n",
        "sample_std = course_fees_column.std(ddof=1)  # Use ddof=1 for sample standard deviation\n",
        "\n",
        "# Sample size\n",
        "n = len(course_fees_column)\n",
        "\n",
        "# Significance level (alpha)\n",
        "alpha = 0.10\n",
        "\n",
        "# Calculate the standard error of the mean (SE)\n",
        "SE = sample_std / (n ** 0.5)\n",
        "\n",
        "# Degrees of freedom\n",
        "df = n - 1\n",
        "\n",
        "# Find the t-value for a 90% confidence interval and df degrees of freedom\n",
        "t_value = stats.t.ppf(1 - alpha/2, df)\n",
        "\n",
        "# Calculate the margin of error (ME)\n",
        "ME = t_value * SE\n",
        "\n",
        "# Calculate the confidence interval (CI)\n",
        "confidence_interval = (sample_mean - ME, sample_mean + ME)\n",
        "\n",
        "# Write up the solution\n",
        "print(\"PMACC Procedure:\")\n",
        "print(\"Data Summary:\")\n",
        "print(\"Sample Mean (x̄):\", sample_mean)\n",
        "print(\"Sample Standard Deviation (s):\", sample_std)\n",
        "print(\"Sample Size (n):\", n)\n",
        "print(\"Significance Level (α):\", alpha)\n",
        "print(\"\\nConfidence Interval:\")\n",
        "print(\"90% Confidence Interval (CI):\", confidence_interval)"
      ],
      "metadata": {
        "id": "XZ9WzCP-COtZ",
        "outputId": "ba95fbce-6512-4adc-fe40-9aa7f23ac924",
        "colab": {
          "base_uri": "https://localhost:8080/"
        }
      },
      "execution_count": 11,
      "outputs": [
        {
          "output_type": "stream",
          "name": "stdout",
          "text": [
            "PMACC Procedure:\n",
            "Data Summary:\n",
            "Sample Mean (x̄): 66.04955077593247\n",
            "Sample Standard Deviation (s): 61.02793429320322\n",
            "Sample Size (n): 3673\n",
            "Significance Level (α): 0.1\n",
            "\n",
            "Confidence Interval:\n",
            "90% Confidence Interval (CI): (64.39280816615695, 67.706293385708)\n"
          ]
        }
      ]
    },
    {
      "cell_type": "markdown",
      "source": [
        "####**Question 2**"
      ],
      "metadata": {
        "id": "_nPvUTAbCX9J"
      }
    },
    {
      "cell_type": "markdown",
      "source": [
        "Is there convincing evidence that the population proportion of all insured who were smokers is more than 30%? Use α=0.05. Write up the solution using the PMACC procedure"
      ],
      "metadata": {
        "id": "eT9pqcWdCaN_"
      }
    },
    {
      "cell_type": "code",
      "source": [],
      "metadata": {
        "id": "g0JqH-yXCZlj"
      },
      "execution_count": 12,
      "outputs": []
    },
    {
      "cell_type": "markdown",
      "source": [
        "####**Question 3**"
      ],
      "metadata": {
        "id": "6OQT-CCbCbFk"
      }
    },
    {
      "cell_type": "markdown",
      "source": [
        "Generate a paragraph of at least 100 words to address one of the following questions:\n",
        "\n",
        "a) Discuss how analyzing your chosen data set using statistical methods could help you become better prepared for future courses in your major.\n",
        "\n",
        "b) Discuss how analyzing your chosen data set using statistical methods could be instrumental in becoming better prepared for your future career."
      ],
      "metadata": {
        "id": "YZc30vK1CfVK"
      }
    }
  ]
}