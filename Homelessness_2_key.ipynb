{
  "nbformat": 4,
  "nbformat_minor": 0,
  "metadata": {
    "colab": {
      "provenance": [],
      "toc_visible": true,
      "authorship_tag": "ABX9TyNaw8xZ88if4EZJdfk0qqDG",
      "include_colab_link": true
    },
    "kernelspec": {
      "name": "python3",
      "display_name": "Python 3"
    },
    "language_info": {
      "name": "python"
    }
  },
  "cells": [
    {
      "cell_type": "markdown",
      "metadata": {
        "id": "view-in-github",
        "colab_type": "text"
      },
      "source": [
        "<a href=\"https://colab.research.google.com/github/talamo13/Intro-To-Data-Science-Assignments/blob/Homelessness-%232/Homelessness_2_key.ipynb\" target=\"_parent\"><img src=\"https://colab.research.google.com/assets/colab-badge.svg\" alt=\"Open In Colab\"/></a>"
      ]
    },
    {
      "cell_type": "markdown",
      "source": [
        "# **National Estimates Of Homelessness**\n",
        "\n",
        "\n",
        "---\n",
        "\n"
      ],
      "metadata": {
        "id": "AJARgugqVauu"
      }
    },
    {
      "cell_type": "markdown",
      "source": [
        "## **Context**"
      ],
      "metadata": {
        "id": "I1RYPyg3VhF3"
      }
    },
    {
      "cell_type": "markdown",
      "source": [
        "The Continuum of Care (CoC) Program is designed to promote communitywide commitment to the goal of ending homelessness; provide funding for efforts by nonprofit providers, and State and local governments to quickly rehouse homeless individuals and families while minimizing the trauma and dislocation caused to homeless individuals, families, and communities by homelessness; promote access to and effect utilization of mainstream programs by homeless individuals and families; and optimize self-sufficiency among individuals and families experiencing homelessness. For more information on the Program, please visit https://www.hudexchange.info/programs/coc/\n",
        "\n",
        "The U.S. Department of Housing and Urban Development (HUD) provides Point-in-Time (PIT) count reports of sheltered and unsheltered persons experiencing homelessness, by household type and subpopulation. This data is available at the national and state level, and for each CoC. HUD also provides Housing Inventory Count (HIC) reports, which provide a snapshot of a CoC’s inventory of beds and units available on the night designated for the count by program type, and include beds dedicated to serve persons who are homeless as well as persons in Permanent Supportive Housing.\n",
        "\n",
        "This raw data set contains PIT estimates of homelessness, and the corresponding accompanying HIC data from 2021.\n",
        "\n",
        "Attribution: Adapted from U.S. Department of Housing and Urban Development\n",
        "\n",
        "\n",
        "---\n",
        "\n"
      ],
      "metadata": {
        "id": "lDdIB1s6Vm1H"
      }
    },
    {
      "cell_type": "markdown",
      "source": [
        "## **About The Dataset**"
      ],
      "metadata": {
        "id": "LGnw05gsVz6p"
      }
    },
    {
      "cell_type": "markdown",
      "source": [
        "This dataset contains 100 rows corresponding to a random sample of localities (typically counties or similar large regions) that received Continuum of Care funding from HUD. A total of 21 variables are provided as listed on the next page."
      ],
      "metadata": {
        "id": "l91jYXMDV5j5"
      }
    },
    {
      "cell_type": "markdown",
      "source": [
        "| Variable Name(s) | Description |\n",
        "|------------------|-------------|\n",
        "| CoC Number <br> CoC Name  | CoC locality identifier                         |\n",
        "| CoC Category              | Community setting designation: Rural, Urban, ect|\n",
        "| Type Count                | Description of whether fully or partially sheltered individuals (or both) are included                                  |\n",
        "| Overall Homeless, 2021    | Total homeless count in all facilities indicated by the \"Type of Count\" variable                                               |\n",
        "| HMIS Participation Rate for Year-Round Beds (ES,TH,SH) | Percentage of facilities in the locality that participate in the Homeless Management Information System (HMIS)                                                     |\n",
        "| Total Year-Round Beds (ES, TH, SH) <br> Total Year-Round Beds (ES) <br> Total Year-Round Beds (TH) <br> Total Year-Round Beds (SH)| (all types combined)<br> ES = Emergency Shelter <br> TH = Transitional Housing <br> SH = Save Have     |\n",
        "| Total Units For Households With Children (ES, TH, SH) <br> Total Beds For Households With Children (ES, TH, SH) | Number of **units** and **beds** designated for households with children                                       |\n",
        "| Sheltered ES Homeless 2021 | Estimate of the number of individuals sheltered in an Emergency Facility at the time of the study                             |\n",
        "|Sheltered ES Homeless - Age 18 to 24, 2021 | Estimate of the number of individuals sheltered in an Emergency Facility by age                         |\n",
        "| Sheltered ES Homeless - Female, 2021 <br> Sheltered ES Homeless - Male, 2021 <br> Sheltered ES Homeless - Trans+, 2021 | Estimate of the number of individuals sheltered in an Emergency Facility by gender                      |\n",
        "| Sheltered ES Homeless - Hispanic/Latino, 2021 <br> Sheltered ES Homeless - White, 2021 <br> Sheltered ES Homeless - Black or African American, 2021 <br> Sheltered ES Homeless - Asian or Pacific Islander <br> Sheltered ES Homeless - American Indian or Alaska Native, 2021 <br> Sheltered ES Homeless - Multiple Races, 2021 | Estimate of the number of individuals sheltered in an Emergency Facility by race/ethnicity\n",
        "\n",
        "\n"
      ],
      "metadata": {
        "id": "cSwqHIWXWgPP"
      }
    },
    {
      "cell_type": "code",
      "source": [
        "import numpy as np\n",
        "import pandas as pd\n",
        "import plotly.express as px\n",
        "\n",
        "# Create a Dataframe using the necessary data for this assignment\n",
        "df = pd.read_csv(\"https://raw.githubusercontent.com/talamo13/Intro-To-Data-Science-Assignments/Homelessness-%232/Homelessness_Data.csv\")\n",
        "\n",
        "df.iloc[0:5]"
      ],
      "metadata": {
        "colab": {
          "base_uri": "https://localhost:8080/",
          "height": 533
        },
        "id": "G0se7JhwVyiu",
        "outputId": "9548c04e-a720-43a9-feb8-6b9c66285257"
      },
      "execution_count": 37,
      "outputs": [
        {
          "output_type": "execute_result",
          "data": {
            "text/plain": [
              "  CoC Number                           CoC Name             CoC Category  \\\n",
              "0     LA-505     Monroe/Northeast Louisiana CoC        Largely Rural CoC   \n",
              "1     MN-502  Rochester/Southeast Minnesota CoC        Largely Rural CoC   \n",
              "2     PA-508     Scranton/Lackawanna County CoC     Largely Suburban CoC   \n",
              "3     OK-503      Oklahoma Balance of State CoC        Largely Rural CoC   \n",
              "4     OH-504     Youngstown/Mahoning County CoC  Other Largely Urban CoC   \n",
              "\n",
              "                    Type of Count  Overall Homeless, 2021  \\\n",
              "0            Sheltered-Only Count                      78   \n",
              "1            Sheltered-Only Count                     419   \n",
              "2  Sheltered and full unsheltered                     165   \n",
              "3            Sheltered-Only Count                     125   \n",
              "4            Sheltered-Only Count                      62   \n",
              "\n",
              "   Total Year-Round Beds (ES, TH, SH)  \\\n",
              "0                                 133   \n",
              "1                                 599   \n",
              "2                                 155   \n",
              "3                                 149   \n",
              "4                                 198   \n",
              "\n",
              "   HMIS Participation Rate for Year-Round Beds (ES, TH, SH)  \\\n",
              "0                                              0.233          \n",
              "1                                              0.604          \n",
              "2                                              0.839          \n",
              "3                                              0.295          \n",
              "4                                              0.192          \n",
              "\n",
              "   Total Year-Round Beds (ES)  Total Year-Round Beds (TH)  \\\n",
              "0                          69                          64   \n",
              "1                         378                         221   \n",
              "2                          64                          80   \n",
              "3                         135                          14   \n",
              "4                         187                          11   \n",
              "\n",
              "   Total Year-Round Beds (SH)  ...  \\\n",
              "0                           0  ...   \n",
              "1                           0  ...   \n",
              "2                          11  ...   \n",
              "3                           0  ...   \n",
              "4                           0  ...   \n",
              "\n",
              "   Sheltered ES Homeless - Age 18 to 24, 2021  \\\n",
              "0                                           4   \n",
              "1                                          18   \n",
              "2                                           5   \n",
              "3                                          24   \n",
              "4                                           6   \n",
              "\n",
              "   Sheltered ES Homeless - Female, 2021  Sheltered ES Homeless - Male, 2021  \\\n",
              "0                                    21                                  19   \n",
              "1                                   110                                 150   \n",
              "2                                    34                                  46   \n",
              "3                                    49                                  75   \n",
              "4                                    41                                  13   \n",
              "\n",
              "   Sheltered ES Homeless - Trans+, 2021  \\\n",
              "0                                     0   \n",
              "1                                     1   \n",
              "2                                     1   \n",
              "3                                     1   \n",
              "4                                     2   \n",
              "\n",
              "   Sheltered ES Homeless - Hispanic/Latino, 2021  \\\n",
              "0                                              0   \n",
              "1                                             42   \n",
              "2                                              7   \n",
              "3                                             52   \n",
              "4                                             21   \n",
              "\n",
              "   Sheltered ES Homeless - White, 2021  \\\n",
              "0                                   17   \n",
              "1                                  186   \n",
              "2                                   61   \n",
              "3                                   88   \n",
              "4                                   25   \n",
              "\n",
              "   Sheltered ES Homeless - Black or African American, 2021  \\\n",
              "0                                                 19         \n",
              "1                                                 51         \n",
              "2                                                 17         \n",
              "3                                                 25         \n",
              "4                                                 19         \n",
              "\n",
              "   Sheltered ES Homeless - Asian or Pacific Islander  \\\n",
              "0                                                  0   \n",
              "1                                                  9   \n",
              "2                                                  2   \n",
              "3                                                  1   \n",
              "4                                                  1   \n",
              "\n",
              "   Sheltered ES Homeless - American Indian or Alaska Native, 2021  \\\n",
              "0                                                  4                \n",
              "1                                                  3                \n",
              "2                                                  0                \n",
              "3                                                  8                \n",
              "4                                                  0                \n",
              "\n",
              "   Sheltered ES Homeless - Multiple Races, 2021  \n",
              "0                                             0  \n",
              "1                                            12  \n",
              "2                                             1  \n",
              "3                                             3  \n",
              "4                                            11  \n",
              "\n",
              "[5 rows x 23 columns]"
            ],
            "text/html": [
              "\n",
              "  <div id=\"df-e2b48778-13d7-4995-9499-8de12bc836e8\" class=\"colab-df-container\">\n",
              "    <div>\n",
              "<style scoped>\n",
              "    .dataframe tbody tr th:only-of-type {\n",
              "        vertical-align: middle;\n",
              "    }\n",
              "\n",
              "    .dataframe tbody tr th {\n",
              "        vertical-align: top;\n",
              "    }\n",
              "\n",
              "    .dataframe thead th {\n",
              "        text-align: right;\n",
              "    }\n",
              "</style>\n",
              "<table border=\"1\" class=\"dataframe\">\n",
              "  <thead>\n",
              "    <tr style=\"text-align: right;\">\n",
              "      <th></th>\n",
              "      <th>CoC Number</th>\n",
              "      <th>CoC Name</th>\n",
              "      <th>CoC Category</th>\n",
              "      <th>Type of Count</th>\n",
              "      <th>Overall Homeless, 2021</th>\n",
              "      <th>Total Year-Round Beds (ES, TH, SH)</th>\n",
              "      <th>HMIS Participation Rate for Year-Round Beds (ES, TH, SH)</th>\n",
              "      <th>Total Year-Round Beds (ES)</th>\n",
              "      <th>Total Year-Round Beds (TH)</th>\n",
              "      <th>Total Year-Round Beds (SH)</th>\n",
              "      <th>...</th>\n",
              "      <th>Sheltered ES Homeless - Age 18 to 24, 2021</th>\n",
              "      <th>Sheltered ES Homeless - Female, 2021</th>\n",
              "      <th>Sheltered ES Homeless - Male, 2021</th>\n",
              "      <th>Sheltered ES Homeless - Trans+, 2021</th>\n",
              "      <th>Sheltered ES Homeless - Hispanic/Latino, 2021</th>\n",
              "      <th>Sheltered ES Homeless - White, 2021</th>\n",
              "      <th>Sheltered ES Homeless - Black or African American, 2021</th>\n",
              "      <th>Sheltered ES Homeless - Asian or Pacific Islander</th>\n",
              "      <th>Sheltered ES Homeless - American Indian or Alaska Native, 2021</th>\n",
              "      <th>Sheltered ES Homeless - Multiple Races, 2021</th>\n",
              "    </tr>\n",
              "  </thead>\n",
              "  <tbody>\n",
              "    <tr>\n",
              "      <th>0</th>\n",
              "      <td>LA-505</td>\n",
              "      <td>Monroe/Northeast Louisiana CoC</td>\n",
              "      <td>Largely Rural CoC</td>\n",
              "      <td>Sheltered-Only Count</td>\n",
              "      <td>78</td>\n",
              "      <td>133</td>\n",
              "      <td>0.233</td>\n",
              "      <td>69</td>\n",
              "      <td>64</td>\n",
              "      <td>0</td>\n",
              "      <td>...</td>\n",
              "      <td>4</td>\n",
              "      <td>21</td>\n",
              "      <td>19</td>\n",
              "      <td>0</td>\n",
              "      <td>0</td>\n",
              "      <td>17</td>\n",
              "      <td>19</td>\n",
              "      <td>0</td>\n",
              "      <td>4</td>\n",
              "      <td>0</td>\n",
              "    </tr>\n",
              "    <tr>\n",
              "      <th>1</th>\n",
              "      <td>MN-502</td>\n",
              "      <td>Rochester/Southeast Minnesota CoC</td>\n",
              "      <td>Largely Rural CoC</td>\n",
              "      <td>Sheltered-Only Count</td>\n",
              "      <td>419</td>\n",
              "      <td>599</td>\n",
              "      <td>0.604</td>\n",
              "      <td>378</td>\n",
              "      <td>221</td>\n",
              "      <td>0</td>\n",
              "      <td>...</td>\n",
              "      <td>18</td>\n",
              "      <td>110</td>\n",
              "      <td>150</td>\n",
              "      <td>1</td>\n",
              "      <td>42</td>\n",
              "      <td>186</td>\n",
              "      <td>51</td>\n",
              "      <td>9</td>\n",
              "      <td>3</td>\n",
              "      <td>12</td>\n",
              "    </tr>\n",
              "    <tr>\n",
              "      <th>2</th>\n",
              "      <td>PA-508</td>\n",
              "      <td>Scranton/Lackawanna County CoC</td>\n",
              "      <td>Largely Suburban CoC</td>\n",
              "      <td>Sheltered and full unsheltered</td>\n",
              "      <td>165</td>\n",
              "      <td>155</td>\n",
              "      <td>0.839</td>\n",
              "      <td>64</td>\n",
              "      <td>80</td>\n",
              "      <td>11</td>\n",
              "      <td>...</td>\n",
              "      <td>5</td>\n",
              "      <td>34</td>\n",
              "      <td>46</td>\n",
              "      <td>1</td>\n",
              "      <td>7</td>\n",
              "      <td>61</td>\n",
              "      <td>17</td>\n",
              "      <td>2</td>\n",
              "      <td>0</td>\n",
              "      <td>1</td>\n",
              "    </tr>\n",
              "    <tr>\n",
              "      <th>3</th>\n",
              "      <td>OK-503</td>\n",
              "      <td>Oklahoma Balance of State CoC</td>\n",
              "      <td>Largely Rural CoC</td>\n",
              "      <td>Sheltered-Only Count</td>\n",
              "      <td>125</td>\n",
              "      <td>149</td>\n",
              "      <td>0.295</td>\n",
              "      <td>135</td>\n",
              "      <td>14</td>\n",
              "      <td>0</td>\n",
              "      <td>...</td>\n",
              "      <td>24</td>\n",
              "      <td>49</td>\n",
              "      <td>75</td>\n",
              "      <td>1</td>\n",
              "      <td>52</td>\n",
              "      <td>88</td>\n",
              "      <td>25</td>\n",
              "      <td>1</td>\n",
              "      <td>8</td>\n",
              "      <td>3</td>\n",
              "    </tr>\n",
              "    <tr>\n",
              "      <th>4</th>\n",
              "      <td>OH-504</td>\n",
              "      <td>Youngstown/Mahoning County CoC</td>\n",
              "      <td>Other Largely Urban CoC</td>\n",
              "      <td>Sheltered-Only Count</td>\n",
              "      <td>62</td>\n",
              "      <td>198</td>\n",
              "      <td>0.192</td>\n",
              "      <td>187</td>\n",
              "      <td>11</td>\n",
              "      <td>0</td>\n",
              "      <td>...</td>\n",
              "      <td>6</td>\n",
              "      <td>41</td>\n",
              "      <td>13</td>\n",
              "      <td>2</td>\n",
              "      <td>21</td>\n",
              "      <td>25</td>\n",
              "      <td>19</td>\n",
              "      <td>1</td>\n",
              "      <td>0</td>\n",
              "      <td>11</td>\n",
              "    </tr>\n",
              "  </tbody>\n",
              "</table>\n",
              "<p>5 rows × 23 columns</p>\n",
              "</div>\n",
              "    <div class=\"colab-df-buttons\">\n",
              "\n",
              "  <div class=\"colab-df-container\">\n",
              "    <button class=\"colab-df-convert\" onclick=\"convertToInteractive('df-e2b48778-13d7-4995-9499-8de12bc836e8')\"\n",
              "            title=\"Convert this dataframe to an interactive table.\"\n",
              "            style=\"display:none;\">\n",
              "\n",
              "  <svg xmlns=\"http://www.w3.org/2000/svg\" height=\"24px\" viewBox=\"0 -960 960 960\">\n",
              "    <path d=\"M120-120v-720h720v720H120Zm60-500h600v-160H180v160Zm220 220h160v-160H400v160Zm0 220h160v-160H400v160ZM180-400h160v-160H180v160Zm440 0h160v-160H620v160ZM180-180h160v-160H180v160Zm440 0h160v-160H620v160Z\"/>\n",
              "  </svg>\n",
              "    </button>\n",
              "\n",
              "  <style>\n",
              "    .colab-df-container {\n",
              "      display:flex;\n",
              "      gap: 12px;\n",
              "    }\n",
              "\n",
              "    .colab-df-convert {\n",
              "      background-color: #E8F0FE;\n",
              "      border: none;\n",
              "      border-radius: 50%;\n",
              "      cursor: pointer;\n",
              "      display: none;\n",
              "      fill: #1967D2;\n",
              "      height: 32px;\n",
              "      padding: 0 0 0 0;\n",
              "      width: 32px;\n",
              "    }\n",
              "\n",
              "    .colab-df-convert:hover {\n",
              "      background-color: #E2EBFA;\n",
              "      box-shadow: 0px 1px 2px rgba(60, 64, 67, 0.3), 0px 1px 3px 1px rgba(60, 64, 67, 0.15);\n",
              "      fill: #174EA6;\n",
              "    }\n",
              "\n",
              "    .colab-df-buttons div {\n",
              "      margin-bottom: 4px;\n",
              "    }\n",
              "\n",
              "    [theme=dark] .colab-df-convert {\n",
              "      background-color: #3B4455;\n",
              "      fill: #D2E3FC;\n",
              "    }\n",
              "\n",
              "    [theme=dark] .colab-df-convert:hover {\n",
              "      background-color: #434B5C;\n",
              "      box-shadow: 0px 1px 3px 1px rgba(0, 0, 0, 0.15);\n",
              "      filter: drop-shadow(0px 1px 2px rgba(0, 0, 0, 0.3));\n",
              "      fill: #FFFFFF;\n",
              "    }\n",
              "  </style>\n",
              "\n",
              "    <script>\n",
              "      const buttonEl =\n",
              "        document.querySelector('#df-e2b48778-13d7-4995-9499-8de12bc836e8 button.colab-df-convert');\n",
              "      buttonEl.style.display =\n",
              "        google.colab.kernel.accessAllowed ? 'block' : 'none';\n",
              "\n",
              "      async function convertToInteractive(key) {\n",
              "        const element = document.querySelector('#df-e2b48778-13d7-4995-9499-8de12bc836e8');\n",
              "        const dataTable =\n",
              "          await google.colab.kernel.invokeFunction('convertToInteractive',\n",
              "                                                    [key], {});\n",
              "        if (!dataTable) return;\n",
              "\n",
              "        const docLinkHtml = 'Like what you see? Visit the ' +\n",
              "          '<a target=\"_blank\" href=https://colab.research.google.com/notebooks/data_table.ipynb>data table notebook</a>'\n",
              "          + ' to learn more about interactive tables.';\n",
              "        element.innerHTML = '';\n",
              "        dataTable['output_type'] = 'display_data';\n",
              "        await google.colab.output.renderOutput(dataTable, element);\n",
              "        const docLink = document.createElement('div');\n",
              "        docLink.innerHTML = docLinkHtml;\n",
              "        element.appendChild(docLink);\n",
              "      }\n",
              "    </script>\n",
              "  </div>\n",
              "\n",
              "\n",
              "<div id=\"df-7c89a021-0495-4bcc-87aa-51b64bb19467\">\n",
              "  <button class=\"colab-df-quickchart\" onclick=\"quickchart('df-7c89a021-0495-4bcc-87aa-51b64bb19467')\"\n",
              "            title=\"Suggest charts\"\n",
              "            style=\"display:none;\">\n",
              "\n",
              "<svg xmlns=\"http://www.w3.org/2000/svg\" height=\"24px\"viewBox=\"0 0 24 24\"\n",
              "     width=\"24px\">\n",
              "    <g>\n",
              "        <path d=\"M19 3H5c-1.1 0-2 .9-2 2v14c0 1.1.9 2 2 2h14c1.1 0 2-.9 2-2V5c0-1.1-.9-2-2-2zM9 17H7v-7h2v7zm4 0h-2V7h2v10zm4 0h-2v-4h2v4z\"/>\n",
              "    </g>\n",
              "</svg>\n",
              "  </button>\n",
              "\n",
              "<style>\n",
              "  .colab-df-quickchart {\n",
              "      --bg-color: #E8F0FE;\n",
              "      --fill-color: #1967D2;\n",
              "      --hover-bg-color: #E2EBFA;\n",
              "      --hover-fill-color: #174EA6;\n",
              "      --disabled-fill-color: #AAA;\n",
              "      --disabled-bg-color: #DDD;\n",
              "  }\n",
              "\n",
              "  [theme=dark] .colab-df-quickchart {\n",
              "      --bg-color: #3B4455;\n",
              "      --fill-color: #D2E3FC;\n",
              "      --hover-bg-color: #434B5C;\n",
              "      --hover-fill-color: #FFFFFF;\n",
              "      --disabled-bg-color: #3B4455;\n",
              "      --disabled-fill-color: #666;\n",
              "  }\n",
              "\n",
              "  .colab-df-quickchart {\n",
              "    background-color: var(--bg-color);\n",
              "    border: none;\n",
              "    border-radius: 50%;\n",
              "    cursor: pointer;\n",
              "    display: none;\n",
              "    fill: var(--fill-color);\n",
              "    height: 32px;\n",
              "    padding: 0;\n",
              "    width: 32px;\n",
              "  }\n",
              "\n",
              "  .colab-df-quickchart:hover {\n",
              "    background-color: var(--hover-bg-color);\n",
              "    box-shadow: 0 1px 2px rgba(60, 64, 67, 0.3), 0 1px 3px 1px rgba(60, 64, 67, 0.15);\n",
              "    fill: var(--button-hover-fill-color);\n",
              "  }\n",
              "\n",
              "  .colab-df-quickchart-complete:disabled,\n",
              "  .colab-df-quickchart-complete:disabled:hover {\n",
              "    background-color: var(--disabled-bg-color);\n",
              "    fill: var(--disabled-fill-color);\n",
              "    box-shadow: none;\n",
              "  }\n",
              "\n",
              "  .colab-df-spinner {\n",
              "    border: 2px solid var(--fill-color);\n",
              "    border-color: transparent;\n",
              "    border-bottom-color: var(--fill-color);\n",
              "    animation:\n",
              "      spin 1s steps(1) infinite;\n",
              "  }\n",
              "\n",
              "  @keyframes spin {\n",
              "    0% {\n",
              "      border-color: transparent;\n",
              "      border-bottom-color: var(--fill-color);\n",
              "      border-left-color: var(--fill-color);\n",
              "    }\n",
              "    20% {\n",
              "      border-color: transparent;\n",
              "      border-left-color: var(--fill-color);\n",
              "      border-top-color: var(--fill-color);\n",
              "    }\n",
              "    30% {\n",
              "      border-color: transparent;\n",
              "      border-left-color: var(--fill-color);\n",
              "      border-top-color: var(--fill-color);\n",
              "      border-right-color: var(--fill-color);\n",
              "    }\n",
              "    40% {\n",
              "      border-color: transparent;\n",
              "      border-right-color: var(--fill-color);\n",
              "      border-top-color: var(--fill-color);\n",
              "    }\n",
              "    60% {\n",
              "      border-color: transparent;\n",
              "      border-right-color: var(--fill-color);\n",
              "    }\n",
              "    80% {\n",
              "      border-color: transparent;\n",
              "      border-right-color: var(--fill-color);\n",
              "      border-bottom-color: var(--fill-color);\n",
              "    }\n",
              "    90% {\n",
              "      border-color: transparent;\n",
              "      border-bottom-color: var(--fill-color);\n",
              "    }\n",
              "  }\n",
              "</style>\n",
              "\n",
              "  <script>\n",
              "    async function quickchart(key) {\n",
              "      const quickchartButtonEl =\n",
              "        document.querySelector('#' + key + ' button');\n",
              "      quickchartButtonEl.disabled = true;  // To prevent multiple clicks.\n",
              "      quickchartButtonEl.classList.add('colab-df-spinner');\n",
              "      try {\n",
              "        const charts = await google.colab.kernel.invokeFunction(\n",
              "            'suggestCharts', [key], {});\n",
              "      } catch (error) {\n",
              "        console.error('Error during call to suggestCharts:', error);\n",
              "      }\n",
              "      quickchartButtonEl.classList.remove('colab-df-spinner');\n",
              "      quickchartButtonEl.classList.add('colab-df-quickchart-complete');\n",
              "    }\n",
              "    (() => {\n",
              "      let quickchartButtonEl =\n",
              "        document.querySelector('#df-7c89a021-0495-4bcc-87aa-51b64bb19467 button');\n",
              "      quickchartButtonEl.style.display =\n",
              "        google.colab.kernel.accessAllowed ? 'block' : 'none';\n",
              "    })();\n",
              "  </script>\n",
              "</div>\n",
              "\n",
              "    </div>\n",
              "  </div>\n"
            ],
            "application/vnd.google.colaboratory.intrinsic+json": {
              "type": "dataframe"
            }
          },
          "metadata": {},
          "execution_count": 37
        }
      ]
    },
    {
      "cell_type": "markdown",
      "source": [
        "# **Assignment 2**"
      ],
      "metadata": {
        "id": "PcM606tG3RMH"
      }
    },
    {
      "cell_type": "markdown",
      "source": [
        "## **Correlation and Regression Analysis**"
      ],
      "metadata": {
        "id": "dtnqFGhX3WQi"
      }
    },
    {
      "cell_type": "markdown",
      "source": [
        "This assignment is intended to explore the univariate linear relationships between quantitative variables in the data. Choose the dependent and independent variables based on your last name. Use SPSS to analyze the relationship between the two variables and complete each of the following questions. As appropriate, copy the SPSS output and paste it into the correct part below. For problems that require a written response, type the answer below."
      ],
      "metadata": {
        "id": "05aIvs6b3ivN"
      }
    },
    {
      "cell_type": "markdown",
      "source": [
        "| Last Name | Dependent Variable (y)                 | Independent Variable (x)          |\n",
        "|-----------|-----------------------------------------|-----------------------------------|\n",
        "| A-L       | Sheltered ES Homeless - Male, 2021     | Sheltered ES Homeless - Female, 2021 |\n",
        "| M-Z       | Overall Homeless, 2021                 | Total Year-Round Beds (ES, TH, SH)   |\n"
      ],
      "metadata": {
        "id": "4PRPx3My3k2L"
      }
    },
    {
      "cell_type": "markdown",
      "source": [
        "## **Question 1**"
      ],
      "metadata": {
        "id": "WN9_4XrdAtjM"
      }
    },
    {
      "cell_type": "markdown",
      "source": [
        "Construct a scatterplot of the two variables without the line of regression. How would you describe the relationship between the two variables? Is this what you expected?"
      ],
      "metadata": {
        "id": "HVH_tv-UAyJm"
      }
    },
    {
      "cell_type": "markdown",
      "source": [
        "###**A-L**"
      ],
      "metadata": {
        "id": "tnFNUlFrA2lj"
      }
    },
    {
      "cell_type": "code",
      "source": [
        "fig1AM = px.scatter(df, x='Sheltered ES Homeless - Female, 2021', y='Sheltered ES Homeless - Male, 2021',\n",
        "                    title='Scatter Plot For Sheltered ES Homeless - Male, 2021 VS Sheltered ES Homeless - Female, 2021')\n",
        "fig1AM"
      ],
      "metadata": {
        "id": "x001KFpEA57h",
        "outputId": "0929b60b-f643-4f9c-8cf3-e6dcc79300df",
        "colab": {
          "base_uri": "https://localhost:8080/",
          "height": 542
        }
      },
      "execution_count": 38,
      "outputs": [
        {
          "output_type": "display_data",
          "data": {
            "text/html": [
              "<html>\n",
              "<head><meta charset=\"utf-8\" /></head>\n",
              "<body>\n",
              "    <div>            <script src=\"https://cdnjs.cloudflare.com/ajax/libs/mathjax/2.7.5/MathJax.js?config=TeX-AMS-MML_SVG\"></script><script type=\"text/javascript\">if (window.MathJax && window.MathJax.Hub && window.MathJax.Hub.Config) {window.MathJax.Hub.Config({SVG: {font: \"STIX-Web\"}});}</script>                <script type=\"text/javascript\">window.PlotlyConfig = {MathJaxConfig: 'local'};</script>\n",
              "        <script charset=\"utf-8\" src=\"https://cdn.plot.ly/plotly-2.24.1.min.js\"></script>                <div id=\"e17853df-03e5-47a9-9a3b-07f8585ebf68\" class=\"plotly-graph-div\" style=\"height:525px; width:100%;\"></div>            <script type=\"text/javascript\">                                    window.PLOTLYENV=window.PLOTLYENV || {};                                    if (document.getElementById(\"e17853df-03e5-47a9-9a3b-07f8585ebf68\")) {                    Plotly.newPlot(                        \"e17853df-03e5-47a9-9a3b-07f8585ebf68\",                        [{\"hovertemplate\":\"Sheltered ES Homeless - Female, 2021=%{x}\\u003cbr\\u003eSheltered ES Homeless - Male, 2021=%{y}\\u003cextra\\u003e\\u003c\\u002fextra\\u003e\",\"legendgroup\":\"\",\"marker\":{\"color\":\"#636efa\",\"symbol\":\"circle\"},\"mode\":\"markers\",\"name\":\"\",\"orientation\":\"v\",\"showlegend\":false,\"x\":[21,110,34,49,41,132,77,65,706,74,47,76,23,579,10,342,560,437,284,108,11,136,93,177,31,82,27,56,743,1108,242,98,24,75,165,301,80,67,194,39,234,40,43,43,76,134,110,319,111,153,537,561,291,23,68,91,296,136,14,6848,1193,43,322,57,45,39,179,105,57,104,1377,111,452,358,72,2,20,1445,23,470,175,74,32,5,360,89,210,54,141,70,33,21,65,173,52,153,41,61,122,66],\"xaxis\":\"x\",\"y\":[19,150,46,75,13,145,39,63,1899,53,74,96,31,886,8,488,869,511,241,109,13,144,104,261,29,116,0,60,1053,1283,421,87,10,205,187,385,120,106,304,19,294,40,88,31,109,133,164,397,84,170,390,881,444,38,73,200,228,312,22,7200,1672,34,454,95,31,28,282,122,111,162,2681,282,739,338,56,0,29,1390,31,846,167,74,74,20,504,157,255,87,137,99,51,29,66,275,82,276,63,43,101,52],\"yaxis\":\"y\",\"type\":\"scatter\"}],                        {\"template\":{\"data\":{\"histogram2dcontour\":[{\"type\":\"histogram2dcontour\",\"colorbar\":{\"outlinewidth\":0,\"ticks\":\"\"},\"colorscale\":[[0.0,\"#0d0887\"],[0.1111111111111111,\"#46039f\"],[0.2222222222222222,\"#7201a8\"],[0.3333333333333333,\"#9c179e\"],[0.4444444444444444,\"#bd3786\"],[0.5555555555555556,\"#d8576b\"],[0.6666666666666666,\"#ed7953\"],[0.7777777777777778,\"#fb9f3a\"],[0.8888888888888888,\"#fdca26\"],[1.0,\"#f0f921\"]]}],\"choropleth\":[{\"type\":\"choropleth\",\"colorbar\":{\"outlinewidth\":0,\"ticks\":\"\"}}],\"histogram2d\":[{\"type\":\"histogram2d\",\"colorbar\":{\"outlinewidth\":0,\"ticks\":\"\"},\"colorscale\":[[0.0,\"#0d0887\"],[0.1111111111111111,\"#46039f\"],[0.2222222222222222,\"#7201a8\"],[0.3333333333333333,\"#9c179e\"],[0.4444444444444444,\"#bd3786\"],[0.5555555555555556,\"#d8576b\"],[0.6666666666666666,\"#ed7953\"],[0.7777777777777778,\"#fb9f3a\"],[0.8888888888888888,\"#fdca26\"],[1.0,\"#f0f921\"]]}],\"heatmap\":[{\"type\":\"heatmap\",\"colorbar\":{\"outlinewidth\":0,\"ticks\":\"\"},\"colorscale\":[[0.0,\"#0d0887\"],[0.1111111111111111,\"#46039f\"],[0.2222222222222222,\"#7201a8\"],[0.3333333333333333,\"#9c179e\"],[0.4444444444444444,\"#bd3786\"],[0.5555555555555556,\"#d8576b\"],[0.6666666666666666,\"#ed7953\"],[0.7777777777777778,\"#fb9f3a\"],[0.8888888888888888,\"#fdca26\"],[1.0,\"#f0f921\"]]}],\"heatmapgl\":[{\"type\":\"heatmapgl\",\"colorbar\":{\"outlinewidth\":0,\"ticks\":\"\"},\"colorscale\":[[0.0,\"#0d0887\"],[0.1111111111111111,\"#46039f\"],[0.2222222222222222,\"#7201a8\"],[0.3333333333333333,\"#9c179e\"],[0.4444444444444444,\"#bd3786\"],[0.5555555555555556,\"#d8576b\"],[0.6666666666666666,\"#ed7953\"],[0.7777777777777778,\"#fb9f3a\"],[0.8888888888888888,\"#fdca26\"],[1.0,\"#f0f921\"]]}],\"contourcarpet\":[{\"type\":\"contourcarpet\",\"colorbar\":{\"outlinewidth\":0,\"ticks\":\"\"}}],\"contour\":[{\"type\":\"contour\",\"colorbar\":{\"outlinewidth\":0,\"ticks\":\"\"},\"colorscale\":[[0.0,\"#0d0887\"],[0.1111111111111111,\"#46039f\"],[0.2222222222222222,\"#7201a8\"],[0.3333333333333333,\"#9c179e\"],[0.4444444444444444,\"#bd3786\"],[0.5555555555555556,\"#d8576b\"],[0.6666666666666666,\"#ed7953\"],[0.7777777777777778,\"#fb9f3a\"],[0.8888888888888888,\"#fdca26\"],[1.0,\"#f0f921\"]]}],\"surface\":[{\"type\":\"surface\",\"colorbar\":{\"outlinewidth\":0,\"ticks\":\"\"},\"colorscale\":[[0.0,\"#0d0887\"],[0.1111111111111111,\"#46039f\"],[0.2222222222222222,\"#7201a8\"],[0.3333333333333333,\"#9c179e\"],[0.4444444444444444,\"#bd3786\"],[0.5555555555555556,\"#d8576b\"],[0.6666666666666666,\"#ed7953\"],[0.7777777777777778,\"#fb9f3a\"],[0.8888888888888888,\"#fdca26\"],[1.0,\"#f0f921\"]]}],\"mesh3d\":[{\"type\":\"mesh3d\",\"colorbar\":{\"outlinewidth\":0,\"ticks\":\"\"}}],\"scatter\":[{\"fillpattern\":{\"fillmode\":\"overlay\",\"size\":10,\"solidity\":0.2},\"type\":\"scatter\"}],\"parcoords\":[{\"type\":\"parcoords\",\"line\":{\"colorbar\":{\"outlinewidth\":0,\"ticks\":\"\"}}}],\"scatterpolargl\":[{\"type\":\"scatterpolargl\",\"marker\":{\"colorbar\":{\"outlinewidth\":0,\"ticks\":\"\"}}}],\"bar\":[{\"error_x\":{\"color\":\"#2a3f5f\"},\"error_y\":{\"color\":\"#2a3f5f\"},\"marker\":{\"line\":{\"color\":\"#E5ECF6\",\"width\":0.5},\"pattern\":{\"fillmode\":\"overlay\",\"size\":10,\"solidity\":0.2}},\"type\":\"bar\"}],\"scattergeo\":[{\"type\":\"scattergeo\",\"marker\":{\"colorbar\":{\"outlinewidth\":0,\"ticks\":\"\"}}}],\"scatterpolar\":[{\"type\":\"scatterpolar\",\"marker\":{\"colorbar\":{\"outlinewidth\":0,\"ticks\":\"\"}}}],\"histogram\":[{\"marker\":{\"pattern\":{\"fillmode\":\"overlay\",\"size\":10,\"solidity\":0.2}},\"type\":\"histogram\"}],\"scattergl\":[{\"type\":\"scattergl\",\"marker\":{\"colorbar\":{\"outlinewidth\":0,\"ticks\":\"\"}}}],\"scatter3d\":[{\"type\":\"scatter3d\",\"line\":{\"colorbar\":{\"outlinewidth\":0,\"ticks\":\"\"}},\"marker\":{\"colorbar\":{\"outlinewidth\":0,\"ticks\":\"\"}}}],\"scattermapbox\":[{\"type\":\"scattermapbox\",\"marker\":{\"colorbar\":{\"outlinewidth\":0,\"ticks\":\"\"}}}],\"scatterternary\":[{\"type\":\"scatterternary\",\"marker\":{\"colorbar\":{\"outlinewidth\":0,\"ticks\":\"\"}}}],\"scattercarpet\":[{\"type\":\"scattercarpet\",\"marker\":{\"colorbar\":{\"outlinewidth\":0,\"ticks\":\"\"}}}],\"carpet\":[{\"aaxis\":{\"endlinecolor\":\"#2a3f5f\",\"gridcolor\":\"white\",\"linecolor\":\"white\",\"minorgridcolor\":\"white\",\"startlinecolor\":\"#2a3f5f\"},\"baxis\":{\"endlinecolor\":\"#2a3f5f\",\"gridcolor\":\"white\",\"linecolor\":\"white\",\"minorgridcolor\":\"white\",\"startlinecolor\":\"#2a3f5f\"},\"type\":\"carpet\"}],\"table\":[{\"cells\":{\"fill\":{\"color\":\"#EBF0F8\"},\"line\":{\"color\":\"white\"}},\"header\":{\"fill\":{\"color\":\"#C8D4E3\"},\"line\":{\"color\":\"white\"}},\"type\":\"table\"}],\"barpolar\":[{\"marker\":{\"line\":{\"color\":\"#E5ECF6\",\"width\":0.5},\"pattern\":{\"fillmode\":\"overlay\",\"size\":10,\"solidity\":0.2}},\"type\":\"barpolar\"}],\"pie\":[{\"automargin\":true,\"type\":\"pie\"}]},\"layout\":{\"autotypenumbers\":\"strict\",\"colorway\":[\"#636efa\",\"#EF553B\",\"#00cc96\",\"#ab63fa\",\"#FFA15A\",\"#19d3f3\",\"#FF6692\",\"#B6E880\",\"#FF97FF\",\"#FECB52\"],\"font\":{\"color\":\"#2a3f5f\"},\"hovermode\":\"closest\",\"hoverlabel\":{\"align\":\"left\"},\"paper_bgcolor\":\"white\",\"plot_bgcolor\":\"#E5ECF6\",\"polar\":{\"bgcolor\":\"#E5ECF6\",\"angularaxis\":{\"gridcolor\":\"white\",\"linecolor\":\"white\",\"ticks\":\"\"},\"radialaxis\":{\"gridcolor\":\"white\",\"linecolor\":\"white\",\"ticks\":\"\"}},\"ternary\":{\"bgcolor\":\"#E5ECF6\",\"aaxis\":{\"gridcolor\":\"white\",\"linecolor\":\"white\",\"ticks\":\"\"},\"baxis\":{\"gridcolor\":\"white\",\"linecolor\":\"white\",\"ticks\":\"\"},\"caxis\":{\"gridcolor\":\"white\",\"linecolor\":\"white\",\"ticks\":\"\"}},\"coloraxis\":{\"colorbar\":{\"outlinewidth\":0,\"ticks\":\"\"}},\"colorscale\":{\"sequential\":[[0.0,\"#0d0887\"],[0.1111111111111111,\"#46039f\"],[0.2222222222222222,\"#7201a8\"],[0.3333333333333333,\"#9c179e\"],[0.4444444444444444,\"#bd3786\"],[0.5555555555555556,\"#d8576b\"],[0.6666666666666666,\"#ed7953\"],[0.7777777777777778,\"#fb9f3a\"],[0.8888888888888888,\"#fdca26\"],[1.0,\"#f0f921\"]],\"sequentialminus\":[[0.0,\"#0d0887\"],[0.1111111111111111,\"#46039f\"],[0.2222222222222222,\"#7201a8\"],[0.3333333333333333,\"#9c179e\"],[0.4444444444444444,\"#bd3786\"],[0.5555555555555556,\"#d8576b\"],[0.6666666666666666,\"#ed7953\"],[0.7777777777777778,\"#fb9f3a\"],[0.8888888888888888,\"#fdca26\"],[1.0,\"#f0f921\"]],\"diverging\":[[0,\"#8e0152\"],[0.1,\"#c51b7d\"],[0.2,\"#de77ae\"],[0.3,\"#f1b6da\"],[0.4,\"#fde0ef\"],[0.5,\"#f7f7f7\"],[0.6,\"#e6f5d0\"],[0.7,\"#b8e186\"],[0.8,\"#7fbc41\"],[0.9,\"#4d9221\"],[1,\"#276419\"]]},\"xaxis\":{\"gridcolor\":\"white\",\"linecolor\":\"white\",\"ticks\":\"\",\"title\":{\"standoff\":15},\"zerolinecolor\":\"white\",\"automargin\":true,\"zerolinewidth\":2},\"yaxis\":{\"gridcolor\":\"white\",\"linecolor\":\"white\",\"ticks\":\"\",\"title\":{\"standoff\":15},\"zerolinecolor\":\"white\",\"automargin\":true,\"zerolinewidth\":2},\"scene\":{\"xaxis\":{\"backgroundcolor\":\"#E5ECF6\",\"gridcolor\":\"white\",\"linecolor\":\"white\",\"showbackground\":true,\"ticks\":\"\",\"zerolinecolor\":\"white\",\"gridwidth\":2},\"yaxis\":{\"backgroundcolor\":\"#E5ECF6\",\"gridcolor\":\"white\",\"linecolor\":\"white\",\"showbackground\":true,\"ticks\":\"\",\"zerolinecolor\":\"white\",\"gridwidth\":2},\"zaxis\":{\"backgroundcolor\":\"#E5ECF6\",\"gridcolor\":\"white\",\"linecolor\":\"white\",\"showbackground\":true,\"ticks\":\"\",\"zerolinecolor\":\"white\",\"gridwidth\":2}},\"shapedefaults\":{\"line\":{\"color\":\"#2a3f5f\"}},\"annotationdefaults\":{\"arrowcolor\":\"#2a3f5f\",\"arrowhead\":0,\"arrowwidth\":1},\"geo\":{\"bgcolor\":\"white\",\"landcolor\":\"#E5ECF6\",\"subunitcolor\":\"white\",\"showland\":true,\"showlakes\":true,\"lakecolor\":\"white\"},\"title\":{\"x\":0.05},\"mapbox\":{\"style\":\"light\"}}},\"xaxis\":{\"anchor\":\"y\",\"domain\":[0.0,1.0],\"title\":{\"text\":\"Sheltered ES Homeless - Female, 2021\"}},\"yaxis\":{\"anchor\":\"x\",\"domain\":[0.0,1.0],\"title\":{\"text\":\"Sheltered ES Homeless - Male, 2021\"}},\"legend\":{\"tracegroupgap\":0},\"title\":{\"text\":\"Scatter Plot For Sheltered ES Homeless - Male, 2021 VS Sheltered ES Homeless - Female, 2021\"}},                        {\"responsive\": true}                    ).then(function(){\n",
              "                            \n",
              "var gd = document.getElementById('e17853df-03e5-47a9-9a3b-07f8585ebf68');\n",
              "var x = new MutationObserver(function (mutations, observer) {{\n",
              "        var display = window.getComputedStyle(gd).display;\n",
              "        if (!display || display === 'none') {{\n",
              "            console.log([gd, 'removed!']);\n",
              "            Plotly.purge(gd);\n",
              "            observer.disconnect();\n",
              "        }}\n",
              "}});\n",
              "\n",
              "// Listen for the removal of the full notebook cells\n",
              "var notebookContainer = gd.closest('#notebook-container');\n",
              "if (notebookContainer) {{\n",
              "    x.observe(notebookContainer, {childList: true});\n",
              "}}\n",
              "\n",
              "// Listen for the clearing of the current output cell\n",
              "var outputEl = gd.closest('.output');\n",
              "if (outputEl) {{\n",
              "    x.observe(outputEl, {childList: true});\n",
              "}}\n",
              "\n",
              "                        })                };                            </script>        </div>\n",
              "</body>\n",
              "</html>"
            ]
          },
          "metadata": {}
        }
      ]
    },
    {
      "cell_type": "markdown",
      "source": [
        "· There is a strong positive linear relationship\n",
        "\n",
        "between the estimate of the number of females\n",
        "\n",
        "sheltered in an emergency facility and the\n",
        "\n",
        "estimate of the number of males sheltered in an\n",
        "\n",
        "emergency facility.\n",
        "\n",
        "· (Explanation of whether it was what the student\n",
        "\n",
        "expected.)"
      ],
      "metadata": {
        "id": "w4Lm0fWLBWJC"
      }
    },
    {
      "cell_type": "markdown",
      "source": [
        "###**M-Z**"
      ],
      "metadata": {
        "id": "mb-tX70SBbLb"
      }
    },
    {
      "cell_type": "code",
      "source": [
        "fig1MZ = px.scatter(df, x='Total Year-Round Beds (ES, TH, SH)', y='Overall Homeless, 2021',\n",
        "                    title='Scatter Plot For Overall Homeless, 2021 VS Total Year-Round Beds (ES, TH, SH)')\n",
        "fig1MZ"
      ],
      "metadata": {
        "id": "mQs46SsUBhQW",
        "outputId": "ddb30f29-d671-4ff1-aef8-09e626098a65",
        "colab": {
          "base_uri": "https://localhost:8080/",
          "height": 542
        }
      },
      "execution_count": 39,
      "outputs": [
        {
          "output_type": "display_data",
          "data": {
            "text/html": [
              "<html>\n",
              "<head><meta charset=\"utf-8\" /></head>\n",
              "<body>\n",
              "    <div>            <script src=\"https://cdnjs.cloudflare.com/ajax/libs/mathjax/2.7.5/MathJax.js?config=TeX-AMS-MML_SVG\"></script><script type=\"text/javascript\">if (window.MathJax && window.MathJax.Hub && window.MathJax.Hub.Config) {window.MathJax.Hub.Config({SVG: {font: \"STIX-Web\"}});}</script>                <script type=\"text/javascript\">window.PlotlyConfig = {MathJaxConfig: 'local'};</script>\n",
              "        <script charset=\"utf-8\" src=\"https://cdn.plot.ly/plotly-2.24.1.min.js\"></script>                <div id=\"b98019f1-21d8-4fbe-8ce6-a70437f19424\" class=\"plotly-graph-div\" style=\"height:525px; width:100%;\"></div>            <script type=\"text/javascript\">                                    window.PLOTLYENV=window.PLOTLYENV || {};                                    if (document.getElementById(\"b98019f1-21d8-4fbe-8ce6-a70437f19424\")) {                    Plotly.newPlot(                        \"b98019f1-21d8-4fbe-8ce6-a70437f19424\",                        [{\"hovertemplate\":\"Total Year-Round Beds (ES, TH, SH)=%{x}\\u003cbr\\u003eOverall Homeless, 2021=%{y}\\u003cextra\\u003e\\u003c\\u002fextra\\u003e\",\"legendgroup\":\"\",\"marker\":{\"color\":\"#636efa\",\"symbol\":\"circle\"},\"mode\":\"markers\",\"name\":\"\",\"orientation\":\"v\",\"showlegend\":false,\"x\":[133,599,155,149,198,508,177,256,2510,233,291,198,72,1771,56,905,1593,1442,914,291,71,750,402,880,90,219,61,258,3830,4432,1399,269,98,553,281,257,190,195,785,165,865,201,135,177,484,402,499,1283,283,475,957,1953,892,37,341,848,1345,1255,283,21107,5473,41,955,142,99,145,306,356,365,272,5866,626,2104,1531,146,30,151,3445,202,1578,691,429,241,86,869,601,292,258,421,427,449,226,565,365,179,1170,293,133,236,214],\"xaxis\":\"x\",\"y\":[78,419,165,125,62,342,138,226,4570,229,257,261,64,2314,54,989,1947,998,636,857,42,392,348,2150,151,322,27,301,3047,3650,1222,199,70,419,373,700,401,282,1043,814,775,186,171,420,287,372,300,817,224,535,943,2044,949,93,279,526,764,1295,731,17225,4143,79,1016,214,105,67,621,336,254,267,5530,1042,1780,1180,173,2,106,3050,97,1928,458,156,143,306,1267,519,571,274,425,310,314,143,548,577,171,783,225,472,324,151],\"yaxis\":\"y\",\"type\":\"scatter\"}],                        {\"template\":{\"data\":{\"histogram2dcontour\":[{\"type\":\"histogram2dcontour\",\"colorbar\":{\"outlinewidth\":0,\"ticks\":\"\"},\"colorscale\":[[0.0,\"#0d0887\"],[0.1111111111111111,\"#46039f\"],[0.2222222222222222,\"#7201a8\"],[0.3333333333333333,\"#9c179e\"],[0.4444444444444444,\"#bd3786\"],[0.5555555555555556,\"#d8576b\"],[0.6666666666666666,\"#ed7953\"],[0.7777777777777778,\"#fb9f3a\"],[0.8888888888888888,\"#fdca26\"],[1.0,\"#f0f921\"]]}],\"choropleth\":[{\"type\":\"choropleth\",\"colorbar\":{\"outlinewidth\":0,\"ticks\":\"\"}}],\"histogram2d\":[{\"type\":\"histogram2d\",\"colorbar\":{\"outlinewidth\":0,\"ticks\":\"\"},\"colorscale\":[[0.0,\"#0d0887\"],[0.1111111111111111,\"#46039f\"],[0.2222222222222222,\"#7201a8\"],[0.3333333333333333,\"#9c179e\"],[0.4444444444444444,\"#bd3786\"],[0.5555555555555556,\"#d8576b\"],[0.6666666666666666,\"#ed7953\"],[0.7777777777777778,\"#fb9f3a\"],[0.8888888888888888,\"#fdca26\"],[1.0,\"#f0f921\"]]}],\"heatmap\":[{\"type\":\"heatmap\",\"colorbar\":{\"outlinewidth\":0,\"ticks\":\"\"},\"colorscale\":[[0.0,\"#0d0887\"],[0.1111111111111111,\"#46039f\"],[0.2222222222222222,\"#7201a8\"],[0.3333333333333333,\"#9c179e\"],[0.4444444444444444,\"#bd3786\"],[0.5555555555555556,\"#d8576b\"],[0.6666666666666666,\"#ed7953\"],[0.7777777777777778,\"#fb9f3a\"],[0.8888888888888888,\"#fdca26\"],[1.0,\"#f0f921\"]]}],\"heatmapgl\":[{\"type\":\"heatmapgl\",\"colorbar\":{\"outlinewidth\":0,\"ticks\":\"\"},\"colorscale\":[[0.0,\"#0d0887\"],[0.1111111111111111,\"#46039f\"],[0.2222222222222222,\"#7201a8\"],[0.3333333333333333,\"#9c179e\"],[0.4444444444444444,\"#bd3786\"],[0.5555555555555556,\"#d8576b\"],[0.6666666666666666,\"#ed7953\"],[0.7777777777777778,\"#fb9f3a\"],[0.8888888888888888,\"#fdca26\"],[1.0,\"#f0f921\"]]}],\"contourcarpet\":[{\"type\":\"contourcarpet\",\"colorbar\":{\"outlinewidth\":0,\"ticks\":\"\"}}],\"contour\":[{\"type\":\"contour\",\"colorbar\":{\"outlinewidth\":0,\"ticks\":\"\"},\"colorscale\":[[0.0,\"#0d0887\"],[0.1111111111111111,\"#46039f\"],[0.2222222222222222,\"#7201a8\"],[0.3333333333333333,\"#9c179e\"],[0.4444444444444444,\"#bd3786\"],[0.5555555555555556,\"#d8576b\"],[0.6666666666666666,\"#ed7953\"],[0.7777777777777778,\"#fb9f3a\"],[0.8888888888888888,\"#fdca26\"],[1.0,\"#f0f921\"]]}],\"surface\":[{\"type\":\"surface\",\"colorbar\":{\"outlinewidth\":0,\"ticks\":\"\"},\"colorscale\":[[0.0,\"#0d0887\"],[0.1111111111111111,\"#46039f\"],[0.2222222222222222,\"#7201a8\"],[0.3333333333333333,\"#9c179e\"],[0.4444444444444444,\"#bd3786\"],[0.5555555555555556,\"#d8576b\"],[0.6666666666666666,\"#ed7953\"],[0.7777777777777778,\"#fb9f3a\"],[0.8888888888888888,\"#fdca26\"],[1.0,\"#f0f921\"]]}],\"mesh3d\":[{\"type\":\"mesh3d\",\"colorbar\":{\"outlinewidth\":0,\"ticks\":\"\"}}],\"scatter\":[{\"fillpattern\":{\"fillmode\":\"overlay\",\"size\":10,\"solidity\":0.2},\"type\":\"scatter\"}],\"parcoords\":[{\"type\":\"parcoords\",\"line\":{\"colorbar\":{\"outlinewidth\":0,\"ticks\":\"\"}}}],\"scatterpolargl\":[{\"type\":\"scatterpolargl\",\"marker\":{\"colorbar\":{\"outlinewidth\":0,\"ticks\":\"\"}}}],\"bar\":[{\"error_x\":{\"color\":\"#2a3f5f\"},\"error_y\":{\"color\":\"#2a3f5f\"},\"marker\":{\"line\":{\"color\":\"#E5ECF6\",\"width\":0.5},\"pattern\":{\"fillmode\":\"overlay\",\"size\":10,\"solidity\":0.2}},\"type\":\"bar\"}],\"scattergeo\":[{\"type\":\"scattergeo\",\"marker\":{\"colorbar\":{\"outlinewidth\":0,\"ticks\":\"\"}}}],\"scatterpolar\":[{\"type\":\"scatterpolar\",\"marker\":{\"colorbar\":{\"outlinewidth\":0,\"ticks\":\"\"}}}],\"histogram\":[{\"marker\":{\"pattern\":{\"fillmode\":\"overlay\",\"size\":10,\"solidity\":0.2}},\"type\":\"histogram\"}],\"scattergl\":[{\"type\":\"scattergl\",\"marker\":{\"colorbar\":{\"outlinewidth\":0,\"ticks\":\"\"}}}],\"scatter3d\":[{\"type\":\"scatter3d\",\"line\":{\"colorbar\":{\"outlinewidth\":0,\"ticks\":\"\"}},\"marker\":{\"colorbar\":{\"outlinewidth\":0,\"ticks\":\"\"}}}],\"scattermapbox\":[{\"type\":\"scattermapbox\",\"marker\":{\"colorbar\":{\"outlinewidth\":0,\"ticks\":\"\"}}}],\"scatterternary\":[{\"type\":\"scatterternary\",\"marker\":{\"colorbar\":{\"outlinewidth\":0,\"ticks\":\"\"}}}],\"scattercarpet\":[{\"type\":\"scattercarpet\",\"marker\":{\"colorbar\":{\"outlinewidth\":0,\"ticks\":\"\"}}}],\"carpet\":[{\"aaxis\":{\"endlinecolor\":\"#2a3f5f\",\"gridcolor\":\"white\",\"linecolor\":\"white\",\"minorgridcolor\":\"white\",\"startlinecolor\":\"#2a3f5f\"},\"baxis\":{\"endlinecolor\":\"#2a3f5f\",\"gridcolor\":\"white\",\"linecolor\":\"white\",\"minorgridcolor\":\"white\",\"startlinecolor\":\"#2a3f5f\"},\"type\":\"carpet\"}],\"table\":[{\"cells\":{\"fill\":{\"color\":\"#EBF0F8\"},\"line\":{\"color\":\"white\"}},\"header\":{\"fill\":{\"color\":\"#C8D4E3\"},\"line\":{\"color\":\"white\"}},\"type\":\"table\"}],\"barpolar\":[{\"marker\":{\"line\":{\"color\":\"#E5ECF6\",\"width\":0.5},\"pattern\":{\"fillmode\":\"overlay\",\"size\":10,\"solidity\":0.2}},\"type\":\"barpolar\"}],\"pie\":[{\"automargin\":true,\"type\":\"pie\"}]},\"layout\":{\"autotypenumbers\":\"strict\",\"colorway\":[\"#636efa\",\"#EF553B\",\"#00cc96\",\"#ab63fa\",\"#FFA15A\",\"#19d3f3\",\"#FF6692\",\"#B6E880\",\"#FF97FF\",\"#FECB52\"],\"font\":{\"color\":\"#2a3f5f\"},\"hovermode\":\"closest\",\"hoverlabel\":{\"align\":\"left\"},\"paper_bgcolor\":\"white\",\"plot_bgcolor\":\"#E5ECF6\",\"polar\":{\"bgcolor\":\"#E5ECF6\",\"angularaxis\":{\"gridcolor\":\"white\",\"linecolor\":\"white\",\"ticks\":\"\"},\"radialaxis\":{\"gridcolor\":\"white\",\"linecolor\":\"white\",\"ticks\":\"\"}},\"ternary\":{\"bgcolor\":\"#E5ECF6\",\"aaxis\":{\"gridcolor\":\"white\",\"linecolor\":\"white\",\"ticks\":\"\"},\"baxis\":{\"gridcolor\":\"white\",\"linecolor\":\"white\",\"ticks\":\"\"},\"caxis\":{\"gridcolor\":\"white\",\"linecolor\":\"white\",\"ticks\":\"\"}},\"coloraxis\":{\"colorbar\":{\"outlinewidth\":0,\"ticks\":\"\"}},\"colorscale\":{\"sequential\":[[0.0,\"#0d0887\"],[0.1111111111111111,\"#46039f\"],[0.2222222222222222,\"#7201a8\"],[0.3333333333333333,\"#9c179e\"],[0.4444444444444444,\"#bd3786\"],[0.5555555555555556,\"#d8576b\"],[0.6666666666666666,\"#ed7953\"],[0.7777777777777778,\"#fb9f3a\"],[0.8888888888888888,\"#fdca26\"],[1.0,\"#f0f921\"]],\"sequentialminus\":[[0.0,\"#0d0887\"],[0.1111111111111111,\"#46039f\"],[0.2222222222222222,\"#7201a8\"],[0.3333333333333333,\"#9c179e\"],[0.4444444444444444,\"#bd3786\"],[0.5555555555555556,\"#d8576b\"],[0.6666666666666666,\"#ed7953\"],[0.7777777777777778,\"#fb9f3a\"],[0.8888888888888888,\"#fdca26\"],[1.0,\"#f0f921\"]],\"diverging\":[[0,\"#8e0152\"],[0.1,\"#c51b7d\"],[0.2,\"#de77ae\"],[0.3,\"#f1b6da\"],[0.4,\"#fde0ef\"],[0.5,\"#f7f7f7\"],[0.6,\"#e6f5d0\"],[0.7,\"#b8e186\"],[0.8,\"#7fbc41\"],[0.9,\"#4d9221\"],[1,\"#276419\"]]},\"xaxis\":{\"gridcolor\":\"white\",\"linecolor\":\"white\",\"ticks\":\"\",\"title\":{\"standoff\":15},\"zerolinecolor\":\"white\",\"automargin\":true,\"zerolinewidth\":2},\"yaxis\":{\"gridcolor\":\"white\",\"linecolor\":\"white\",\"ticks\":\"\",\"title\":{\"standoff\":15},\"zerolinecolor\":\"white\",\"automargin\":true,\"zerolinewidth\":2},\"scene\":{\"xaxis\":{\"backgroundcolor\":\"#E5ECF6\",\"gridcolor\":\"white\",\"linecolor\":\"white\",\"showbackground\":true,\"ticks\":\"\",\"zerolinecolor\":\"white\",\"gridwidth\":2},\"yaxis\":{\"backgroundcolor\":\"#E5ECF6\",\"gridcolor\":\"white\",\"linecolor\":\"white\",\"showbackground\":true,\"ticks\":\"\",\"zerolinecolor\":\"white\",\"gridwidth\":2},\"zaxis\":{\"backgroundcolor\":\"#E5ECF6\",\"gridcolor\":\"white\",\"linecolor\":\"white\",\"showbackground\":true,\"ticks\":\"\",\"zerolinecolor\":\"white\",\"gridwidth\":2}},\"shapedefaults\":{\"line\":{\"color\":\"#2a3f5f\"}},\"annotationdefaults\":{\"arrowcolor\":\"#2a3f5f\",\"arrowhead\":0,\"arrowwidth\":1},\"geo\":{\"bgcolor\":\"white\",\"landcolor\":\"#E5ECF6\",\"subunitcolor\":\"white\",\"showland\":true,\"showlakes\":true,\"lakecolor\":\"white\"},\"title\":{\"x\":0.05},\"mapbox\":{\"style\":\"light\"}}},\"xaxis\":{\"anchor\":\"y\",\"domain\":[0.0,1.0],\"title\":{\"text\":\"Total Year-Round Beds (ES, TH, SH)\"}},\"yaxis\":{\"anchor\":\"x\",\"domain\":[0.0,1.0],\"title\":{\"text\":\"Overall Homeless, 2021\"}},\"legend\":{\"tracegroupgap\":0},\"title\":{\"text\":\"Scatter Plot For Overall Homeless, 2021 VS Total Year-Round Beds (ES, TH, SH)\"}},                        {\"responsive\": true}                    ).then(function(){\n",
              "                            \n",
              "var gd = document.getElementById('b98019f1-21d8-4fbe-8ce6-a70437f19424');\n",
              "var x = new MutationObserver(function (mutations, observer) {{\n",
              "        var display = window.getComputedStyle(gd).display;\n",
              "        if (!display || display === 'none') {{\n",
              "            console.log([gd, 'removed!']);\n",
              "            Plotly.purge(gd);\n",
              "            observer.disconnect();\n",
              "        }}\n",
              "}});\n",
              "\n",
              "// Listen for the removal of the full notebook cells\n",
              "var notebookContainer = gd.closest('#notebook-container');\n",
              "if (notebookContainer) {{\n",
              "    x.observe(notebookContainer, {childList: true});\n",
              "}}\n",
              "\n",
              "// Listen for the clearing of the current output cell\n",
              "var outputEl = gd.closest('.output');\n",
              "if (outputEl) {{\n",
              "    x.observe(outputEl, {childList: true});\n",
              "}}\n",
              "\n",
              "                        })                };                            </script>        </div>\n",
              "</body>\n",
              "</html>"
            ]
          },
          "metadata": {}
        }
      ]
    },
    {
      "cell_type": "markdown",
      "source": [
        "· There is a strong positive linear relationship between the total number of year-round beds and overall homelessness.\n",
        "\n",
        "· (Explanation of whether it was what the student expected."
      ],
      "metadata": {
        "id": "mJNs--6BB32Y"
      }
    },
    {
      "cell_type": "markdown",
      "source": [
        "##**Question 2**"
      ],
      "metadata": {
        "id": "JN-XdpXMCA1m"
      }
    },
    {
      "cell_type": "markdown",
      "source": [
        "Compute and interpret the value of the correlation coefficient between the two variables"
      ],
      "metadata": {
        "id": "P0yARTkACX-S"
      }
    },
    {
      "cell_type": "markdown",
      "source": [
        "###**A-L**"
      ],
      "metadata": {
        "id": "5o-BEzgMCbbP"
      }
    },
    {
      "cell_type": "code",
      "source": [
        "# Using Pandas Dataframes and Numpy calculations we are able to make the correct computations and place those\n",
        "# values in a new Dataframe with their own respective column names and values\n",
        "\n",
        "male = df['Sheltered ES Homeless - Male, 2021'].values\n",
        "female = df['Sheltered ES Homeless - Female, 2021'].values\n",
        "\n",
        "R_AM = round(np.corrcoef(male,female)[0,1],3) # R\n",
        "R2_AM = round(R_AM**2,3) # R^2\n",
        "\n",
        "observations = len(df['Sheltered ES Homeless - Male, 2021']) + len(df['Sheltered ES Homeless - Female, 2021'])\n",
        "A_R2_AM = round(1 - (1-R2_AM) * (observations-1) / (observations - 2 - 1),3) # Adjusted R^2\n",
        "\n",
        "# Compute residuals\n",
        "residuals = female - R_AM * male\n",
        "\n",
        "# Compute the standard error of the estimate\n",
        "std_error = np.sqrt(np.sum(residuals ** 2) / (len(male)- 2))\n",
        "# Standard Error = 17.43\n",
        "\n",
        "model_summary_AM = pd.DataFrame([[R_AM, R2_AM, A_R2_AM, 184.432]],columns=['R','R Square','Adj. R Square','Std. Error Of Estimate'])\n",
        "\n",
        "\n",
        "model_summary_AM"
      ],
      "metadata": {
        "id": "xHlLgI_0Cqmx",
        "outputId": "2e32503c-75eb-4156-e9fe-00067638c76f",
        "colab": {
          "base_uri": "https://localhost:8080/",
          "height": 89
        }
      },
      "execution_count": 40,
      "outputs": [
        {
          "output_type": "execute_result",
          "data": {
            "text/plain": [
              "       R  R Square  Adj. R Square  Std. Error Of Estimate\n",
              "0  0.974     0.949          0.948                 184.432"
            ],
            "text/html": [
              "\n",
              "  <div id=\"df-04c90e9e-fe36-42ae-a1e0-a4d122e9a5ee\" class=\"colab-df-container\">\n",
              "    <div>\n",
              "<style scoped>\n",
              "    .dataframe tbody tr th:only-of-type {\n",
              "        vertical-align: middle;\n",
              "    }\n",
              "\n",
              "    .dataframe tbody tr th {\n",
              "        vertical-align: top;\n",
              "    }\n",
              "\n",
              "    .dataframe thead th {\n",
              "        text-align: right;\n",
              "    }\n",
              "</style>\n",
              "<table border=\"1\" class=\"dataframe\">\n",
              "  <thead>\n",
              "    <tr style=\"text-align: right;\">\n",
              "      <th></th>\n",
              "      <th>R</th>\n",
              "      <th>R Square</th>\n",
              "      <th>Adj. R Square</th>\n",
              "      <th>Std. Error Of Estimate</th>\n",
              "    </tr>\n",
              "  </thead>\n",
              "  <tbody>\n",
              "    <tr>\n",
              "      <th>0</th>\n",
              "      <td>0.974</td>\n",
              "      <td>0.949</td>\n",
              "      <td>0.948</td>\n",
              "      <td>184.432</td>\n",
              "    </tr>\n",
              "  </tbody>\n",
              "</table>\n",
              "</div>\n",
              "    <div class=\"colab-df-buttons\">\n",
              "\n",
              "  <div class=\"colab-df-container\">\n",
              "    <button class=\"colab-df-convert\" onclick=\"convertToInteractive('df-04c90e9e-fe36-42ae-a1e0-a4d122e9a5ee')\"\n",
              "            title=\"Convert this dataframe to an interactive table.\"\n",
              "            style=\"display:none;\">\n",
              "\n",
              "  <svg xmlns=\"http://www.w3.org/2000/svg\" height=\"24px\" viewBox=\"0 -960 960 960\">\n",
              "    <path d=\"M120-120v-720h720v720H120Zm60-500h600v-160H180v160Zm220 220h160v-160H400v160Zm0 220h160v-160H400v160ZM180-400h160v-160H180v160Zm440 0h160v-160H620v160ZM180-180h160v-160H180v160Zm440 0h160v-160H620v160Z\"/>\n",
              "  </svg>\n",
              "    </button>\n",
              "\n",
              "  <style>\n",
              "    .colab-df-container {\n",
              "      display:flex;\n",
              "      gap: 12px;\n",
              "    }\n",
              "\n",
              "    .colab-df-convert {\n",
              "      background-color: #E8F0FE;\n",
              "      border: none;\n",
              "      border-radius: 50%;\n",
              "      cursor: pointer;\n",
              "      display: none;\n",
              "      fill: #1967D2;\n",
              "      height: 32px;\n",
              "      padding: 0 0 0 0;\n",
              "      width: 32px;\n",
              "    }\n",
              "\n",
              "    .colab-df-convert:hover {\n",
              "      background-color: #E2EBFA;\n",
              "      box-shadow: 0px 1px 2px rgba(60, 64, 67, 0.3), 0px 1px 3px 1px rgba(60, 64, 67, 0.15);\n",
              "      fill: #174EA6;\n",
              "    }\n",
              "\n",
              "    .colab-df-buttons div {\n",
              "      margin-bottom: 4px;\n",
              "    }\n",
              "\n",
              "    [theme=dark] .colab-df-convert {\n",
              "      background-color: #3B4455;\n",
              "      fill: #D2E3FC;\n",
              "    }\n",
              "\n",
              "    [theme=dark] .colab-df-convert:hover {\n",
              "      background-color: #434B5C;\n",
              "      box-shadow: 0px 1px 3px 1px rgba(0, 0, 0, 0.15);\n",
              "      filter: drop-shadow(0px 1px 2px rgba(0, 0, 0, 0.3));\n",
              "      fill: #FFFFFF;\n",
              "    }\n",
              "  </style>\n",
              "\n",
              "    <script>\n",
              "      const buttonEl =\n",
              "        document.querySelector('#df-04c90e9e-fe36-42ae-a1e0-a4d122e9a5ee button.colab-df-convert');\n",
              "      buttonEl.style.display =\n",
              "        google.colab.kernel.accessAllowed ? 'block' : 'none';\n",
              "\n",
              "      async function convertToInteractive(key) {\n",
              "        const element = document.querySelector('#df-04c90e9e-fe36-42ae-a1e0-a4d122e9a5ee');\n",
              "        const dataTable =\n",
              "          await google.colab.kernel.invokeFunction('convertToInteractive',\n",
              "                                                    [key], {});\n",
              "        if (!dataTable) return;\n",
              "\n",
              "        const docLinkHtml = 'Like what you see? Visit the ' +\n",
              "          '<a target=\"_blank\" href=https://colab.research.google.com/notebooks/data_table.ipynb>data table notebook</a>'\n",
              "          + ' to learn more about interactive tables.';\n",
              "        element.innerHTML = '';\n",
              "        dataTable['output_type'] = 'display_data';\n",
              "        await google.colab.output.renderOutput(dataTable, element);\n",
              "        const docLink = document.createElement('div');\n",
              "        docLink.innerHTML = docLinkHtml;\n",
              "        element.appendChild(docLink);\n",
              "      }\n",
              "    </script>\n",
              "  </div>\n",
              "\n",
              "\n",
              "  <div id=\"id_96b7e1cf-c956-4ccd-8c74-398f89d3e4ec\">\n",
              "    <style>\n",
              "      .colab-df-generate {\n",
              "        background-color: #E8F0FE;\n",
              "        border: none;\n",
              "        border-radius: 50%;\n",
              "        cursor: pointer;\n",
              "        display: none;\n",
              "        fill: #1967D2;\n",
              "        height: 32px;\n",
              "        padding: 0 0 0 0;\n",
              "        width: 32px;\n",
              "      }\n",
              "\n",
              "      .colab-df-generate:hover {\n",
              "        background-color: #E2EBFA;\n",
              "        box-shadow: 0px 1px 2px rgba(60, 64, 67, 0.3), 0px 1px 3px 1px rgba(60, 64, 67, 0.15);\n",
              "        fill: #174EA6;\n",
              "      }\n",
              "\n",
              "      [theme=dark] .colab-df-generate {\n",
              "        background-color: #3B4455;\n",
              "        fill: #D2E3FC;\n",
              "      }\n",
              "\n",
              "      [theme=dark] .colab-df-generate:hover {\n",
              "        background-color: #434B5C;\n",
              "        box-shadow: 0px 1px 3px 1px rgba(0, 0, 0, 0.15);\n",
              "        filter: drop-shadow(0px 1px 2px rgba(0, 0, 0, 0.3));\n",
              "        fill: #FFFFFF;\n",
              "      }\n",
              "    </style>\n",
              "    <button class=\"colab-df-generate\" onclick=\"generateWithVariable('model_summary_AM')\"\n",
              "            title=\"Generate code using this dataframe.\"\n",
              "            style=\"display:none;\">\n",
              "\n",
              "  <svg xmlns=\"http://www.w3.org/2000/svg\" height=\"24px\"viewBox=\"0 0 24 24\"\n",
              "       width=\"24px\">\n",
              "    <path d=\"M7,19H8.4L18.45,9,17,7.55,7,17.6ZM5,21V16.75L18.45,3.32a2,2,0,0,1,2.83,0l1.4,1.43a1.91,1.91,0,0,1,.58,1.4,1.91,1.91,0,0,1-.58,1.4L9.25,21ZM18.45,9,17,7.55Zm-12,3A5.31,5.31,0,0,0,4.9,8.1,5.31,5.31,0,0,0,1,6.5,5.31,5.31,0,0,0,4.9,4.9,5.31,5.31,0,0,0,6.5,1,5.31,5.31,0,0,0,8.1,4.9,5.31,5.31,0,0,0,12,6.5,5.46,5.46,0,0,0,6.5,12Z\"/>\n",
              "  </svg>\n",
              "    </button>\n",
              "    <script>\n",
              "      (() => {\n",
              "      const buttonEl =\n",
              "        document.querySelector('#id_96b7e1cf-c956-4ccd-8c74-398f89d3e4ec button.colab-df-generate');\n",
              "      buttonEl.style.display =\n",
              "        google.colab.kernel.accessAllowed ? 'block' : 'none';\n",
              "\n",
              "      buttonEl.onclick = () => {\n",
              "        google.colab.notebook.generateWithVariable('model_summary_AM');\n",
              "      }\n",
              "      })();\n",
              "    </script>\n",
              "  </div>\n",
              "\n",
              "    </div>\n",
              "  </div>\n"
            ],
            "application/vnd.google.colaboratory.intrinsic+json": {
              "type": "dataframe",
              "variable_name": "model_summary_AM",
              "summary": "{\n  \"name\": \"model_summary_AM\",\n  \"rows\": 1,\n  \"fields\": [\n    {\n      \"column\": \"R\",\n      \"properties\": {\n        \"dtype\": \"number\",\n        \"std\": null,\n        \"min\": 0.974,\n        \"max\": 0.974,\n        \"num_unique_values\": 1,\n        \"samples\": [\n          0.974\n        ],\n        \"semantic_type\": \"\",\n        \"description\": \"\"\n      }\n    },\n    {\n      \"column\": \"R Square\",\n      \"properties\": {\n        \"dtype\": \"number\",\n        \"std\": null,\n        \"min\": 0.949,\n        \"max\": 0.949,\n        \"num_unique_values\": 1,\n        \"samples\": [\n          0.949\n        ],\n        \"semantic_type\": \"\",\n        \"description\": \"\"\n      }\n    },\n    {\n      \"column\": \"Adj. R Square\",\n      \"properties\": {\n        \"dtype\": \"number\",\n        \"std\": null,\n        \"min\": 0.948,\n        \"max\": 0.948,\n        \"num_unique_values\": 1,\n        \"samples\": [\n          0.948\n        ],\n        \"semantic_type\": \"\",\n        \"description\": \"\"\n      }\n    },\n    {\n      \"column\": \"Std. Error Of Estimate\",\n      \"properties\": {\n        \"dtype\": \"number\",\n        \"std\": null,\n        \"min\": 184.432,\n        \"max\": 184.432,\n        \"num_unique_values\": 1,\n        \"samples\": [\n          184.432\n        ],\n        \"semantic_type\": \"\",\n        \"description\": \"\"\n      }\n    }\n  ]\n}"
            }
          },
          "metadata": {},
          "execution_count": 40
        }
      ]
    },
    {
      "cell_type": "markdown",
      "source": [
        "· There is a strong positive linear relationship\n",
        "\n",
        "between estimate of the number of females\n",
        "\n",
        "sheltered in an emergency facility and the\n",
        "\n",
        "estimate of the number of males sheltered in an\n",
        "\n",
        "emergency facility."
      ],
      "metadata": {
        "id": "j-jQfFJvDP50"
      }
    },
    {
      "cell_type": "markdown",
      "source": [
        "###**M-Z**"
      ],
      "metadata": {
        "id": "EszsGyC6CelK"
      }
    },
    {
      "cell_type": "code",
      "source": [
        "# Using Pandas Dataframes and Numpy calculations we are able to make the correct computations and place those\n",
        "# values in a new Dataframe with their own respective column names and values\n",
        "\n",
        "homeless = df['Overall Homeless, 2021'].values\n",
        "beds = df['Total Year-Round Beds (ES, TH, SH)'].values\n",
        "\n",
        "R_AM = round(np.corrcoef(homeless,beds)[0,1],3) # R\n",
        "R2_AM = round(R_AM**2,3) # R^2\n",
        "\n",
        "observations = len(df['Overall Homeless, 2021']) + len(df['Total Year-Round Beds (ES, TH, SH)'])\n",
        "A_R2_AM = round(1 - (1-R2_AM) * (observations-1) / (observations - 2 - 1),3) # Adjusted R^2\n",
        "\n",
        "# Compute residuals\n",
        "residuals = beds - R_AM * homeless\n",
        "\n",
        "# Compute the standard error of the estimate\n",
        "std_error = np.sqrt(np.sum(residuals ** 2) / (len(male)- 2))\n",
        "# Standard Error = 17.43\n",
        "\n",
        "model_summary_AM = pd.DataFrame([[R_AM, R2_AM, A_R2_AM, 359.756]],columns=['R','R Square','Adj. R Square','Std. Error Of Estimate'])\n",
        "\n",
        "\n",
        "model_summary_AM"
      ],
      "metadata": {
        "id": "fhzztRDiCDjF",
        "outputId": "6adfd047-1956-4b2c-aefa-5b4cbb3b17d4",
        "colab": {
          "base_uri": "https://localhost:8080/",
          "height": 89
        }
      },
      "execution_count": 41,
      "outputs": [
        {
          "output_type": "execute_result",
          "data": {
            "text/plain": [
              "       R  R Square  Adj. R Square  Std. Error Of Estimate\n",
              "0  0.983     0.966          0.966                 359.756"
            ],
            "text/html": [
              "\n",
              "  <div id=\"df-fcc50b68-4a76-4f81-be04-acd323132da9\" class=\"colab-df-container\">\n",
              "    <div>\n",
              "<style scoped>\n",
              "    .dataframe tbody tr th:only-of-type {\n",
              "        vertical-align: middle;\n",
              "    }\n",
              "\n",
              "    .dataframe tbody tr th {\n",
              "        vertical-align: top;\n",
              "    }\n",
              "\n",
              "    .dataframe thead th {\n",
              "        text-align: right;\n",
              "    }\n",
              "</style>\n",
              "<table border=\"1\" class=\"dataframe\">\n",
              "  <thead>\n",
              "    <tr style=\"text-align: right;\">\n",
              "      <th></th>\n",
              "      <th>R</th>\n",
              "      <th>R Square</th>\n",
              "      <th>Adj. R Square</th>\n",
              "      <th>Std. Error Of Estimate</th>\n",
              "    </tr>\n",
              "  </thead>\n",
              "  <tbody>\n",
              "    <tr>\n",
              "      <th>0</th>\n",
              "      <td>0.983</td>\n",
              "      <td>0.966</td>\n",
              "      <td>0.966</td>\n",
              "      <td>359.756</td>\n",
              "    </tr>\n",
              "  </tbody>\n",
              "</table>\n",
              "</div>\n",
              "    <div class=\"colab-df-buttons\">\n",
              "\n",
              "  <div class=\"colab-df-container\">\n",
              "    <button class=\"colab-df-convert\" onclick=\"convertToInteractive('df-fcc50b68-4a76-4f81-be04-acd323132da9')\"\n",
              "            title=\"Convert this dataframe to an interactive table.\"\n",
              "            style=\"display:none;\">\n",
              "\n",
              "  <svg xmlns=\"http://www.w3.org/2000/svg\" height=\"24px\" viewBox=\"0 -960 960 960\">\n",
              "    <path d=\"M120-120v-720h720v720H120Zm60-500h600v-160H180v160Zm220 220h160v-160H400v160Zm0 220h160v-160H400v160ZM180-400h160v-160H180v160Zm440 0h160v-160H620v160ZM180-180h160v-160H180v160Zm440 0h160v-160H620v160Z\"/>\n",
              "  </svg>\n",
              "    </button>\n",
              "\n",
              "  <style>\n",
              "    .colab-df-container {\n",
              "      display:flex;\n",
              "      gap: 12px;\n",
              "    }\n",
              "\n",
              "    .colab-df-convert {\n",
              "      background-color: #E8F0FE;\n",
              "      border: none;\n",
              "      border-radius: 50%;\n",
              "      cursor: pointer;\n",
              "      display: none;\n",
              "      fill: #1967D2;\n",
              "      height: 32px;\n",
              "      padding: 0 0 0 0;\n",
              "      width: 32px;\n",
              "    }\n",
              "\n",
              "    .colab-df-convert:hover {\n",
              "      background-color: #E2EBFA;\n",
              "      box-shadow: 0px 1px 2px rgba(60, 64, 67, 0.3), 0px 1px 3px 1px rgba(60, 64, 67, 0.15);\n",
              "      fill: #174EA6;\n",
              "    }\n",
              "\n",
              "    .colab-df-buttons div {\n",
              "      margin-bottom: 4px;\n",
              "    }\n",
              "\n",
              "    [theme=dark] .colab-df-convert {\n",
              "      background-color: #3B4455;\n",
              "      fill: #D2E3FC;\n",
              "    }\n",
              "\n",
              "    [theme=dark] .colab-df-convert:hover {\n",
              "      background-color: #434B5C;\n",
              "      box-shadow: 0px 1px 3px 1px rgba(0, 0, 0, 0.15);\n",
              "      filter: drop-shadow(0px 1px 2px rgba(0, 0, 0, 0.3));\n",
              "      fill: #FFFFFF;\n",
              "    }\n",
              "  </style>\n",
              "\n",
              "    <script>\n",
              "      const buttonEl =\n",
              "        document.querySelector('#df-fcc50b68-4a76-4f81-be04-acd323132da9 button.colab-df-convert');\n",
              "      buttonEl.style.display =\n",
              "        google.colab.kernel.accessAllowed ? 'block' : 'none';\n",
              "\n",
              "      async function convertToInteractive(key) {\n",
              "        const element = document.querySelector('#df-fcc50b68-4a76-4f81-be04-acd323132da9');\n",
              "        const dataTable =\n",
              "          await google.colab.kernel.invokeFunction('convertToInteractive',\n",
              "                                                    [key], {});\n",
              "        if (!dataTable) return;\n",
              "\n",
              "        const docLinkHtml = 'Like what you see? Visit the ' +\n",
              "          '<a target=\"_blank\" href=https://colab.research.google.com/notebooks/data_table.ipynb>data table notebook</a>'\n",
              "          + ' to learn more about interactive tables.';\n",
              "        element.innerHTML = '';\n",
              "        dataTable['output_type'] = 'display_data';\n",
              "        await google.colab.output.renderOutput(dataTable, element);\n",
              "        const docLink = document.createElement('div');\n",
              "        docLink.innerHTML = docLinkHtml;\n",
              "        element.appendChild(docLink);\n",
              "      }\n",
              "    </script>\n",
              "  </div>\n",
              "\n",
              "\n",
              "  <div id=\"id_4dfa010b-b8be-4a1b-a251-03e68cbfb682\">\n",
              "    <style>\n",
              "      .colab-df-generate {\n",
              "        background-color: #E8F0FE;\n",
              "        border: none;\n",
              "        border-radius: 50%;\n",
              "        cursor: pointer;\n",
              "        display: none;\n",
              "        fill: #1967D2;\n",
              "        height: 32px;\n",
              "        padding: 0 0 0 0;\n",
              "        width: 32px;\n",
              "      }\n",
              "\n",
              "      .colab-df-generate:hover {\n",
              "        background-color: #E2EBFA;\n",
              "        box-shadow: 0px 1px 2px rgba(60, 64, 67, 0.3), 0px 1px 3px 1px rgba(60, 64, 67, 0.15);\n",
              "        fill: #174EA6;\n",
              "      }\n",
              "\n",
              "      [theme=dark] .colab-df-generate {\n",
              "        background-color: #3B4455;\n",
              "        fill: #D2E3FC;\n",
              "      }\n",
              "\n",
              "      [theme=dark] .colab-df-generate:hover {\n",
              "        background-color: #434B5C;\n",
              "        box-shadow: 0px 1px 3px 1px rgba(0, 0, 0, 0.15);\n",
              "        filter: drop-shadow(0px 1px 2px rgba(0, 0, 0, 0.3));\n",
              "        fill: #FFFFFF;\n",
              "      }\n",
              "    </style>\n",
              "    <button class=\"colab-df-generate\" onclick=\"generateWithVariable('model_summary_AM')\"\n",
              "            title=\"Generate code using this dataframe.\"\n",
              "            style=\"display:none;\">\n",
              "\n",
              "  <svg xmlns=\"http://www.w3.org/2000/svg\" height=\"24px\"viewBox=\"0 0 24 24\"\n",
              "       width=\"24px\">\n",
              "    <path d=\"M7,19H8.4L18.45,9,17,7.55,7,17.6ZM5,21V16.75L18.45,3.32a2,2,0,0,1,2.83,0l1.4,1.43a1.91,1.91,0,0,1,.58,1.4,1.91,1.91,0,0,1-.58,1.4L9.25,21ZM18.45,9,17,7.55Zm-12,3A5.31,5.31,0,0,0,4.9,8.1,5.31,5.31,0,0,0,1,6.5,5.31,5.31,0,0,0,4.9,4.9,5.31,5.31,0,0,0,6.5,1,5.31,5.31,0,0,0,8.1,4.9,5.31,5.31,0,0,0,12,6.5,5.46,5.46,0,0,0,6.5,12Z\"/>\n",
              "  </svg>\n",
              "    </button>\n",
              "    <script>\n",
              "      (() => {\n",
              "      const buttonEl =\n",
              "        document.querySelector('#id_4dfa010b-b8be-4a1b-a251-03e68cbfb682 button.colab-df-generate');\n",
              "      buttonEl.style.display =\n",
              "        google.colab.kernel.accessAllowed ? 'block' : 'none';\n",
              "\n",
              "      buttonEl.onclick = () => {\n",
              "        google.colab.notebook.generateWithVariable('model_summary_AM');\n",
              "      }\n",
              "      })();\n",
              "    </script>\n",
              "  </div>\n",
              "\n",
              "    </div>\n",
              "  </div>\n"
            ],
            "application/vnd.google.colaboratory.intrinsic+json": {
              "type": "dataframe",
              "variable_name": "model_summary_AM",
              "summary": "{\n  \"name\": \"model_summary_AM\",\n  \"rows\": 1,\n  \"fields\": [\n    {\n      \"column\": \"R\",\n      \"properties\": {\n        \"dtype\": \"number\",\n        \"std\": null,\n        \"min\": 0.983,\n        \"max\": 0.983,\n        \"num_unique_values\": 1,\n        \"samples\": [\n          0.983\n        ],\n        \"semantic_type\": \"\",\n        \"description\": \"\"\n      }\n    },\n    {\n      \"column\": \"R Square\",\n      \"properties\": {\n        \"dtype\": \"number\",\n        \"std\": null,\n        \"min\": 0.966,\n        \"max\": 0.966,\n        \"num_unique_values\": 1,\n        \"samples\": [\n          0.966\n        ],\n        \"semantic_type\": \"\",\n        \"description\": \"\"\n      }\n    },\n    {\n      \"column\": \"Adj. R Square\",\n      \"properties\": {\n        \"dtype\": \"number\",\n        \"std\": null,\n        \"min\": 0.966,\n        \"max\": 0.966,\n        \"num_unique_values\": 1,\n        \"samples\": [\n          0.966\n        ],\n        \"semantic_type\": \"\",\n        \"description\": \"\"\n      }\n    },\n    {\n      \"column\": \"Std. Error Of Estimate\",\n      \"properties\": {\n        \"dtype\": \"number\",\n        \"std\": null,\n        \"min\": 359.756,\n        \"max\": 359.756,\n        \"num_unique_values\": 1,\n        \"samples\": [\n          359.756\n        ],\n        \"semantic_type\": \"\",\n        \"description\": \"\"\n      }\n    }\n  ]\n}"
            }
          },
          "metadata": {},
          "execution_count": 41
        }
      ]
    },
    {
      "cell_type": "markdown",
      "source": [
        "There is a strong positive linear relationship between the total number of year-round beds and overall homelessness."
      ],
      "metadata": {
        "id": "RZKem_x8DwhJ"
      }
    },
    {
      "cell_type": "markdown",
      "source": [
        "##**Question 3**"
      ],
      "metadata": {
        "id": "tXbC_uZKD8kX"
      }
    },
    {
      "cell_type": "markdown",
      "source": [
        "Compute the least squares regression line describing the relationships between the dependent and independent variable. Add the regression line to the scatterplot. Then type out the prediction equation."
      ],
      "metadata": {
        "id": "AQEnJSx4EFIL"
      }
    },
    {
      "cell_type": "markdown",
      "source": [
        "###**A-L**"
      ],
      "metadata": {
        "id": "Ir_ZMkzfFLyZ"
      }
    },
    {
      "cell_type": "code",
      "source": [
        "# Computing the least squares regression line\n",
        "slope_AM, intercept_AM = np.polyfit(female, male, 1)\n",
        "\n",
        "regression_line_AM = slope_AM * df['Sheltered ES Homeless - Female, 2021'] + intercept_AM\n",
        "\n",
        "fig2_AM = fig1AM.add_scatter(x=df['Sheltered ES Homeless - Female, 2021'], y=regression_line_AM, mode='lines', name='Regression Line')\n",
        "\n",
        "fig2_AM"
      ],
      "metadata": {
        "id": "eqmJDJMBD-wY",
        "outputId": "b5190d6a-4d3e-4f8e-aa6f-0a435f8cbd38",
        "colab": {
          "base_uri": "https://localhost:8080/",
          "height": 542
        }
      },
      "execution_count": 42,
      "outputs": [
        {
          "output_type": "display_data",
          "data": {
            "text/html": [
              "<html>\n",
              "<head><meta charset=\"utf-8\" /></head>\n",
              "<body>\n",
              "    <div>            <script src=\"https://cdnjs.cloudflare.com/ajax/libs/mathjax/2.7.5/MathJax.js?config=TeX-AMS-MML_SVG\"></script><script type=\"text/javascript\">if (window.MathJax && window.MathJax.Hub && window.MathJax.Hub.Config) {window.MathJax.Hub.Config({SVG: {font: \"STIX-Web\"}});}</script>                <script type=\"text/javascript\">window.PlotlyConfig = {MathJaxConfig: 'local'};</script>\n",
              "        <script charset=\"utf-8\" src=\"https://cdn.plot.ly/plotly-2.24.1.min.js\"></script>                <div id=\"d7f86553-7d1f-4e58-8cf3-c1f172c29855\" class=\"plotly-graph-div\" style=\"height:525px; width:100%;\"></div>            <script type=\"text/javascript\">                                    window.PLOTLYENV=window.PLOTLYENV || {};                                    if (document.getElementById(\"d7f86553-7d1f-4e58-8cf3-c1f172c29855\")) {                    Plotly.newPlot(                        \"d7f86553-7d1f-4e58-8cf3-c1f172c29855\",                        [{\"hovertemplate\":\"Sheltered ES Homeless - Female, 2021=%{x}\\u003cbr\\u003eSheltered ES Homeless - Male, 2021=%{y}\\u003cextra\\u003e\\u003c\\u002fextra\\u003e\",\"legendgroup\":\"\",\"marker\":{\"color\":\"#636efa\",\"symbol\":\"circle\"},\"mode\":\"markers\",\"name\":\"\",\"orientation\":\"v\",\"showlegend\":false,\"x\":[21,110,34,49,41,132,77,65,706,74,47,76,23,579,10,342,560,437,284,108,11,136,93,177,31,82,27,56,743,1108,242,98,24,75,165,301,80,67,194,39,234,40,43,43,76,134,110,319,111,153,537,561,291,23,68,91,296,136,14,6848,1193,43,322,57,45,39,179,105,57,104,1377,111,452,358,72,2,20,1445,23,470,175,74,32,5,360,89,210,54,141,70,33,21,65,173,52,153,41,61,122,66],\"xaxis\":\"x\",\"y\":[19,150,46,75,13,145,39,63,1899,53,74,96,31,886,8,488,869,511,241,109,13,144,104,261,29,116,0,60,1053,1283,421,87,10,205,187,385,120,106,304,19,294,40,88,31,109,133,164,397,84,170,390,881,444,38,73,200,228,312,22,7200,1672,34,454,95,31,28,282,122,111,162,2681,282,739,338,56,0,29,1390,31,846,167,74,74,20,504,157,255,87,137,99,51,29,66,275,82,276,63,43,101,52],\"yaxis\":\"y\",\"type\":\"scatter\"},{\"mode\":\"lines\",\"name\":\"Regression Line\",\"x\":[21,110,34,49,41,132,77,65,706,74,47,76,23,579,10,342,560,437,284,108,11,136,93,177,31,82,27,56,743,1108,242,98,24,75,165,301,80,67,194,39,234,40,43,43,76,134,110,319,111,153,537,561,291,23,68,91,296,136,14,6848,1193,43,322,57,45,39,179,105,57,104,1377,111,452,358,72,2,20,1445,23,470,175,74,32,5,360,89,210,54,141,70,33,21,65,173,52,153,41,61,122,66],\"y\":[75.75906323053039,173.71016580923748,90.06652765213929,106.57514044630341,97.77054695608254,197.92279790734483,137.39121766207643,124.18432742674513,829.6523808306915,134.0894951032436,104.37399207374818,136.2906434757988,77.96021160308561,689.8794591734354,63.65274718147671,429.04337702564237,668.9685496341608,533.5979247220151,365.21007422154116,171.50901743668226,64.75332136775432,202.32509465245528,155.00040464251813,247.44863628983717,86.76480509330648,142.89408859346446,82.36250834819603,114.27915975024666,870.373625722963,1272.0832037142898,318.98595839788163,160.50327557390617,79.06078578936322,135.1900692895212,234.24174605450588,383.9198353882605,140.69294022090924,126.38547579930034,266.1583974565565,95.56939858352733,310.1813649076608,96.66997276980493,99.97169532863776,99.97169532863776,136.2906434757988,200.12394627990005,173.71016580923748,403.73017074125744,174.81073999551506,221.0348558191746,643.6553433497759,670.0691238204384,372.9140935254844,77.96021160308561,127.48604998557795,152.79925626996294,378.41696445687245,202.32509465245528,68.05504392658715,7589.379032947757,1365.6320095478864,99.97169532863776,407.03189330009025,115.37973393652426,102.17284370119297,95.56939858352733,249.6497846623924,168.20729487784942,115.37973393652426,167.1067206915718,1568.137659822966,174.81073999551506,550.1065375161793,446.6525640060841,131.8883467306884,54.84815369125585,74.65848904425279,1642.9767044898435,77.96021160308561,569.9168728691761,245.24748791728194,134.0894951032436,87.86537927958408,58.149876250088674,448.85371237863933,150.59810789740771,283.7675844369982,112.07801137769144,207.8279655838433,129.68719835813317,88.96595346586167,75.75906323053039,124.18432742674513,243.04633954472672,109.87686300513623,221.0348558191746,97.77054695608254,119.7820306816347,186.91705604456877,125.28490161302273],\"type\":\"scatter\"}],                        {\"template\":{\"data\":{\"histogram2dcontour\":[{\"type\":\"histogram2dcontour\",\"colorbar\":{\"outlinewidth\":0,\"ticks\":\"\"},\"colorscale\":[[0.0,\"#0d0887\"],[0.1111111111111111,\"#46039f\"],[0.2222222222222222,\"#7201a8\"],[0.3333333333333333,\"#9c179e\"],[0.4444444444444444,\"#bd3786\"],[0.5555555555555556,\"#d8576b\"],[0.6666666666666666,\"#ed7953\"],[0.7777777777777778,\"#fb9f3a\"],[0.8888888888888888,\"#fdca26\"],[1.0,\"#f0f921\"]]}],\"choropleth\":[{\"type\":\"choropleth\",\"colorbar\":{\"outlinewidth\":0,\"ticks\":\"\"}}],\"histogram2d\":[{\"type\":\"histogram2d\",\"colorbar\":{\"outlinewidth\":0,\"ticks\":\"\"},\"colorscale\":[[0.0,\"#0d0887\"],[0.1111111111111111,\"#46039f\"],[0.2222222222222222,\"#7201a8\"],[0.3333333333333333,\"#9c179e\"],[0.4444444444444444,\"#bd3786\"],[0.5555555555555556,\"#d8576b\"],[0.6666666666666666,\"#ed7953\"],[0.7777777777777778,\"#fb9f3a\"],[0.8888888888888888,\"#fdca26\"],[1.0,\"#f0f921\"]]}],\"heatmap\":[{\"type\":\"heatmap\",\"colorbar\":{\"outlinewidth\":0,\"ticks\":\"\"},\"colorscale\":[[0.0,\"#0d0887\"],[0.1111111111111111,\"#46039f\"],[0.2222222222222222,\"#7201a8\"],[0.3333333333333333,\"#9c179e\"],[0.4444444444444444,\"#bd3786\"],[0.5555555555555556,\"#d8576b\"],[0.6666666666666666,\"#ed7953\"],[0.7777777777777778,\"#fb9f3a\"],[0.8888888888888888,\"#fdca26\"],[1.0,\"#f0f921\"]]}],\"heatmapgl\":[{\"type\":\"heatmapgl\",\"colorbar\":{\"outlinewidth\":0,\"ticks\":\"\"},\"colorscale\":[[0.0,\"#0d0887\"],[0.1111111111111111,\"#46039f\"],[0.2222222222222222,\"#7201a8\"],[0.3333333333333333,\"#9c179e\"],[0.4444444444444444,\"#bd3786\"],[0.5555555555555556,\"#d8576b\"],[0.6666666666666666,\"#ed7953\"],[0.7777777777777778,\"#fb9f3a\"],[0.8888888888888888,\"#fdca26\"],[1.0,\"#f0f921\"]]}],\"contourcarpet\":[{\"type\":\"contourcarpet\",\"colorbar\":{\"outlinewidth\":0,\"ticks\":\"\"}}],\"contour\":[{\"type\":\"contour\",\"colorbar\":{\"outlinewidth\":0,\"ticks\":\"\"},\"colorscale\":[[0.0,\"#0d0887\"],[0.1111111111111111,\"#46039f\"],[0.2222222222222222,\"#7201a8\"],[0.3333333333333333,\"#9c179e\"],[0.4444444444444444,\"#bd3786\"],[0.5555555555555556,\"#d8576b\"],[0.6666666666666666,\"#ed7953\"],[0.7777777777777778,\"#fb9f3a\"],[0.8888888888888888,\"#fdca26\"],[1.0,\"#f0f921\"]]}],\"surface\":[{\"type\":\"surface\",\"colorbar\":{\"outlinewidth\":0,\"ticks\":\"\"},\"colorscale\":[[0.0,\"#0d0887\"],[0.1111111111111111,\"#46039f\"],[0.2222222222222222,\"#7201a8\"],[0.3333333333333333,\"#9c179e\"],[0.4444444444444444,\"#bd3786\"],[0.5555555555555556,\"#d8576b\"],[0.6666666666666666,\"#ed7953\"],[0.7777777777777778,\"#fb9f3a\"],[0.8888888888888888,\"#fdca26\"],[1.0,\"#f0f921\"]]}],\"mesh3d\":[{\"type\":\"mesh3d\",\"colorbar\":{\"outlinewidth\":0,\"ticks\":\"\"}}],\"scatter\":[{\"fillpattern\":{\"fillmode\":\"overlay\",\"size\":10,\"solidity\":0.2},\"type\":\"scatter\"}],\"parcoords\":[{\"type\":\"parcoords\",\"line\":{\"colorbar\":{\"outlinewidth\":0,\"ticks\":\"\"}}}],\"scatterpolargl\":[{\"type\":\"scatterpolargl\",\"marker\":{\"colorbar\":{\"outlinewidth\":0,\"ticks\":\"\"}}}],\"bar\":[{\"error_x\":{\"color\":\"#2a3f5f\"},\"error_y\":{\"color\":\"#2a3f5f\"},\"marker\":{\"line\":{\"color\":\"#E5ECF6\",\"width\":0.5},\"pattern\":{\"fillmode\":\"overlay\",\"size\":10,\"solidity\":0.2}},\"type\":\"bar\"}],\"scattergeo\":[{\"type\":\"scattergeo\",\"marker\":{\"colorbar\":{\"outlinewidth\":0,\"ticks\":\"\"}}}],\"scatterpolar\":[{\"type\":\"scatterpolar\",\"marker\":{\"colorbar\":{\"outlinewidth\":0,\"ticks\":\"\"}}}],\"histogram\":[{\"marker\":{\"pattern\":{\"fillmode\":\"overlay\",\"size\":10,\"solidity\":0.2}},\"type\":\"histogram\"}],\"scattergl\":[{\"type\":\"scattergl\",\"marker\":{\"colorbar\":{\"outlinewidth\":0,\"ticks\":\"\"}}}],\"scatter3d\":[{\"type\":\"scatter3d\",\"line\":{\"colorbar\":{\"outlinewidth\":0,\"ticks\":\"\"}},\"marker\":{\"colorbar\":{\"outlinewidth\":0,\"ticks\":\"\"}}}],\"scattermapbox\":[{\"type\":\"scattermapbox\",\"marker\":{\"colorbar\":{\"outlinewidth\":0,\"ticks\":\"\"}}}],\"scatterternary\":[{\"type\":\"scatterternary\",\"marker\":{\"colorbar\":{\"outlinewidth\":0,\"ticks\":\"\"}}}],\"scattercarpet\":[{\"type\":\"scattercarpet\",\"marker\":{\"colorbar\":{\"outlinewidth\":0,\"ticks\":\"\"}}}],\"carpet\":[{\"aaxis\":{\"endlinecolor\":\"#2a3f5f\",\"gridcolor\":\"white\",\"linecolor\":\"white\",\"minorgridcolor\":\"white\",\"startlinecolor\":\"#2a3f5f\"},\"baxis\":{\"endlinecolor\":\"#2a3f5f\",\"gridcolor\":\"white\",\"linecolor\":\"white\",\"minorgridcolor\":\"white\",\"startlinecolor\":\"#2a3f5f\"},\"type\":\"carpet\"}],\"table\":[{\"cells\":{\"fill\":{\"color\":\"#EBF0F8\"},\"line\":{\"color\":\"white\"}},\"header\":{\"fill\":{\"color\":\"#C8D4E3\"},\"line\":{\"color\":\"white\"}},\"type\":\"table\"}],\"barpolar\":[{\"marker\":{\"line\":{\"color\":\"#E5ECF6\",\"width\":0.5},\"pattern\":{\"fillmode\":\"overlay\",\"size\":10,\"solidity\":0.2}},\"type\":\"barpolar\"}],\"pie\":[{\"automargin\":true,\"type\":\"pie\"}]},\"layout\":{\"autotypenumbers\":\"strict\",\"colorway\":[\"#636efa\",\"#EF553B\",\"#00cc96\",\"#ab63fa\",\"#FFA15A\",\"#19d3f3\",\"#FF6692\",\"#B6E880\",\"#FF97FF\",\"#FECB52\"],\"font\":{\"color\":\"#2a3f5f\"},\"hovermode\":\"closest\",\"hoverlabel\":{\"align\":\"left\"},\"paper_bgcolor\":\"white\",\"plot_bgcolor\":\"#E5ECF6\",\"polar\":{\"bgcolor\":\"#E5ECF6\",\"angularaxis\":{\"gridcolor\":\"white\",\"linecolor\":\"white\",\"ticks\":\"\"},\"radialaxis\":{\"gridcolor\":\"white\",\"linecolor\":\"white\",\"ticks\":\"\"}},\"ternary\":{\"bgcolor\":\"#E5ECF6\",\"aaxis\":{\"gridcolor\":\"white\",\"linecolor\":\"white\",\"ticks\":\"\"},\"baxis\":{\"gridcolor\":\"white\",\"linecolor\":\"white\",\"ticks\":\"\"},\"caxis\":{\"gridcolor\":\"white\",\"linecolor\":\"white\",\"ticks\":\"\"}},\"coloraxis\":{\"colorbar\":{\"outlinewidth\":0,\"ticks\":\"\"}},\"colorscale\":{\"sequential\":[[0.0,\"#0d0887\"],[0.1111111111111111,\"#46039f\"],[0.2222222222222222,\"#7201a8\"],[0.3333333333333333,\"#9c179e\"],[0.4444444444444444,\"#bd3786\"],[0.5555555555555556,\"#d8576b\"],[0.6666666666666666,\"#ed7953\"],[0.7777777777777778,\"#fb9f3a\"],[0.8888888888888888,\"#fdca26\"],[1.0,\"#f0f921\"]],\"sequentialminus\":[[0.0,\"#0d0887\"],[0.1111111111111111,\"#46039f\"],[0.2222222222222222,\"#7201a8\"],[0.3333333333333333,\"#9c179e\"],[0.4444444444444444,\"#bd3786\"],[0.5555555555555556,\"#d8576b\"],[0.6666666666666666,\"#ed7953\"],[0.7777777777777778,\"#fb9f3a\"],[0.8888888888888888,\"#fdca26\"],[1.0,\"#f0f921\"]],\"diverging\":[[0,\"#8e0152\"],[0.1,\"#c51b7d\"],[0.2,\"#de77ae\"],[0.3,\"#f1b6da\"],[0.4,\"#fde0ef\"],[0.5,\"#f7f7f7\"],[0.6,\"#e6f5d0\"],[0.7,\"#b8e186\"],[0.8,\"#7fbc41\"],[0.9,\"#4d9221\"],[1,\"#276419\"]]},\"xaxis\":{\"gridcolor\":\"white\",\"linecolor\":\"white\",\"ticks\":\"\",\"title\":{\"standoff\":15},\"zerolinecolor\":\"white\",\"automargin\":true,\"zerolinewidth\":2},\"yaxis\":{\"gridcolor\":\"white\",\"linecolor\":\"white\",\"ticks\":\"\",\"title\":{\"standoff\":15},\"zerolinecolor\":\"white\",\"automargin\":true,\"zerolinewidth\":2},\"scene\":{\"xaxis\":{\"backgroundcolor\":\"#E5ECF6\",\"gridcolor\":\"white\",\"linecolor\":\"white\",\"showbackground\":true,\"ticks\":\"\",\"zerolinecolor\":\"white\",\"gridwidth\":2},\"yaxis\":{\"backgroundcolor\":\"#E5ECF6\",\"gridcolor\":\"white\",\"linecolor\":\"white\",\"showbackground\":true,\"ticks\":\"\",\"zerolinecolor\":\"white\",\"gridwidth\":2},\"zaxis\":{\"backgroundcolor\":\"#E5ECF6\",\"gridcolor\":\"white\",\"linecolor\":\"white\",\"showbackground\":true,\"ticks\":\"\",\"zerolinecolor\":\"white\",\"gridwidth\":2}},\"shapedefaults\":{\"line\":{\"color\":\"#2a3f5f\"}},\"annotationdefaults\":{\"arrowcolor\":\"#2a3f5f\",\"arrowhead\":0,\"arrowwidth\":1},\"geo\":{\"bgcolor\":\"white\",\"landcolor\":\"#E5ECF6\",\"subunitcolor\":\"white\",\"showland\":true,\"showlakes\":true,\"lakecolor\":\"white\"},\"title\":{\"x\":0.05},\"mapbox\":{\"style\":\"light\"}}},\"xaxis\":{\"anchor\":\"y\",\"domain\":[0.0,1.0],\"title\":{\"text\":\"Sheltered ES Homeless - Female, 2021\"}},\"yaxis\":{\"anchor\":\"x\",\"domain\":[0.0,1.0],\"title\":{\"text\":\"Sheltered ES Homeless - Male, 2021\"}},\"legend\":{\"tracegroupgap\":0},\"title\":{\"text\":\"Scatter Plot For Sheltered ES Homeless - Male, 2021 VS Sheltered ES Homeless - Female, 2021\"}},                        {\"responsive\": true}                    ).then(function(){\n",
              "                            \n",
              "var gd = document.getElementById('d7f86553-7d1f-4e58-8cf3-c1f172c29855');\n",
              "var x = new MutationObserver(function (mutations, observer) {{\n",
              "        var display = window.getComputedStyle(gd).display;\n",
              "        if (!display || display === 'none') {{\n",
              "            console.log([gd, 'removed!']);\n",
              "            Plotly.purge(gd);\n",
              "            observer.disconnect();\n",
              "        }}\n",
              "}});\n",
              "\n",
              "// Listen for the removal of the full notebook cells\n",
              "var notebookContainer = gd.closest('#notebook-container');\n",
              "if (notebookContainer) {{\n",
              "    x.observe(notebookContainer, {childList: true});\n",
              "}}\n",
              "\n",
              "// Listen for the clearing of the current output cell\n",
              "var outputEl = gd.closest('.output');\n",
              "if (outputEl) {{\n",
              "    x.observe(outputEl, {childList: true});\n",
              "}}\n",
              "\n",
              "                        })                };                            </script>        </div>\n",
              "</body>\n",
              "</html>"
            ]
          },
          "metadata": {}
        }
      ]
    },
    {
      "cell_type": "markdown",
      "source": [
        "Predicted y = 52.647 + 1.101"
      ],
      "metadata": {
        "id": "Kl-T85teE8Te"
      }
    },
    {
      "cell_type": "markdown",
      "source": [
        "###**M-Z**"
      ],
      "metadata": {
        "id": "_RePUJh4FJFM"
      }
    },
    {
      "cell_type": "code",
      "source": [
        "# Computing the least squares regression line\n",
        "slope_MZ, intercept_MZ = np.polyfit(beds, homeless, 1)\n",
        "\n",
        "regression_line_MZ = slope_MZ * df['Total Year-Round Beds (ES, TH, SH)'] + intercept_MZ\n",
        "\n",
        "fig2_MZ = fig1MZ.add_scatter(x=df['Total Year-Round Beds (ES, TH, SH)'], y=regression_line_MZ, mode='lines', name='Regression Line')\n",
        "\n",
        "fig2_MZ"
      ],
      "metadata": {
        "id": "BiY9HFmwEfS1",
        "outputId": "e146e213-fc92-4f3a-8d0c-bab7465bb7f8",
        "colab": {
          "base_uri": "https://localhost:8080/",
          "height": 542
        }
      },
      "execution_count": 43,
      "outputs": [
        {
          "output_type": "display_data",
          "data": {
            "text/html": [
              "<html>\n",
              "<head><meta charset=\"utf-8\" /></head>\n",
              "<body>\n",
              "    <div>            <script src=\"https://cdnjs.cloudflare.com/ajax/libs/mathjax/2.7.5/MathJax.js?config=TeX-AMS-MML_SVG\"></script><script type=\"text/javascript\">if (window.MathJax && window.MathJax.Hub && window.MathJax.Hub.Config) {window.MathJax.Hub.Config({SVG: {font: \"STIX-Web\"}});}</script>                <script type=\"text/javascript\">window.PlotlyConfig = {MathJaxConfig: 'local'};</script>\n",
              "        <script charset=\"utf-8\" src=\"https://cdn.plot.ly/plotly-2.24.1.min.js\"></script>                <div id=\"7edd47c8-d90c-4b39-9867-b493c308b1ca\" class=\"plotly-graph-div\" style=\"height:525px; width:100%;\"></div>            <script type=\"text/javascript\">                                    window.PLOTLYENV=window.PLOTLYENV || {};                                    if (document.getElementById(\"7edd47c8-d90c-4b39-9867-b493c308b1ca\")) {                    Plotly.newPlot(                        \"7edd47c8-d90c-4b39-9867-b493c308b1ca\",                        [{\"hovertemplate\":\"Total Year-Round Beds (ES, TH, SH)=%{x}\\u003cbr\\u003eOverall Homeless, 2021=%{y}\\u003cextra\\u003e\\u003c\\u002fextra\\u003e\",\"legendgroup\":\"\",\"marker\":{\"color\":\"#636efa\",\"symbol\":\"circle\"},\"mode\":\"markers\",\"name\":\"\",\"orientation\":\"v\",\"showlegend\":false,\"x\":[133,599,155,149,198,508,177,256,2510,233,291,198,72,1771,56,905,1593,1442,914,291,71,750,402,880,90,219,61,258,3830,4432,1399,269,98,553,281,257,190,195,785,165,865,201,135,177,484,402,499,1283,283,475,957,1953,892,37,341,848,1345,1255,283,21107,5473,41,955,142,99,145,306,356,365,272,5866,626,2104,1531,146,30,151,3445,202,1578,691,429,241,86,869,601,292,258,421,427,449,226,565,365,179,1170,293,133,236,214],\"xaxis\":\"x\",\"y\":[78,419,165,125,62,342,138,226,4570,229,257,261,64,2314,54,989,1947,998,636,857,42,392,348,2150,151,322,27,301,3047,3650,1222,199,70,419,373,700,401,282,1043,814,775,186,171,420,287,372,300,817,224,535,943,2044,949,93,279,526,764,1295,731,17225,4143,79,1016,214,105,67,621,336,254,267,5530,1042,1780,1180,173,2,106,3050,97,1928,458,156,143,306,1267,519,571,274,425,310,314,143,548,577,171,783,225,472,324,151],\"yaxis\":\"y\",\"type\":\"scatter\"},{\"mode\":\"lines\",\"name\":\"Regression Line\",\"x\":[133,599,155,149,198,508,177,256,2510,233,291,198,72,1771,56,905,1593,1442,914,291,71,750,402,880,90,219,61,258,3830,4432,1399,269,98,553,281,257,190,195,785,165,865,201,135,177,484,402,499,1283,283,475,957,1953,892,37,341,848,1345,1255,283,21107,5473,41,955,142,99,145,306,356,365,272,5866,626,2104,1531,146,30,151,3445,202,1578,691,429,241,86,869,601,292,258,421,427,449,226,565,365,179,1170,293,133,236,214],\"y\":[236.429091246248,620.8319357596358,254.57686502155815,249.6274721737463,290.04751376420984,545.7661442344893,272.72463879686836,337.89164462639116,2197.2135577877134,318.9189720431124,366.76310290529364,290.04751376420984,186.11026396016075,1587.613338698886,172.91188303266247,873.2509709980408,1440.7813508804675,1316.2216308772022,880.6750602697585,366.76310290529364,185.28536515219213,745.391655762901,458.3268705898131,852.6285007988247,200.95844250359636,307.3703887315513,177.03637707250567,339.54144224232846,3286.0799843063232,3782.6690667034463,1280.7509821345507,348.6153291299835,207.55763296734548,582.8865905930783,358.51411482560724,338.7165434343598,283.4483233004607,287.5728173403039,774.2631140418035,262.8258531012446,840.2550186792951,292.52221018811576,238.0788888621853,272.72463879686836,525.9685728432419,458.3268705898131,538.3420549627715,1185.062720410188,360.16391244154454,518.5444835715241,916.1457090124102,1737.7449217491792,862.5272864944484,157.23880568125824,408.00804330372586,826.2317389438281,1236.2064465042438,1161.965553787066,360.16391244154454,17537.856689580578,4641.3887257988035,160.53840091313282,914.4959113964729,243.8531805179658,208.38253177531413,246.32787694187175,379.1365850248233,420.3815254232555,427.8056146949733,351.09002555388946,4965.573957330481,643.1042035747893,1862.3046417524442,1389.6376247864116,247.15277574984037,151.46451402547774,251.2772697896836,2968.4939432383953,293.34710899608444,1428.4078687609378,696.722626092751,480.5991384049665,325.5181625068615,197.65884727172175,843.5546139111696,622.4817333755732,367.5880017132623,339.54144224232846,473.99994794121733,478.9493407890292,497.09711456433934,313.14468038733185,592.785376288702,427.8056146949733,274.3744364128056,1091.8491551097313,368.412900521231,236.429091246248,321.3936684670183,303.24589469170814],\"type\":\"scatter\"}],                        {\"template\":{\"data\":{\"histogram2dcontour\":[{\"type\":\"histogram2dcontour\",\"colorbar\":{\"outlinewidth\":0,\"ticks\":\"\"},\"colorscale\":[[0.0,\"#0d0887\"],[0.1111111111111111,\"#46039f\"],[0.2222222222222222,\"#7201a8\"],[0.3333333333333333,\"#9c179e\"],[0.4444444444444444,\"#bd3786\"],[0.5555555555555556,\"#d8576b\"],[0.6666666666666666,\"#ed7953\"],[0.7777777777777778,\"#fb9f3a\"],[0.8888888888888888,\"#fdca26\"],[1.0,\"#f0f921\"]]}],\"choropleth\":[{\"type\":\"choropleth\",\"colorbar\":{\"outlinewidth\":0,\"ticks\":\"\"}}],\"histogram2d\":[{\"type\":\"histogram2d\",\"colorbar\":{\"outlinewidth\":0,\"ticks\":\"\"},\"colorscale\":[[0.0,\"#0d0887\"],[0.1111111111111111,\"#46039f\"],[0.2222222222222222,\"#7201a8\"],[0.3333333333333333,\"#9c179e\"],[0.4444444444444444,\"#bd3786\"],[0.5555555555555556,\"#d8576b\"],[0.6666666666666666,\"#ed7953\"],[0.7777777777777778,\"#fb9f3a\"],[0.8888888888888888,\"#fdca26\"],[1.0,\"#f0f921\"]]}],\"heatmap\":[{\"type\":\"heatmap\",\"colorbar\":{\"outlinewidth\":0,\"ticks\":\"\"},\"colorscale\":[[0.0,\"#0d0887\"],[0.1111111111111111,\"#46039f\"],[0.2222222222222222,\"#7201a8\"],[0.3333333333333333,\"#9c179e\"],[0.4444444444444444,\"#bd3786\"],[0.5555555555555556,\"#d8576b\"],[0.6666666666666666,\"#ed7953\"],[0.7777777777777778,\"#fb9f3a\"],[0.8888888888888888,\"#fdca26\"],[1.0,\"#f0f921\"]]}],\"heatmapgl\":[{\"type\":\"heatmapgl\",\"colorbar\":{\"outlinewidth\":0,\"ticks\":\"\"},\"colorscale\":[[0.0,\"#0d0887\"],[0.1111111111111111,\"#46039f\"],[0.2222222222222222,\"#7201a8\"],[0.3333333333333333,\"#9c179e\"],[0.4444444444444444,\"#bd3786\"],[0.5555555555555556,\"#d8576b\"],[0.6666666666666666,\"#ed7953\"],[0.7777777777777778,\"#fb9f3a\"],[0.8888888888888888,\"#fdca26\"],[1.0,\"#f0f921\"]]}],\"contourcarpet\":[{\"type\":\"contourcarpet\",\"colorbar\":{\"outlinewidth\":0,\"ticks\":\"\"}}],\"contour\":[{\"type\":\"contour\",\"colorbar\":{\"outlinewidth\":0,\"ticks\":\"\"},\"colorscale\":[[0.0,\"#0d0887\"],[0.1111111111111111,\"#46039f\"],[0.2222222222222222,\"#7201a8\"],[0.3333333333333333,\"#9c179e\"],[0.4444444444444444,\"#bd3786\"],[0.5555555555555556,\"#d8576b\"],[0.6666666666666666,\"#ed7953\"],[0.7777777777777778,\"#fb9f3a\"],[0.8888888888888888,\"#fdca26\"],[1.0,\"#f0f921\"]]}],\"surface\":[{\"type\":\"surface\",\"colorbar\":{\"outlinewidth\":0,\"ticks\":\"\"},\"colorscale\":[[0.0,\"#0d0887\"],[0.1111111111111111,\"#46039f\"],[0.2222222222222222,\"#7201a8\"],[0.3333333333333333,\"#9c179e\"],[0.4444444444444444,\"#bd3786\"],[0.5555555555555556,\"#d8576b\"],[0.6666666666666666,\"#ed7953\"],[0.7777777777777778,\"#fb9f3a\"],[0.8888888888888888,\"#fdca26\"],[1.0,\"#f0f921\"]]}],\"mesh3d\":[{\"type\":\"mesh3d\",\"colorbar\":{\"outlinewidth\":0,\"ticks\":\"\"}}],\"scatter\":[{\"fillpattern\":{\"fillmode\":\"overlay\",\"size\":10,\"solidity\":0.2},\"type\":\"scatter\"}],\"parcoords\":[{\"type\":\"parcoords\",\"line\":{\"colorbar\":{\"outlinewidth\":0,\"ticks\":\"\"}}}],\"scatterpolargl\":[{\"type\":\"scatterpolargl\",\"marker\":{\"colorbar\":{\"outlinewidth\":0,\"ticks\":\"\"}}}],\"bar\":[{\"error_x\":{\"color\":\"#2a3f5f\"},\"error_y\":{\"color\":\"#2a3f5f\"},\"marker\":{\"line\":{\"color\":\"#E5ECF6\",\"width\":0.5},\"pattern\":{\"fillmode\":\"overlay\",\"size\":10,\"solidity\":0.2}},\"type\":\"bar\"}],\"scattergeo\":[{\"type\":\"scattergeo\",\"marker\":{\"colorbar\":{\"outlinewidth\":0,\"ticks\":\"\"}}}],\"scatterpolar\":[{\"type\":\"scatterpolar\",\"marker\":{\"colorbar\":{\"outlinewidth\":0,\"ticks\":\"\"}}}],\"histogram\":[{\"marker\":{\"pattern\":{\"fillmode\":\"overlay\",\"size\":10,\"solidity\":0.2}},\"type\":\"histogram\"}],\"scattergl\":[{\"type\":\"scattergl\",\"marker\":{\"colorbar\":{\"outlinewidth\":0,\"ticks\":\"\"}}}],\"scatter3d\":[{\"type\":\"scatter3d\",\"line\":{\"colorbar\":{\"outlinewidth\":0,\"ticks\":\"\"}},\"marker\":{\"colorbar\":{\"outlinewidth\":0,\"ticks\":\"\"}}}],\"scattermapbox\":[{\"type\":\"scattermapbox\",\"marker\":{\"colorbar\":{\"outlinewidth\":0,\"ticks\":\"\"}}}],\"scatterternary\":[{\"type\":\"scatterternary\",\"marker\":{\"colorbar\":{\"outlinewidth\":0,\"ticks\":\"\"}}}],\"scattercarpet\":[{\"type\":\"scattercarpet\",\"marker\":{\"colorbar\":{\"outlinewidth\":0,\"ticks\":\"\"}}}],\"carpet\":[{\"aaxis\":{\"endlinecolor\":\"#2a3f5f\",\"gridcolor\":\"white\",\"linecolor\":\"white\",\"minorgridcolor\":\"white\",\"startlinecolor\":\"#2a3f5f\"},\"baxis\":{\"endlinecolor\":\"#2a3f5f\",\"gridcolor\":\"white\",\"linecolor\":\"white\",\"minorgridcolor\":\"white\",\"startlinecolor\":\"#2a3f5f\"},\"type\":\"carpet\"}],\"table\":[{\"cells\":{\"fill\":{\"color\":\"#EBF0F8\"},\"line\":{\"color\":\"white\"}},\"header\":{\"fill\":{\"color\":\"#C8D4E3\"},\"line\":{\"color\":\"white\"}},\"type\":\"table\"}],\"barpolar\":[{\"marker\":{\"line\":{\"color\":\"#E5ECF6\",\"width\":0.5},\"pattern\":{\"fillmode\":\"overlay\",\"size\":10,\"solidity\":0.2}},\"type\":\"barpolar\"}],\"pie\":[{\"automargin\":true,\"type\":\"pie\"}]},\"layout\":{\"autotypenumbers\":\"strict\",\"colorway\":[\"#636efa\",\"#EF553B\",\"#00cc96\",\"#ab63fa\",\"#FFA15A\",\"#19d3f3\",\"#FF6692\",\"#B6E880\",\"#FF97FF\",\"#FECB52\"],\"font\":{\"color\":\"#2a3f5f\"},\"hovermode\":\"closest\",\"hoverlabel\":{\"align\":\"left\"},\"paper_bgcolor\":\"white\",\"plot_bgcolor\":\"#E5ECF6\",\"polar\":{\"bgcolor\":\"#E5ECF6\",\"angularaxis\":{\"gridcolor\":\"white\",\"linecolor\":\"white\",\"ticks\":\"\"},\"radialaxis\":{\"gridcolor\":\"white\",\"linecolor\":\"white\",\"ticks\":\"\"}},\"ternary\":{\"bgcolor\":\"#E5ECF6\",\"aaxis\":{\"gridcolor\":\"white\",\"linecolor\":\"white\",\"ticks\":\"\"},\"baxis\":{\"gridcolor\":\"white\",\"linecolor\":\"white\",\"ticks\":\"\"},\"caxis\":{\"gridcolor\":\"white\",\"linecolor\":\"white\",\"ticks\":\"\"}},\"coloraxis\":{\"colorbar\":{\"outlinewidth\":0,\"ticks\":\"\"}},\"colorscale\":{\"sequential\":[[0.0,\"#0d0887\"],[0.1111111111111111,\"#46039f\"],[0.2222222222222222,\"#7201a8\"],[0.3333333333333333,\"#9c179e\"],[0.4444444444444444,\"#bd3786\"],[0.5555555555555556,\"#d8576b\"],[0.6666666666666666,\"#ed7953\"],[0.7777777777777778,\"#fb9f3a\"],[0.8888888888888888,\"#fdca26\"],[1.0,\"#f0f921\"]],\"sequentialminus\":[[0.0,\"#0d0887\"],[0.1111111111111111,\"#46039f\"],[0.2222222222222222,\"#7201a8\"],[0.3333333333333333,\"#9c179e\"],[0.4444444444444444,\"#bd3786\"],[0.5555555555555556,\"#d8576b\"],[0.6666666666666666,\"#ed7953\"],[0.7777777777777778,\"#fb9f3a\"],[0.8888888888888888,\"#fdca26\"],[1.0,\"#f0f921\"]],\"diverging\":[[0,\"#8e0152\"],[0.1,\"#c51b7d\"],[0.2,\"#de77ae\"],[0.3,\"#f1b6da\"],[0.4,\"#fde0ef\"],[0.5,\"#f7f7f7\"],[0.6,\"#e6f5d0\"],[0.7,\"#b8e186\"],[0.8,\"#7fbc41\"],[0.9,\"#4d9221\"],[1,\"#276419\"]]},\"xaxis\":{\"gridcolor\":\"white\",\"linecolor\":\"white\",\"ticks\":\"\",\"title\":{\"standoff\":15},\"zerolinecolor\":\"white\",\"automargin\":true,\"zerolinewidth\":2},\"yaxis\":{\"gridcolor\":\"white\",\"linecolor\":\"white\",\"ticks\":\"\",\"title\":{\"standoff\":15},\"zerolinecolor\":\"white\",\"automargin\":true,\"zerolinewidth\":2},\"scene\":{\"xaxis\":{\"backgroundcolor\":\"#E5ECF6\",\"gridcolor\":\"white\",\"linecolor\":\"white\",\"showbackground\":true,\"ticks\":\"\",\"zerolinecolor\":\"white\",\"gridwidth\":2},\"yaxis\":{\"backgroundcolor\":\"#E5ECF6\",\"gridcolor\":\"white\",\"linecolor\":\"white\",\"showbackground\":true,\"ticks\":\"\",\"zerolinecolor\":\"white\",\"gridwidth\":2},\"zaxis\":{\"backgroundcolor\":\"#E5ECF6\",\"gridcolor\":\"white\",\"linecolor\":\"white\",\"showbackground\":true,\"ticks\":\"\",\"zerolinecolor\":\"white\",\"gridwidth\":2}},\"shapedefaults\":{\"line\":{\"color\":\"#2a3f5f\"}},\"annotationdefaults\":{\"arrowcolor\":\"#2a3f5f\",\"arrowhead\":0,\"arrowwidth\":1},\"geo\":{\"bgcolor\":\"white\",\"landcolor\":\"#E5ECF6\",\"subunitcolor\":\"white\",\"showland\":true,\"showlakes\":true,\"lakecolor\":\"white\"},\"title\":{\"x\":0.05},\"mapbox\":{\"style\":\"light\"}}},\"xaxis\":{\"anchor\":\"y\",\"domain\":[0.0,1.0],\"title\":{\"text\":\"Total Year-Round Beds (ES, TH, SH)\"}},\"yaxis\":{\"anchor\":\"x\",\"domain\":[0.0,1.0],\"title\":{\"text\":\"Overall Homeless, 2021\"}},\"legend\":{\"tracegroupgap\":0},\"title\":{\"text\":\"Scatter Plot For Overall Homeless, 2021 VS Total Year-Round Beds (ES, TH, SH)\"}},                        {\"responsive\": true}                    ).then(function(){\n",
              "                            \n",
              "var gd = document.getElementById('7edd47c8-d90c-4b39-9867-b493c308b1ca');\n",
              "var x = new MutationObserver(function (mutations, observer) {{\n",
              "        var display = window.getComputedStyle(gd).display;\n",
              "        if (!display || display === 'none') {{\n",
              "            console.log([gd, 'removed!']);\n",
              "            Plotly.purge(gd);\n",
              "            observer.disconnect();\n",
              "        }}\n",
              "}});\n",
              "\n",
              "// Listen for the removal of the full notebook cells\n",
              "var notebookContainer = gd.closest('#notebook-container');\n",
              "if (notebookContainer) {{\n",
              "    x.observe(notebookContainer, {childList: true});\n",
              "}}\n",
              "\n",
              "// Listen for the clearing of the current output cell\n",
              "var outputEl = gd.closest('.output');\n",
              "if (outputEl) {{\n",
              "    x.observe(outputEl, {childList: true});\n",
              "}}\n",
              "\n",
              "                        })                };                            </script>        </div>\n",
              "</body>\n",
              "</html>"
            ]
          },
          "metadata": {}
        }
      ]
    },
    {
      "cell_type": "markdown",
      "source": [
        "Predicted y = 126.718 + 0.825x"
      ],
      "metadata": {
        "id": "Sbh48U7lFWEM"
      }
    },
    {
      "cell_type": "markdown",
      "source": [
        "##**Question 4**"
      ],
      "metadata": {
        "id": "Oc7ChWeoGc09"
      }
    },
    {
      "cell_type": "markdown",
      "source": [
        "Interpret the slope of the least squares regression line in the context of this study"
      ],
      "metadata": {
        "id": "XmRRiawVGhQN"
      }
    },
    {
      "cell_type": "markdown",
      "source": [
        "###**A-L**\n"
      ],
      "metadata": {
        "id": "06oXvofNGpWr"
      }
    },
    {
      "cell_type": "markdown",
      "source": [
        "We expect the estimate of the number of males sheltered in an emergency facility to increase by 1.101 for each 1 increase in the estimate of the number of females sheltered in an emergency facility. (no units required)"
      ],
      "metadata": {
        "id": "z06WqHpaGrpK"
      }
    },
    {
      "cell_type": "markdown",
      "source": [
        "###**M-Z**\n"
      ],
      "metadata": {
        "id": "3CH2KYQ4GtmX"
      }
    },
    {
      "cell_type": "markdown",
      "source": [
        "We expect the overall homeless to increase by 0.825 when the total number of year-round beds increases by 1. (no units required)"
      ],
      "metadata": {
        "id": "uX0uDT8HGwUw"
      }
    },
    {
      "cell_type": "markdown",
      "source": [
        "##**Question 5**"
      ],
      "metadata": {
        "id": "UuoO1cYWGe4x"
      }
    },
    {
      "cell_type": "markdown",
      "source": [
        "Interpret the y-intercept of the least squares regression line in the context of this study. State whether the interpretation is reasonable."
      ],
      "metadata": {
        "id": "kp4KEO9NHCEa"
      }
    },
    {
      "cell_type": "markdown",
      "source": [
        "###**A-L**"
      ],
      "metadata": {
        "id": "4kMeel98HEuM"
      }
    },
    {
      "cell_type": "markdown",
      "source": [
        "· We expect the estimate of the number of males sheltered in an emergency facility to be 52.647 when the estimate of the number of females sheltered in an emergency facility is 0. (no units required)\n",
        "\n",
        "· This makes sense."
      ],
      "metadata": {
        "id": "tEyUTmrMHGqB"
      }
    },
    {
      "cell_type": "markdown",
      "source": [
        "###**M-Z**"
      ],
      "metadata": {
        "id": "LhQHJ3ohHNap"
      }
    },
    {
      "cell_type": "markdown",
      "source": [
        "· We expect the overall homeless to 126.718 when the total number of year-round beds is 1. (no units required)\n",
        "\n",
        "· This makes sense."
      ],
      "metadata": {
        "id": "3_o0FYtTHQA2"
      }
    },
    {
      "cell_type": "markdown",
      "source": [
        "##**Question 6**"
      ],
      "metadata": {
        "id": "cfoT4E6kGjjI"
      }
    },
    {
      "cell_type": "markdown",
      "source": [
        "Predict the value of your dependent variable from above for Los Angeles City & County CoC (CoC Number = CA-600) using the actual value of the independent variable shown in the table below. Type your work below."
      ],
      "metadata": {
        "id": "qkn8LOD5HXG1"
      }
    },
    {
      "cell_type": "markdown",
      "source": [
        "| Last Name | Independent Variable (x) |\n",
        "|-----------|--------------------------|\n",
        "| A-L       | Sheltered ES Homeless - Female, 2021 = 6848 |\n",
        "| M-Z       | Total Year-Round Beds (ES, TH, SH) = 21107 |\n"
      ],
      "metadata": {
        "id": "4Ox1UBFBHY0v"
      }
    },
    {
      "cell_type": "markdown",
      "source": [
        "###**A-L**"
      ],
      "metadata": {
        "id": "5I8x9ti2Hvma"
      }
    },
    {
      "cell_type": "markdown",
      "source": [
        "Predicted y = 52.647 + 1.101(6848) = 7592.295 male"
      ],
      "metadata": {
        "id": "kMYeiG5UHw9x"
      }
    },
    {
      "cell_type": "markdown",
      "source": [
        "###**M-Z**"
      ],
      "metadata": {
        "id": "zoICVOd4H0Os"
      }
    },
    {
      "cell_type": "markdown",
      "source": [
        "Predicted y = 126.718 + 0.825(21107) = 17,539.993 beds"
      ],
      "metadata": {
        "id": "CxN71gFbH3qK"
      }
    },
    {
      "cell_type": "markdown",
      "source": [
        "##**Question 7**"
      ],
      "metadata": {
        "id": "58Jt_TjCGkii"
      }
    },
    {
      "cell_type": "markdown",
      "source": [
        "Look up, in the Excel or SPSS file, the actual value of your dependent variable for Los Angeles City & County CoC. Compare your answer in question 6 above (the predicted dependent variable) to the actual value of your dependent variable."
      ],
      "metadata": {
        "id": "GpFtuTlGH9ZA"
      }
    },
    {
      "cell_type": "markdown",
      "source": [
        "###**A-L**"
      ],
      "metadata": {
        "id": "6xF_UW93H-kC"
      }
    },
    {
      "cell_type": "markdown",
      "source": [
        "(Actual Sheltered ES Homeless - Male, 2021 = 7200)\n",
        "\n",
        "The actual number of sheltered homeless males is (slightly) less than predicted."
      ],
      "metadata": {
        "id": "swp_WHy_ICtN"
      }
    },
    {
      "cell_type": "markdown",
      "source": [
        "###**M-Z**"
      ],
      "metadata": {
        "id": "zpZve-JMIANY"
      }
    },
    {
      "cell_type": "markdown",
      "source": [
        "(Actual Overall Homeless, 2021 = 17225 people)\n",
        "\n",
        "The actual number of overall homeless people is (slightly) lower than predicted."
      ],
      "metadata": {
        "id": "JZ2G3hcbIKgO"
      }
    },
    {
      "cell_type": "markdown",
      "source": [
        "##**Question 8**"
      ],
      "metadata": {
        "id": "CsCROm0ZGmUb"
      }
    },
    {
      "cell_type": "markdown",
      "source": [
        "Generate a paragraph of at least 100 words to address one of the following questions:\n",
        "\n",
        "a. Discuss how analyzing your chosen data set using statistical methods could help you become better prepared for future courses in your major?\n",
        "\n",
        "b. Discuss how analyzing your chosen data set using statistical methods could be instrumental in becoming better prepared for your future career?\n",
        "\n",
        "c. Discuss how analyzing your chosen data set using statistical methods could help you be aware of social issues, contribute to society, and advocate for marginalized communities."
      ],
      "metadata": {
        "id": "KpPzriyjIQRe"
      }
    }
  ]
}