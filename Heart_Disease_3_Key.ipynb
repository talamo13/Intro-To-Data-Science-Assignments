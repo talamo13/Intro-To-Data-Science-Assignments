{
  "nbformat": 4,
  "nbformat_minor": 0,
  "metadata": {
    "colab": {
      "provenance": [],
      "authorship_tag": "ABX9TyO4eHyzC3QQ82UZVfu6q4aj",
      "include_colab_link": true
    },
    "kernelspec": {
      "name": "python3",
      "display_name": "Python 3"
    },
    "language_info": {
      "name": "python"
    }
  },
  "cells": [
    {
      "cell_type": "markdown",
      "metadata": {
        "id": "view-in-github",
        "colab_type": "text"
      },
      "source": [
        "<a href=\"https://colab.research.google.com/github/talamo13/Intro-To-Data-Science-Assignments/blob/Heart-Disease-%233/Heart_Disease_3_Key.ipynb\" target=\"_parent\"><img src=\"https://colab.research.google.com/assets/colab-badge.svg\" alt=\"Open In Colab\"/></a>"
      ]
    },
    {
      "cell_type": "markdown",
      "source": [
        "#**Heart Disease Data Set**\n",
        "\n"
      ],
      "metadata": {
        "id": "mEX3nE3jDd1L"
      }
    },
    {
      "cell_type": "markdown",
      "source": [
        "##**Context**"
      ],
      "metadata": {
        "id": "FY3fagEOFQfm"
      }
    },
    {
      "cell_type": "markdown",
      "source": [
        "Coronary heart disease (CHD) involves the reduction of blood flow to the heart muscle due to the build-up of plaque in the arteries of the heart. It is the most common form of cardiovascular disease. Currently, invasive coronary angiography represents the gold standard for establishing the presence, location, and severity of CAD, however, this diagnostic method is costly and associated with morbidity and mortality in CAD patients. Therefore, it would be beneficial to develop a non-invasive alternative to replace the current gold standard.\n",
        "\n",
        "Other less invasive diagnostics methods have been proposed in the scientific literature including exercise electrocardiogram, thallium scintigraphy, and fluoroscopy of coronary calcification. However, the diagnostic accuracy of these tests only ranges between 35%-75%. Therefore, it would be beneficial to develop a computer-aided diagnostic tool that could utilize the combined results of these non-invasive tests in conjunction with other patient attributes to boost the diagnostic power of these non-invasive methods with the aim of ultimately replacing the current invasive gold standard.\n",
        "\n",
        "A number of 303 consecutive patients referred for coronary angiography at the Cleveland Clinic between May 1981 and September 1984 participated in the experiment. No patient had a history or electrocardiographic evidence of prior myocardial infarction or known valvular or cardiomyopathic diseases."
      ],
      "metadata": {
        "id": "mbuIeCLSFUwP"
      }
    },
    {
      "cell_type": "markdown",
      "source": [
        "##**About Dataset**"
      ],
      "metadata": {
        "id": "mW0_Nts2FWn5"
      }
    },
    {
      "cell_type": "markdown",
      "source": [
        "The dataset comprises 303 observations, 13 features, and 1 target attribute. The 13 features include the results of the aforementioned non-invasive diagnostic tests along with other relevant patient information. The target variable includes the result of the invasive coronary angiogram which represents the presence or absence of coronary artery disease in the patient. The 14 variables (13 features and 1 target attribute) are described below."
      ],
      "metadata": {
        "id": "WkqRgvJYFap7"
      }
    },
    {
      "cell_type": "markdown",
      "source": [
        "1. AGE: displays the age of the individual.\n",
        "\n",
        "2. SEX: displays the gender of the individual using the following format:\n",
        "    - 1 = male\n",
        "    - 0 = female\n",
        "\n",
        "3. CP: displays the type of chest-pain experienced by the individual using the following format:\n",
        "    - 0 = typical angina\n",
        "    - 1 = atypical angina\n",
        "    - 2 = non — anginal pain\n",
        "    - 3 = asymptotic\n",
        "\n",
        "4. TRESTBPS: displays the resting blood pressure value of an individual in mmHg (unit)\n",
        "\n",
        "5. CHOL: displays the serum cholesterol in mg/dl (unit)\n",
        "\n",
        "6. FBS: compares the fasting blood sugar value of an individual with 120mg/dl.  \n",
        "    - 1: fasting blood sugar >120mg/dl\n",
        "    - 0: fasting blood sugar ≤ 120mg/dl\n",
        "\n",
        "7. RESTECG: displays resting electrocardiographic results\n",
        "    - 0 = normal\n",
        "    - 1 = having ST-T wave abnormality\n",
        "    - 2 = left ventricular hyperthrophy\n",
        "\n",
        "8. THALACH: displays the max heart rate achieved by an individual.\n",
        "\n",
        "9. EXANG: Exercise induced angina\n",
        "    - 1 = yes\n",
        "    - 0 = no\n",
        "\n",
        "10. OLDPEAK ST depression induced by exercise relative to rest. Displays the value which is an integer or float.\n",
        "\n",
        "11. SLOPE: Peak exercise ST segment\n",
        "    - 1 = upsloping\n",
        "    - 2 = flat\n",
        "    - 3 = downsloping\n",
        "\n",
        "12. CA: Number of major vessels (0-3) colored by fluoroscopy. Displays the value as integer or float.\n",
        "\n",
        "13. THAL: Displays the thalassemia\n",
        "    - 1 = normal\n",
        "    - 2 = fixed defect\n",
        "    - 3 = reversible defect\n",
        "\n",
        "14. TARGET: Displays whether the individual is suffering from heart disease or not :\n",
        "    - 0 = absence\n",
        "    - 1 = present."
      ],
      "metadata": {
        "id": "O4XH1h-4Fd07"
      }
    },
    {
      "cell_type": "markdown",
      "source": [
        "The data was collected by Robert Detrano, M.D., Ph.D. of the Cleveland Clinic Foundation. See the Appendix at the end of this document for more details on why these variables are used to analyze CHD. Attribution: UCI Machine Learning Repository\n",
        "\n",
        "A snippet of the data is as follows"
      ],
      "metadata": {
        "id": "TmhDTBOxGD_y"
      }
    },
    {
      "cell_type": "code",
      "execution_count": 15,
      "metadata": {
        "id": "VFKvVzZTDU11",
        "outputId": "c1e6a9fe-c3d4-43ee-96ca-6c0a07007698",
        "colab": {
          "base_uri": "https://localhost:8080/",
          "height": 206
        }
      },
      "outputs": [
        {
          "output_type": "execute_result",
          "data": {
            "text/plain": [
              "   age  sex  cp  trestbps  chol  fbs  restecg  thalach  exang  oldpeak  slope  \\\n",
              "0   63    1   3       145   233    1        0      150      0      2.3      0   \n",
              "1   37    1   2       130   250    0        1      187      0      3.5      0   \n",
              "2   41    0   1       130   204    0        0      172      0      1.4      2   \n",
              "3   56    1   1       120   236    0        1      178      0      0.8      2   \n",
              "4   57    0   0       120   354    0        1      163      1      0.6      2   \n",
              "\n",
              "   ca  thal  target  \n",
              "0   0     1       1  \n",
              "1   0     2       1  \n",
              "2   0     2       1  \n",
              "3   0     2       1  \n",
              "4   0     2       1  "
            ],
            "text/html": [
              "\n",
              "  <div id=\"df-3a1a1837-5e22-4b6e-9020-ef55662ef278\" class=\"colab-df-container\">\n",
              "    <div>\n",
              "<style scoped>\n",
              "    .dataframe tbody tr th:only-of-type {\n",
              "        vertical-align: middle;\n",
              "    }\n",
              "\n",
              "    .dataframe tbody tr th {\n",
              "        vertical-align: top;\n",
              "    }\n",
              "\n",
              "    .dataframe thead th {\n",
              "        text-align: right;\n",
              "    }\n",
              "</style>\n",
              "<table border=\"1\" class=\"dataframe\">\n",
              "  <thead>\n",
              "    <tr style=\"text-align: right;\">\n",
              "      <th></th>\n",
              "      <th>age</th>\n",
              "      <th>sex</th>\n",
              "      <th>cp</th>\n",
              "      <th>trestbps</th>\n",
              "      <th>chol</th>\n",
              "      <th>fbs</th>\n",
              "      <th>restecg</th>\n",
              "      <th>thalach</th>\n",
              "      <th>exang</th>\n",
              "      <th>oldpeak</th>\n",
              "      <th>slope</th>\n",
              "      <th>ca</th>\n",
              "      <th>thal</th>\n",
              "      <th>target</th>\n",
              "    </tr>\n",
              "  </thead>\n",
              "  <tbody>\n",
              "    <tr>\n",
              "      <th>0</th>\n",
              "      <td>63</td>\n",
              "      <td>1</td>\n",
              "      <td>3</td>\n",
              "      <td>145</td>\n",
              "      <td>233</td>\n",
              "      <td>1</td>\n",
              "      <td>0</td>\n",
              "      <td>150</td>\n",
              "      <td>0</td>\n",
              "      <td>2.3</td>\n",
              "      <td>0</td>\n",
              "      <td>0</td>\n",
              "      <td>1</td>\n",
              "      <td>1</td>\n",
              "    </tr>\n",
              "    <tr>\n",
              "      <th>1</th>\n",
              "      <td>37</td>\n",
              "      <td>1</td>\n",
              "      <td>2</td>\n",
              "      <td>130</td>\n",
              "      <td>250</td>\n",
              "      <td>0</td>\n",
              "      <td>1</td>\n",
              "      <td>187</td>\n",
              "      <td>0</td>\n",
              "      <td>3.5</td>\n",
              "      <td>0</td>\n",
              "      <td>0</td>\n",
              "      <td>2</td>\n",
              "      <td>1</td>\n",
              "    </tr>\n",
              "    <tr>\n",
              "      <th>2</th>\n",
              "      <td>41</td>\n",
              "      <td>0</td>\n",
              "      <td>1</td>\n",
              "      <td>130</td>\n",
              "      <td>204</td>\n",
              "      <td>0</td>\n",
              "      <td>0</td>\n",
              "      <td>172</td>\n",
              "      <td>0</td>\n",
              "      <td>1.4</td>\n",
              "      <td>2</td>\n",
              "      <td>0</td>\n",
              "      <td>2</td>\n",
              "      <td>1</td>\n",
              "    </tr>\n",
              "    <tr>\n",
              "      <th>3</th>\n",
              "      <td>56</td>\n",
              "      <td>1</td>\n",
              "      <td>1</td>\n",
              "      <td>120</td>\n",
              "      <td>236</td>\n",
              "      <td>0</td>\n",
              "      <td>1</td>\n",
              "      <td>178</td>\n",
              "      <td>0</td>\n",
              "      <td>0.8</td>\n",
              "      <td>2</td>\n",
              "      <td>0</td>\n",
              "      <td>2</td>\n",
              "      <td>1</td>\n",
              "    </tr>\n",
              "    <tr>\n",
              "      <th>4</th>\n",
              "      <td>57</td>\n",
              "      <td>0</td>\n",
              "      <td>0</td>\n",
              "      <td>120</td>\n",
              "      <td>354</td>\n",
              "      <td>0</td>\n",
              "      <td>1</td>\n",
              "      <td>163</td>\n",
              "      <td>1</td>\n",
              "      <td>0.6</td>\n",
              "      <td>2</td>\n",
              "      <td>0</td>\n",
              "      <td>2</td>\n",
              "      <td>1</td>\n",
              "    </tr>\n",
              "  </tbody>\n",
              "</table>\n",
              "</div>\n",
              "    <div class=\"colab-df-buttons\">\n",
              "\n",
              "  <div class=\"colab-df-container\">\n",
              "    <button class=\"colab-df-convert\" onclick=\"convertToInteractive('df-3a1a1837-5e22-4b6e-9020-ef55662ef278')\"\n",
              "            title=\"Convert this dataframe to an interactive table.\"\n",
              "            style=\"display:none;\">\n",
              "\n",
              "  <svg xmlns=\"http://www.w3.org/2000/svg\" height=\"24px\" viewBox=\"0 -960 960 960\">\n",
              "    <path d=\"M120-120v-720h720v720H120Zm60-500h600v-160H180v160Zm220 220h160v-160H400v160Zm0 220h160v-160H400v160ZM180-400h160v-160H180v160Zm440 0h160v-160H620v160ZM180-180h160v-160H180v160Zm440 0h160v-160H620v160Z\"/>\n",
              "  </svg>\n",
              "    </button>\n",
              "\n",
              "  <style>\n",
              "    .colab-df-container {\n",
              "      display:flex;\n",
              "      gap: 12px;\n",
              "    }\n",
              "\n",
              "    .colab-df-convert {\n",
              "      background-color: #E8F0FE;\n",
              "      border: none;\n",
              "      border-radius: 50%;\n",
              "      cursor: pointer;\n",
              "      display: none;\n",
              "      fill: #1967D2;\n",
              "      height: 32px;\n",
              "      padding: 0 0 0 0;\n",
              "      width: 32px;\n",
              "    }\n",
              "\n",
              "    .colab-df-convert:hover {\n",
              "      background-color: #E2EBFA;\n",
              "      box-shadow: 0px 1px 2px rgba(60, 64, 67, 0.3), 0px 1px 3px 1px rgba(60, 64, 67, 0.15);\n",
              "      fill: #174EA6;\n",
              "    }\n",
              "\n",
              "    .colab-df-buttons div {\n",
              "      margin-bottom: 4px;\n",
              "    }\n",
              "\n",
              "    [theme=dark] .colab-df-convert {\n",
              "      background-color: #3B4455;\n",
              "      fill: #D2E3FC;\n",
              "    }\n",
              "\n",
              "    [theme=dark] .colab-df-convert:hover {\n",
              "      background-color: #434B5C;\n",
              "      box-shadow: 0px 1px 3px 1px rgba(0, 0, 0, 0.15);\n",
              "      filter: drop-shadow(0px 1px 2px rgba(0, 0, 0, 0.3));\n",
              "      fill: #FFFFFF;\n",
              "    }\n",
              "  </style>\n",
              "\n",
              "    <script>\n",
              "      const buttonEl =\n",
              "        document.querySelector('#df-3a1a1837-5e22-4b6e-9020-ef55662ef278 button.colab-df-convert');\n",
              "      buttonEl.style.display =\n",
              "        google.colab.kernel.accessAllowed ? 'block' : 'none';\n",
              "\n",
              "      async function convertToInteractive(key) {\n",
              "        const element = document.querySelector('#df-3a1a1837-5e22-4b6e-9020-ef55662ef278');\n",
              "        const dataTable =\n",
              "          await google.colab.kernel.invokeFunction('convertToInteractive',\n",
              "                                                    [key], {});\n",
              "        if (!dataTable) return;\n",
              "\n",
              "        const docLinkHtml = 'Like what you see? Visit the ' +\n",
              "          '<a target=\"_blank\" href=https://colab.research.google.com/notebooks/data_table.ipynb>data table notebook</a>'\n",
              "          + ' to learn more about interactive tables.';\n",
              "        element.innerHTML = '';\n",
              "        dataTable['output_type'] = 'display_data';\n",
              "        await google.colab.output.renderOutput(dataTable, element);\n",
              "        const docLink = document.createElement('div');\n",
              "        docLink.innerHTML = docLinkHtml;\n",
              "        element.appendChild(docLink);\n",
              "      }\n",
              "    </script>\n",
              "  </div>\n",
              "\n",
              "\n",
              "<div id=\"df-1f1154a9-d21e-4469-86d4-c2bd221c986e\">\n",
              "  <button class=\"colab-df-quickchart\" onclick=\"quickchart('df-1f1154a9-d21e-4469-86d4-c2bd221c986e')\"\n",
              "            title=\"Suggest charts\"\n",
              "            style=\"display:none;\">\n",
              "\n",
              "<svg xmlns=\"http://www.w3.org/2000/svg\" height=\"24px\"viewBox=\"0 0 24 24\"\n",
              "     width=\"24px\">\n",
              "    <g>\n",
              "        <path d=\"M19 3H5c-1.1 0-2 .9-2 2v14c0 1.1.9 2 2 2h14c1.1 0 2-.9 2-2V5c0-1.1-.9-2-2-2zM9 17H7v-7h2v7zm4 0h-2V7h2v10zm4 0h-2v-4h2v4z\"/>\n",
              "    </g>\n",
              "</svg>\n",
              "  </button>\n",
              "\n",
              "<style>\n",
              "  .colab-df-quickchart {\n",
              "      --bg-color: #E8F0FE;\n",
              "      --fill-color: #1967D2;\n",
              "      --hover-bg-color: #E2EBFA;\n",
              "      --hover-fill-color: #174EA6;\n",
              "      --disabled-fill-color: #AAA;\n",
              "      --disabled-bg-color: #DDD;\n",
              "  }\n",
              "\n",
              "  [theme=dark] .colab-df-quickchart {\n",
              "      --bg-color: #3B4455;\n",
              "      --fill-color: #D2E3FC;\n",
              "      --hover-bg-color: #434B5C;\n",
              "      --hover-fill-color: #FFFFFF;\n",
              "      --disabled-bg-color: #3B4455;\n",
              "      --disabled-fill-color: #666;\n",
              "  }\n",
              "\n",
              "  .colab-df-quickchart {\n",
              "    background-color: var(--bg-color);\n",
              "    border: none;\n",
              "    border-radius: 50%;\n",
              "    cursor: pointer;\n",
              "    display: none;\n",
              "    fill: var(--fill-color);\n",
              "    height: 32px;\n",
              "    padding: 0;\n",
              "    width: 32px;\n",
              "  }\n",
              "\n",
              "  .colab-df-quickchart:hover {\n",
              "    background-color: var(--hover-bg-color);\n",
              "    box-shadow: 0 1px 2px rgba(60, 64, 67, 0.3), 0 1px 3px 1px rgba(60, 64, 67, 0.15);\n",
              "    fill: var(--button-hover-fill-color);\n",
              "  }\n",
              "\n",
              "  .colab-df-quickchart-complete:disabled,\n",
              "  .colab-df-quickchart-complete:disabled:hover {\n",
              "    background-color: var(--disabled-bg-color);\n",
              "    fill: var(--disabled-fill-color);\n",
              "    box-shadow: none;\n",
              "  }\n",
              "\n",
              "  .colab-df-spinner {\n",
              "    border: 2px solid var(--fill-color);\n",
              "    border-color: transparent;\n",
              "    border-bottom-color: var(--fill-color);\n",
              "    animation:\n",
              "      spin 1s steps(1) infinite;\n",
              "  }\n",
              "\n",
              "  @keyframes spin {\n",
              "    0% {\n",
              "      border-color: transparent;\n",
              "      border-bottom-color: var(--fill-color);\n",
              "      border-left-color: var(--fill-color);\n",
              "    }\n",
              "    20% {\n",
              "      border-color: transparent;\n",
              "      border-left-color: var(--fill-color);\n",
              "      border-top-color: var(--fill-color);\n",
              "    }\n",
              "    30% {\n",
              "      border-color: transparent;\n",
              "      border-left-color: var(--fill-color);\n",
              "      border-top-color: var(--fill-color);\n",
              "      border-right-color: var(--fill-color);\n",
              "    }\n",
              "    40% {\n",
              "      border-color: transparent;\n",
              "      border-right-color: var(--fill-color);\n",
              "      border-top-color: var(--fill-color);\n",
              "    }\n",
              "    60% {\n",
              "      border-color: transparent;\n",
              "      border-right-color: var(--fill-color);\n",
              "    }\n",
              "    80% {\n",
              "      border-color: transparent;\n",
              "      border-right-color: var(--fill-color);\n",
              "      border-bottom-color: var(--fill-color);\n",
              "    }\n",
              "    90% {\n",
              "      border-color: transparent;\n",
              "      border-bottom-color: var(--fill-color);\n",
              "    }\n",
              "  }\n",
              "</style>\n",
              "\n",
              "  <script>\n",
              "    async function quickchart(key) {\n",
              "      const quickchartButtonEl =\n",
              "        document.querySelector('#' + key + ' button');\n",
              "      quickchartButtonEl.disabled = true;  // To prevent multiple clicks.\n",
              "      quickchartButtonEl.classList.add('colab-df-spinner');\n",
              "      try {\n",
              "        const charts = await google.colab.kernel.invokeFunction(\n",
              "            'suggestCharts', [key], {});\n",
              "      } catch (error) {\n",
              "        console.error('Error during call to suggestCharts:', error);\n",
              "      }\n",
              "      quickchartButtonEl.classList.remove('colab-df-spinner');\n",
              "      quickchartButtonEl.classList.add('colab-df-quickchart-complete');\n",
              "    }\n",
              "    (() => {\n",
              "      let quickchartButtonEl =\n",
              "        document.querySelector('#df-1f1154a9-d21e-4469-86d4-c2bd221c986e button');\n",
              "      quickchartButtonEl.style.display =\n",
              "        google.colab.kernel.accessAllowed ? 'block' : 'none';\n",
              "    })();\n",
              "  </script>\n",
              "</div>\n",
              "\n",
              "    </div>\n",
              "  </div>\n"
            ],
            "application/vnd.google.colaboratory.intrinsic+json": {
              "type": "dataframe",
              "summary": "{\n  \"name\": \"df\",\n  \"rows\": 5,\n  \"fields\": [\n    {\n      \"column\": \"age\",\n      \"properties\": {\n        \"dtype\": \"number\",\n        \"std\": 11,\n        \"min\": 37,\n        \"max\": 63,\n        \"num_unique_values\": 5,\n        \"samples\": [\n          37,\n          57,\n          41\n        ],\n        \"semantic_type\": \"\",\n        \"description\": \"\"\n      }\n    },\n    {\n      \"column\": \"sex\",\n      \"properties\": {\n        \"dtype\": \"number\",\n        \"std\": 0,\n        \"min\": 0,\n        \"max\": 1,\n        \"num_unique_values\": 2,\n        \"samples\": [\n          0,\n          1\n        ],\n        \"semantic_type\": \"\",\n        \"description\": \"\"\n      }\n    },\n    {\n      \"column\": \"cp\",\n      \"properties\": {\n        \"dtype\": \"number\",\n        \"std\": 1,\n        \"min\": 0,\n        \"max\": 3,\n        \"num_unique_values\": 4,\n        \"samples\": [\n          2,\n          0\n        ],\n        \"semantic_type\": \"\",\n        \"description\": \"\"\n      }\n    },\n    {\n      \"column\": \"trestbps\",\n      \"properties\": {\n        \"dtype\": \"number\",\n        \"std\": 10,\n        \"min\": 120,\n        \"max\": 145,\n        \"num_unique_values\": 3,\n        \"samples\": [\n          145,\n          130\n        ],\n        \"semantic_type\": \"\",\n        \"description\": \"\"\n      }\n    },\n    {\n      \"column\": \"chol\",\n      \"properties\": {\n        \"dtype\": \"number\",\n        \"std\": 57,\n        \"min\": 204,\n        \"max\": 354,\n        \"num_unique_values\": 5,\n        \"samples\": [\n          250,\n          354\n        ],\n        \"semantic_type\": \"\",\n        \"description\": \"\"\n      }\n    },\n    {\n      \"column\": \"fbs\",\n      \"properties\": {\n        \"dtype\": \"number\",\n        \"std\": 0,\n        \"min\": 0,\n        \"max\": 1,\n        \"num_unique_values\": 2,\n        \"samples\": [\n          0,\n          1\n        ],\n        \"semantic_type\": \"\",\n        \"description\": \"\"\n      }\n    },\n    {\n      \"column\": \"restecg\",\n      \"properties\": {\n        \"dtype\": \"number\",\n        \"std\": 0,\n        \"min\": 0,\n        \"max\": 1,\n        \"num_unique_values\": 2,\n        \"samples\": [\n          1,\n          0\n        ],\n        \"semantic_type\": \"\",\n        \"description\": \"\"\n      }\n    },\n    {\n      \"column\": \"thalach\",\n      \"properties\": {\n        \"dtype\": \"number\",\n        \"std\": 14,\n        \"min\": 150,\n        \"max\": 187,\n        \"num_unique_values\": 5,\n        \"samples\": [\n          187,\n          163\n        ],\n        \"semantic_type\": \"\",\n        \"description\": \"\"\n      }\n    },\n    {\n      \"column\": \"exang\",\n      \"properties\": {\n        \"dtype\": \"number\",\n        \"std\": 0,\n        \"min\": 0,\n        \"max\": 1,\n        \"num_unique_values\": 2,\n        \"samples\": [\n          1,\n          0\n        ],\n        \"semantic_type\": \"\",\n        \"description\": \"\"\n      }\n    },\n    {\n      \"column\": \"oldpeak\",\n      \"properties\": {\n        \"dtype\": \"number\",\n        \"std\": 1.1945710527214362,\n        \"min\": 0.6,\n        \"max\": 3.5,\n        \"num_unique_values\": 5,\n        \"samples\": [\n          3.5,\n          0.6\n        ],\n        \"semantic_type\": \"\",\n        \"description\": \"\"\n      }\n    },\n    {\n      \"column\": \"slope\",\n      \"properties\": {\n        \"dtype\": \"number\",\n        \"std\": 1,\n        \"min\": 0,\n        \"max\": 2,\n        \"num_unique_values\": 2,\n        \"samples\": [\n          2,\n          0\n        ],\n        \"semantic_type\": \"\",\n        \"description\": \"\"\n      }\n    },\n    {\n      \"column\": \"ca\",\n      \"properties\": {\n        \"dtype\": \"number\",\n        \"std\": 0,\n        \"min\": 0,\n        \"max\": 0,\n        \"num_unique_values\": 1,\n        \"samples\": [\n          0\n        ],\n        \"semantic_type\": \"\",\n        \"description\": \"\"\n      }\n    },\n    {\n      \"column\": \"thal\",\n      \"properties\": {\n        \"dtype\": \"number\",\n        \"std\": 0,\n        \"min\": 1,\n        \"max\": 2,\n        \"num_unique_values\": 2,\n        \"samples\": [\n          2\n        ],\n        \"semantic_type\": \"\",\n        \"description\": \"\"\n      }\n    },\n    {\n      \"column\": \"target\",\n      \"properties\": {\n        \"dtype\": \"number\",\n        \"std\": 0,\n        \"min\": 1,\n        \"max\": 1,\n        \"num_unique_values\": 1,\n        \"samples\": [\n          1\n        ],\n        \"semantic_type\": \"\",\n        \"description\": \"\"\n      }\n    }\n  ]\n}"
            }
          },
          "metadata": {},
          "execution_count": 15
        }
      ],
      "source": [
        "import pandas as pd\n",
        "\n",
        "df = pd.read_csv('https://raw.githubusercontent.com/talamo13/Intro-To-Data-Science-Assignments/Heart-Disease-%233/Heart-Disease-Data.csv')\n",
        "df.iloc[0:5]"
      ]
    },
    {
      "cell_type": "markdown",
      "source": [
        "##**Assignment 3**"
      ],
      "metadata": {
        "id": "CbIpZMKtGUG5"
      }
    },
    {
      "cell_type": "markdown",
      "source": [
        "**Statistical Inference for One Sample Proportion and Mean**\n",
        "\n",
        "This assignment is on inferential statistics. Use SPSS to conduct the analysis and complete each of the following questions. As appropriate, copy the SPSS output and paste it into the correct part below. For problems that require a written response, type the answer below."
      ],
      "metadata": {
        "id": "lA4OIlJIGbk9"
      }
    },
    {
      "cell_type": "markdown",
      "source": [
        "###**Last Name: A-L**"
      ],
      "metadata": {
        "id": "VkFXOVuCGhen"
      }
    },
    {
      "cell_type": "markdown",
      "source": [
        "####**Question 1**"
      ],
      "metadata": {
        "id": "V0PxWKuMGmyo"
      }
    },
    {
      "cell_type": "markdown",
      "source": [
        "Construct and interpret the 95% confidence interval for the population proportion of patients who displayed normal resting electrocardiographic results. Write up the solution using the PMACC procedure."
      ],
      "metadata": {
        "id": "bjEkvF4-Gsbt"
      }
    },
    {
      "cell_type": "code",
      "source": [
        "from scipy import stats\n",
        "# Filter the DataFrame to include only patients with normal resting electrocardiographic results\n",
        "normal_ecg_patients = df[df['restecg'] == 'normal']\n",
        "\n",
        "# Count the number of patients with normal resting electrocardiographic results\n",
        "n_normal_ecg = len(normal_ecg_patients)\n",
        "\n",
        "# Total number of patients\n",
        "n_total = len(df)\n",
        "\n",
        "# Sample proportion of patients with normal resting electrocardiographic results\n",
        "sample_proportion = n_normal_ecg / n_total\n",
        "\n",
        "# Significance level (alpha)\n",
        "alpha = 0.05\n",
        "\n",
        "# Calculate the standard error of the proportion (SE)\n",
        "SE = (sample_proportion * (1 - sample_proportion) / n_total) ** 0.5\n",
        "\n",
        "# Find the z-value for a 95% confidence interval\n",
        "z_value = stats.norm.ppf(1 - alpha/2)\n",
        "\n",
        "# Calculate the margin of error (ME)\n",
        "ME = z_value * SE\n",
        "\n",
        "# Calculate the confidence interval (CI)\n",
        "confidence_interval = (sample_proportion - ME, sample_proportion + ME)\n",
        "\n",
        "# Write up the solution\n",
        "print(\"PMACC Procedure:\")\n",
        "print(\"Data Summary:\")\n",
        "print(\"Sample Proportion (p̂):\", sample_proportion)\n",
        "print(\"Sample Size (n):\", n_total)\n",
        "print(\"Significance Level (α):\", alpha)\n",
        "print(\"\\nConfidence Interval:\")"
      ],
      "metadata": {
        "id": "LYS1QTFwHOLE",
        "outputId": "f9a675db-2fc5-46e4-966c-fe00d47b2c0b",
        "colab": {
          "base_uri": "https://localhost:8080/"
        }
      },
      "execution_count": 16,
      "outputs": [
        {
          "output_type": "stream",
          "name": "stdout",
          "text": [
            "PMACC Procedure:\n",
            "Data Summary:\n",
            "Sample Proportion (p̂): 0.0\n",
            "Sample Size (n): 303\n",
            "Significance Level (α): 0.05\n",
            "\n",
            "Confidence Interval:\n"
          ]
        }
      ]
    },
    {
      "cell_type": "markdown",
      "source": [
        "####**Question 2**"
      ],
      "metadata": {
        "id": "-kqQjtR0GtRq"
      }
    },
    {
      "cell_type": "markdown",
      "source": [
        "Total cholesterol levels under 200 mg/dl are healthy for adults. Doctors treat readings of 200–239 mg/dl as borderline high, and readings of at least 240 mg/dl as high. Is there convincing evidence that the population mean cholesterol level of patients is at least 240 mg/dl? Use α=0.05. Write up the solution using the PMACC procedure."
      ],
      "metadata": {
        "id": "JxSTE-9gGxAx"
      }
    },
    {
      "cell_type": "code",
      "source": [
        "# Extract the cholesterol levels column\n",
        "cholesterol_levels = df['chol']\n",
        "\n",
        "# Calculate the sample mean and standard deviation\n",
        "sample_mean = cholesterol_levels.mean()\n",
        "sample_std = cholesterol_levels.std(ddof=1)  # Use ddof=1 for sample standard deviation\n",
        "\n",
        "# Sample size\n",
        "n = len(cholesterol_levels)\n",
        "\n",
        "# Hypothesized population mean\n",
        "mu_0 = 240\n",
        "\n",
        "# Significance level (alpha)\n",
        "alpha = 0.05\n",
        "\n",
        "# Calculate the t-statistic\n",
        "t_statistic = (sample_mean - mu_0) / (sample_std / (n ** 0.5))\n",
        "\n",
        "# Degrees of freedom\n",
        "df = n - 1\n",
        "\n",
        "# Find the critical t-value for a one-tailed test with alpha=0.05 and df degrees of freedom\n",
        "critical_t_value = stats.t.ppf(1 - alpha, df)\n",
        "\n",
        "# Write up the solution\n",
        "print(\"PMACC Procedure:\")\n",
        "print(\"Hypotheses:\")\n",
        "print(\"H0: The population mean cholesterol level of patients is less than 240 mg/dl.\")\n",
        "print(\"H1: The population mean cholesterol level of patients is at least 240 mg/dl.\")\n",
        "print(\"\\nData Summary:\")\n",
        "print(\"Sample Mean (x̄):\", sample_mean)\n",
        "print(\"Sample Standard Deviation (s):\", sample_std)\n",
        "print(\"Sample Size (n):\", n)\n",
        "print(\"Hypothesized Population Mean (μ0):\", mu_0)\n",
        "print(\"Significance Level (α):\", alpha)\n",
        "print(\"\\nTest Statistic:\")\n",
        "print(\"t-statistic:\", t_statistic)\n",
        "print(\"\\nCritical t-value:\")\n",
        "print(\"critical t-value:\", critical_t_value)"
      ],
      "metadata": {
        "id": "rN3nxgHdHOfR",
        "outputId": "b6cbb12c-dd8f-4d2f-fc82-3974706742cd",
        "colab": {
          "base_uri": "https://localhost:8080/"
        }
      },
      "execution_count": 17,
      "outputs": [
        {
          "output_type": "stream",
          "name": "stdout",
          "text": [
            "PMACC Procedure:\n",
            "Hypotheses:\n",
            "H0: The population mean cholesterol level of patients is less than 240 mg/dl.\n",
            "H1: The population mean cholesterol level of patients is at least 240 mg/dl.\n",
            "\n",
            "Data Summary:\n",
            "Sample Mean (x̄): 246.26402640264027\n",
            "Sample Standard Deviation (s): 51.83075098793003\n",
            "Sample Size (n): 303\n",
            "Hypothesized Population Mean (μ0): 240\n",
            "Significance Level (α): 0.05\n",
            "\n",
            "Test Statistic:\n",
            "t-statistic: 2.1037173676209817\n",
            "\n",
            "Critical t-value:\n",
            "critical t-value: 1.6499148276145903\n"
          ]
        }
      ]
    },
    {
      "cell_type": "markdown",
      "source": [
        "###**Last Name: M-Z**"
      ],
      "metadata": {
        "id": "zeJ8XAiNG4I6"
      }
    },
    {
      "cell_type": "markdown",
      "source": [
        "####**Question 1**"
      ],
      "metadata": {
        "id": "X56i8DitG94n"
      }
    },
    {
      "cell_type": "markdown",
      "source": [
        "Construct and interpret the 95% confidence interval for the population mean cholesterol level of patients. Write up the solution using the PMACC procedure."
      ],
      "metadata": {
        "id": "ezM6pJ2XG_xF"
      }
    },
    {
      "cell_type": "code",
      "source": [
        "# Calculate the sample mean and standard deviation\n",
        "sample_mean = cholesterol_levels.mean()\n",
        "sample_std = cholesterol_levels.std(ddof=1)  # Use ddof=1 for sample standard deviation\n",
        "\n",
        "# Sample size\n",
        "n = len(cholesterol_levels)\n",
        "\n",
        "# Significance level (alpha)\n",
        "alpha = 0.05\n",
        "\n",
        "# Calculate the standard error of the mean (SE)\n",
        "SE = sample_std / (n ** 0.5)\n",
        "\n",
        "# Degrees of freedom\n",
        "df = n - 1\n",
        "\n",
        "# Find the t-value for a 95% confidence interval and df degrees of freedom\n",
        "t_value = stats.t.ppf(1 - alpha/2, df)\n",
        "\n",
        "# Calculate the margin of error (ME)\n",
        "ME = t_value * SE\n",
        "\n",
        "# Calculate the confidence interval (CI)\n",
        "confidence_interval = (sample_mean - ME, sample_mean + ME)\n",
        "\n",
        "# Write up the solution\n",
        "print(\"PMACC Procedure:\")\n",
        "print(\"Data Summary:\")\n",
        "print(\"Sample Mean (x̄):\", sample_mean)\n",
        "print(\"Sample Standard Deviation (s):\", sample_std)\n",
        "print(\"Sample Size (n):\", n)\n",
        "print(\"Significance Level (α):\", alpha)\n",
        "print(\"\\nConfidence Interval:\")\n",
        "print(\"95% Confidence Interval (CI):\", confidence_interval)"
      ],
      "metadata": {
        "id": "fRcf6DDbG602",
        "outputId": "52ce143c-8270-4060-816f-7b4587d591b3",
        "colab": {
          "base_uri": "https://localhost:8080/"
        }
      },
      "execution_count": 18,
      "outputs": [
        {
          "output_type": "stream",
          "name": "stdout",
          "text": [
            "PMACC Procedure:\n",
            "Data Summary:\n",
            "Sample Mean (x̄): 246.26402640264027\n",
            "Sample Standard Deviation (s): 51.83075098793003\n",
            "Sample Size (n): 303\n",
            "Significance Level (α): 0.05\n",
            "\n",
            "Confidence Interval:\n",
            "95% Confidence Interval (CI): (240.40455783980744, 252.1234949654731)\n"
          ]
        }
      ]
    },
    {
      "cell_type": "markdown",
      "source": [
        "####**Question 2**"
      ],
      "metadata": {
        "id": "Sfk0TN9tHAj_"
      }
    },
    {
      "cell_type": "markdown",
      "source": [
        "Is there convincing evidence that the population proportion of individuals who displayed normal resting electrocardiographic results exceeds 50%? Use α=0.1. Write up the solution using the PMACC procedure."
      ],
      "metadata": {
        "id": "mUMhhCQnHFKv"
      }
    },
    {
      "cell_type": "code",
      "source": [
        "# Count the number of individuals with normal resting electrocardiographic results\n",
        "n_normal_ecg = len(normal_ecg_patients)\n",
        "\n",
        "# Total number of individuals\n",
        "n_total = 302\n",
        "\n",
        "# Sample proportion of individuals with normal resting electrocardiographic results\n",
        "sample_proportion = n_normal_ecg / n_total\n",
        "\n",
        "# Hypothesized proportion\n",
        "p_0 = 0.50\n",
        "\n",
        "# Significance level (alpha)\n",
        "alpha = 0.10\n",
        "\n",
        "# Calculate the standard error of the proportion (SE)\n",
        "SE = (p_0 * (1 - p_0) / n_total) ** 0.5\n",
        "\n",
        "# Calculate the z-statistic\n",
        "z_statistic = (sample_proportion - p_0) / SE\n",
        "\n",
        "# Find the critical z-value for a one-tailed test with alpha=0.10\n",
        "critical_z_value = stats.norm.ppf(1 - alpha)\n",
        "\n",
        "# Compare the z-statistic with the critical z-value\n",
        "if z_statistic > critical_z_value:\n",
        "    decision = \"Reject the null hypothesis. There is convincing evidence that the population proportion of individuals who displayed normal resting electrocardiographic results exceeds 50%.\"\n",
        "else:\n",
        "    decision = \"Fail to reject the null hypothesis. There is not enough evidence to conclude that the population proportion exceeds 50%.\"\n",
        "\n",
        "# Write up the solution\n",
        "print(\"PMACC Procedure:\")\n",
        "print(\"Hypotheses:\")\n",
        "print(\"H0: The population proportion of individuals who displayed normal resting electrocardiographic results is 50% or less.\")\n",
        "print(\"H1: The population proportion of individuals who displayed normal resting electrocardiographic results exceeds 50%.\")\n",
        "print(\"\\nData Summary:\")\n",
        "print(\"Sample Proportion (p̂):\", sample_proportion)\n",
        "print(\"Sample Size (n):\", n_total)\n",
        "print(\"Hypothesized Proportion (p0):\", p_0)\n",
        "print(\"Significance Level (α):\", alpha)\n",
        "print(\"\\nTest Statistic:\")\n",
        "print(\"z-statistic:\", z_statistic)\n",
        "print(\"\\nCritical z-value:\")\n",
        "print(\"critical z-value:\", critical_z_value)"
      ],
      "metadata": {
        "id": "HOKGxj2-HB_B",
        "outputId": "a5ea6035-caec-46fb-c85d-6d7aa847df41",
        "colab": {
          "base_uri": "https://localhost:8080/"
        }
      },
      "execution_count": 24,
      "outputs": [
        {
          "output_type": "stream",
          "name": "stdout",
          "text": [
            "PMACC Procedure:\n",
            "Hypotheses:\n",
            "H0: The population proportion of individuals who displayed normal resting electrocardiographic results is 50% or less.\n",
            "H1: The population proportion of individuals who displayed normal resting electrocardiographic results exceeds 50%.\n",
            "\n",
            "Data Summary:\n",
            "Sample Proportion (p̂): 0.0\n",
            "Sample Size (n): 302\n",
            "Hypothesized Proportion (p0): 0.5\n",
            "Significance Level (α): 0.1\n",
            "\n",
            "Test Statistic:\n",
            "z-statistic: -17.378147196982766\n",
            "\n",
            "Critical z-value:\n",
            "critical z-value: 1.2815515655446004\n"
          ]
        }
      ]
    },
    {
      "cell_type": "markdown",
      "source": [
        "###**Everyone**"
      ],
      "metadata": {
        "id": "XYSHLaNXHHYC"
      }
    },
    {
      "cell_type": "markdown",
      "source": [
        "Generate a paragraph of at least 100 words to address one of the following questions:\n",
        "\n",
        "1. Discuss how analyzing your chosen data set using statistical methods could help you become better prepared for future courses in your major.\n",
        "\n",
        "2. Discuss how analyzing your chosen data set using statistical methods could be instrumental in becoming better prepared for your future career."
      ],
      "metadata": {
        "id": "lScss23pHLfy"
      }
    }
  ]
}