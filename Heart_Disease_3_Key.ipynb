{
  "nbformat": 4,
  "nbformat_minor": 0,
  "metadata": {
    "colab": {
      "provenance": [],
      "authorship_tag": "ABX9TyO7T5dXiFc5L47zFKDHJP6S",
      "include_colab_link": true
    },
    "kernelspec": {
      "name": "python3",
      "display_name": "Python 3"
    },
    "language_info": {
      "name": "python"
    }
  },
  "cells": [
    {
      "cell_type": "markdown",
      "metadata": {
        "id": "view-in-github",
        "colab_type": "text"
      },
      "source": [
        "<a href=\"https://colab.research.google.com/github/talamo13/Intro-To-Data-Science-Assignments/blob/Heart-Disease-%233/Heart_Disease_3_Key.ipynb\" target=\"_parent\"><img src=\"https://colab.research.google.com/assets/colab-badge.svg\" alt=\"Open In Colab\"/></a>"
      ]
    },
    {
      "cell_type": "markdown",
      "source": [
        "#**Heart Disease Data Set**\n",
        "\n"
      ],
      "metadata": {
        "id": "mEX3nE3jDd1L"
      }
    },
    {
      "cell_type": "markdown",
      "source": [
        "##**Context**"
      ],
      "metadata": {
        "id": "FY3fagEOFQfm"
      }
    },
    {
      "cell_type": "markdown",
      "source": [
        "Coronary heart disease (CHD) involves the reduction of blood flow to the heart muscle due to the build-up of plaque in the arteries of the heart. It is the most common form of cardiovascular disease. Currently, invasive coronary angiography represents the gold standard for establishing the presence, location, and severity of CAD, however, this diagnostic method is costly and associated with morbidity and mortality in CAD patients. Therefore, it would be beneficial to develop a non-invasive alternative to replace the current gold standard.\n",
        "\n",
        "Other less invasive diagnostics methods have been proposed in the scientific literature including exercise electrocardiogram, thallium scintigraphy, and fluoroscopy of coronary calcification. However, the diagnostic accuracy of these tests only ranges between 35%-75%. Therefore, it would be beneficial to develop a computer-aided diagnostic tool that could utilize the combined results of these non-invasive tests in conjunction with other patient attributes to boost the diagnostic power of these non-invasive methods with the aim of ultimately replacing the current invasive gold standard.\n",
        "\n",
        "A number of 303 consecutive patients referred for coronary angiography at the Cleveland Clinic between May 1981 and September 1984 participated in the experiment. No patient had a history or electrocardiographic evidence of prior myocardial infarction or known valvular or cardiomyopathic diseases."
      ],
      "metadata": {
        "id": "mbuIeCLSFUwP"
      }
    },
    {
      "cell_type": "markdown",
      "source": [
        "##**About Dataset**"
      ],
      "metadata": {
        "id": "mW0_Nts2FWn5"
      }
    },
    {
      "cell_type": "markdown",
      "source": [
        "The dataset comprises 303 observations, 13 features, and 1 target attribute. The 13 features include the results of the aforementioned non-invasive diagnostic tests along with other relevant patient information. The target variable includes the result of the invasive coronary angiogram which represents the presence or absence of coronary artery disease in the patient. The 14 variables (13 features and 1 target attribute) are described below."
      ],
      "metadata": {
        "id": "WkqRgvJYFap7"
      }
    },
    {
      "cell_type": "markdown",
      "source": [
        "1. AGE: displays the age of the individual.\n",
        "\n",
        "2. SEX: displays the gender of the individual using the following format:\n",
        "    - 1 = male\n",
        "    - 0 = female\n",
        "\n",
        "3. CP: displays the type of chest-pain experienced by the individual using the following format:\n",
        "    - 0 = typical angina\n",
        "    - 1 = atypical angina\n",
        "    - 2 = non — anginal pain\n",
        "    - 3 = asymptotic\n",
        "\n",
        "4. TRESTBPS: displays the resting blood pressure value of an individual in mmHg (unit)\n",
        "\n",
        "5. CHOL: displays the serum cholesterol in mg/dl (unit)\n",
        "\n",
        "6. FBS: compares the fasting blood sugar value of an individual with 120mg/dl.  \n",
        "    - 1: fasting blood sugar >120mg/dl\n",
        "    - 0: fasting blood sugar ≤ 120mg/dl\n",
        "\n",
        "7. RESTECG: displays resting electrocardiographic results\n",
        "    - 0 = normal\n",
        "    - 1 = having ST-T wave abnormality\n",
        "    - 2 = left ventricular hyperthrophy\n",
        "\n",
        "8. THALACH: displays the max heart rate achieved by an individual.\n",
        "\n",
        "9. EXANG: Exercise induced angina\n",
        "    - 1 = yes\n",
        "    - 0 = no\n",
        "\n",
        "10. OLDPEAK ST depression induced by exercise relative to rest. Displays the value which is an integer or float.\n",
        "\n",
        "11. SLOPE: Peak exercise ST segment\n",
        "    - 1 = upsloping\n",
        "    - 2 = flat\n",
        "    - 3 = downsloping\n",
        "\n",
        "12. CA: Number of major vessels (0-3) colored by fluoroscopy. Displays the value as integer or float.\n",
        "\n",
        "13. THAL: Displays the thalassemia\n",
        "    - 1 = normal\n",
        "    - 2 = fixed defect\n",
        "    - 3 = reversible defect\n",
        "\n",
        "14. TARGET: Displays whether the individual is suffering from heart disease or not :\n",
        "    - 0 = absence\n",
        "    - 1 = present."
      ],
      "metadata": {
        "id": "O4XH1h-4Fd07"
      }
    },
    {
      "cell_type": "markdown",
      "source": [
        "The data was collected by Robert Detrano, M.D., Ph.D. of the Cleveland Clinic Foundation. See the Appendix at the end of this document for more details on why these variables are used to analyze CHD. Attribution: UCI Machine Learning Repository\n",
        "\n",
        "A snippet of the data is as follows"
      ],
      "metadata": {
        "id": "TmhDTBOxGD_y"
      }
    },
    {
      "cell_type": "code",
      "execution_count": 1,
      "metadata": {
        "id": "VFKvVzZTDU11"
      },
      "outputs": [],
      "source": [
        "# write snippet code, import pandas as pd and create a DataFrame"
      ]
    },
    {
      "cell_type": "markdown",
      "source": [
        "##**Assignment 3**"
      ],
      "metadata": {
        "id": "CbIpZMKtGUG5"
      }
    },
    {
      "cell_type": "markdown",
      "source": [
        "**Statistical Inference for One Sample Proportion and Mean**\n",
        "\n",
        "This assignment is on inferential statistics. Use SPSS to conduct the analysis and complete each of the following questions. As appropriate, copy the SPSS output and paste it into the correct part below. For problems that require a written response, type the answer below."
      ],
      "metadata": {
        "id": "lA4OIlJIGbk9"
      }
    },
    {
      "cell_type": "markdown",
      "source": [
        "###**Last Name: A-L**"
      ],
      "metadata": {
        "id": "VkFXOVuCGhen"
      }
    },
    {
      "cell_type": "markdown",
      "source": [
        "####**Question 1**"
      ],
      "metadata": {
        "id": "V0PxWKuMGmyo"
      }
    },
    {
      "cell_type": "markdown",
      "source": [
        "Construct and interpret the 95% confidence interval for the population proportion of patients who displayed normal resting electrocardiographic results. Write up the solution using the PMACC procedure."
      ],
      "metadata": {
        "id": "bjEkvF4-Gsbt"
      }
    },
    {
      "cell_type": "code",
      "source": [],
      "metadata": {
        "id": "LYS1QTFwHOLE"
      },
      "execution_count": null,
      "outputs": []
    },
    {
      "cell_type": "markdown",
      "source": [
        "####**Question 2**"
      ],
      "metadata": {
        "id": "-kqQjtR0GtRq"
      }
    },
    {
      "cell_type": "markdown",
      "source": [
        "Total cholesterol levels under 200 mg/dl are healthy for adults. Doctors treat readings of 200–239 mg/dl as borderline high, and readings of at least 240 mg/dl as high. Is there convincing evidence that the population mean cholesterol level of patients is at least 240 mg/dl? Use α=0.05. Write up the solution using the PMACC procedure."
      ],
      "metadata": {
        "id": "JxSTE-9gGxAx"
      }
    },
    {
      "cell_type": "code",
      "source": [],
      "metadata": {
        "id": "rN3nxgHdHOfR"
      },
      "execution_count": null,
      "outputs": []
    },
    {
      "cell_type": "markdown",
      "source": [
        "###**Last Name: M-Z**"
      ],
      "metadata": {
        "id": "zeJ8XAiNG4I6"
      }
    },
    {
      "cell_type": "markdown",
      "source": [
        "####**Question 1**"
      ],
      "metadata": {
        "id": "X56i8DitG94n"
      }
    },
    {
      "cell_type": "markdown",
      "source": [
        "Construct and interpret the 95% confidence interval for the population mean cholesterol level of patients. Write up the solution using the PMACC procedure."
      ],
      "metadata": {
        "id": "ezM6pJ2XG_xF"
      }
    },
    {
      "cell_type": "code",
      "source": [],
      "metadata": {
        "id": "fRcf6DDbG602"
      },
      "execution_count": null,
      "outputs": []
    },
    {
      "cell_type": "markdown",
      "source": [
        "####**Question 2**"
      ],
      "metadata": {
        "id": "Sfk0TN9tHAj_"
      }
    },
    {
      "cell_type": "markdown",
      "source": [
        "Is there convincing evidence that the population proportion of individuals who displayed normal resting electrocardiographic results exceeds 50%? Use α=0.1. Write up the solution using the PMACC procedure."
      ],
      "metadata": {
        "id": "mUMhhCQnHFKv"
      }
    },
    {
      "cell_type": "code",
      "source": [],
      "metadata": {
        "id": "HOKGxj2-HB_B"
      },
      "execution_count": null,
      "outputs": []
    },
    {
      "cell_type": "markdown",
      "source": [
        "###**Everyone**"
      ],
      "metadata": {
        "id": "XYSHLaNXHHYC"
      }
    },
    {
      "cell_type": "markdown",
      "source": [
        "Generate a paragraph of at least 100 words to address one of the following questions:\n",
        "\n",
        "1. Discuss how analyzing your chosen data set using statistical methods could help you become better prepared for future courses in your major.\n",
        "\n",
        "2. Discuss how analyzing your chosen data set using statistical methods could be instrumental in becoming better prepared for your future career."
      ],
      "metadata": {
        "id": "lScss23pHLfy"
      }
    }
  ]
}